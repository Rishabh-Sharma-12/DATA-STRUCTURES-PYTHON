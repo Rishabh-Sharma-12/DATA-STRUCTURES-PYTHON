{
 "cells": [
  {
   "cell_type": "code",
   "execution_count": 1,
   "metadata": {},
   "outputs": [
    {
     "name": "stdout",
     "output_type": "stream",
     "text": [
      "1 2 3 4 3 2 1 "
     ]
    }
   ],
   "source": [
    "def f(count):\n",
    "    print(count,end=\" \")\n",
    "    if(count==4):\n",
    "        return\n",
    "    f(count+1)\n",
    "    print(count,end=\" \")\n",
    "    \n",
    "count=1\n",
    "f(count)"
   ]
  },
  {
   "cell_type": "code",
   "execution_count": 17,
   "metadata": {},
   "outputs": [],
   "source": [
    "nums=[0,1]\n",
    "count=0\n",
    "nums[:]=sorted(nums)\n",
    "for i in range(len(nums)):\n",
    "    count+=1\n",
    "    if i!=nums[i]:\n",
    "        print(i)\n",
    "    elif len(nums)==count:\n",
    "        print(i+1)\n",
    "    "
   ]
  },
  {
   "cell_type": "code",
   "execution_count": 31,
   "metadata": {},
   "outputs": [
    {
     "name": "stdout",
     "output_type": "stream",
     "text": [
      "False\n",
      "True\n"
     ]
    }
   ],
   "source": [
    "a={}\n",
    "nums=[1,2,3,1]\n",
    "for i in range(len(nums)):\n",
    "    a[nums[i]]=1+a.get(nums[i],0)\n",
    "a\n",
    "for i in a.values():\n",
    "    if i!=1:\n",
    "        print(False)\n",
    "\n",
    "print(True)"
   ]
  },
  {
   "cell_type": "code",
   "execution_count": 1,
   "metadata": {},
   "outputs": [
    {
     "data": {
      "text/plain": [
       "[4, 9]"
      ]
     },
     "execution_count": 1,
     "metadata": {},
     "output_type": "execute_result"
    }
   ],
   "source": [
    "nums1=[4,9,5]\n",
    "nums2 = [9,4,9,8,4]\n",
    "# if len(nums1)>len(nums2):\n",
    "k=list(set(nums2).intersection(set(nums1)))\n",
    "\n",
    "nums1[0:-1]"
   ]
  },
  {
   "cell_type": "code",
   "execution_count": 13,
   "metadata": {},
   "outputs": [
    {
     "name": "stdout",
     "output_type": "stream",
     "text": [
      "[[]]\n",
      "[[4]]\n",
      "[[], [4]]\n",
      "[[3], [3, 4]]\n",
      "[[], [4], [3], [3, 4]]\n",
      "[[2], [2, 4], [2, 3], [2, 3, 4]]\n",
      "[[], [4], [3], [3, 4], [2], [2, 4], [2, 3], [2, 3, 4]]\n",
      "[[1], [1, 4], [1, 3], [1, 3, 4], [1, 2], [1, 2, 4], [1, 2, 3], [1, 2, 3, 4]]\n"
     ]
    },
    {
     "data": {
      "text/plain": [
       "[[],\n",
       " [4],\n",
       " [3],\n",
       " [3, 4],\n",
       " [2],\n",
       " [2, 4],\n",
       " [2, 3],\n",
       " [2, 3, 4],\n",
       " [1],\n",
       " [1, 4],\n",
       " [1, 3],\n",
       " [1, 3, 4],\n",
       " [1, 2],\n",
       " [1, 2, 4],\n",
       " [1, 2, 3],\n",
       " [1, 2, 3, 4]]"
      ]
     },
     "execution_count": 13,
     "metadata": {},
     "output_type": "execute_result"
    }
   ],
   "source": [
    "def subs(arr):\n",
    "    if arr==[]:\n",
    "        return [[]]\n",
    "    x=subs(arr[1:])\n",
    "    print(x)\n",
    "    print([[arr[0]]+ y for y in x])\n",
    "    return x+[[arr[0]]+ y for y in x]\n",
    "    \n",
    "a=[1,2,3,4]\n",
    "subs(a)        \n",
    "        \n",
    "    "
   ]
  },
  {
   "cell_type": "code",
   "execution_count": 11,
   "metadata": {},
   "outputs": [
    {
     "ename": "AttributeError",
     "evalue": "'list' object has no attribute 'shape'",
     "output_type": "error",
     "traceback": [
      "\u001b[0;31m---------------------------------------------------------------------------\u001b[0m",
      "\u001b[0;31mAttributeError\u001b[0m                            Traceback (most recent call last)",
      "Cell \u001b[0;32mIn[11], line 2\u001b[0m\n\u001b[1;32m      1\u001b[0m mat \u001b[38;5;241m=\u001b[39m [[\u001b[38;5;241m1\u001b[39m, \u001b[38;5;241m0\u001b[39m, \u001b[38;5;241m0\u001b[39m, \u001b[38;5;241m0\u001b[39m], [\u001b[38;5;241m1\u001b[39m, \u001b[38;5;241m1\u001b[39m, \u001b[38;5;241m0\u001b[39m, \u001b[38;5;241m1\u001b[39m], [\u001b[38;5;241m1\u001b[39m, \u001b[38;5;241m1\u001b[39m, \u001b[38;5;241m0\u001b[39m, \u001b[38;5;241m0\u001b[39m], [\u001b[38;5;241m0\u001b[39m, \u001b[38;5;241m1\u001b[39m, \u001b[38;5;241m1\u001b[39m, \u001b[38;5;241m1\u001b[39m]]\n\u001b[0;32m----> 2\u001b[0m \u001b[43mmat\u001b[49m\u001b[38;5;241;43m.\u001b[39;49m\u001b[43mshape\u001b[49m\n",
      "\u001b[0;31mAttributeError\u001b[0m: 'list' object has no attribute 'shape'"
     ]
    }
   ],
   "source": [
    "mat = [[1, 0, 0, 0], [1, 1, 0, 1], [1, 1, 0, 0], [0, 1, 1, 1]]\n"
   ]
  },
  {
   "cell_type": "code",
   "execution_count": 26,
   "metadata": {},
   "outputs": [
    {
     "name": "stdout",
     "output_type": "stream",
     "text": [
      "True\n",
      "True\n"
     ]
    },
    {
     "ename": "NameError",
     "evalue": "name 's' is not defined",
     "output_type": "error",
     "traceback": [
      "\u001b[0;31m---------------------------------------------------------------------------\u001b[0m",
      "\u001b[0;31mNameError\u001b[0m                                 Traceback (most recent call last)",
      "Cell \u001b[0;32mIn[26], line 10\u001b[0m\n\u001b[1;32m      7\u001b[0m             \u001b[38;5;28mprint\u001b[39m(\u001b[38;5;124m\"\u001b[39m\u001b[38;5;124mtrue\u001b[39m\u001b[38;5;124m\"\u001b[39m)\n\u001b[1;32m      9\u001b[0m \u001b[38;5;28;01melse\u001b[39;00m:\n\u001b[0;32m---> 10\u001b[0m     \u001b[38;5;28mprint\u001b[39m(\u001b[43ms\u001b[49m)\n",
      "\u001b[0;31mNameError\u001b[0m: name 's' is not defined"
     ]
    }
   ],
   "source": [
    "s2 = \"ab\"\n",
    "s1 = \"ba\"\n",
    "for i in range(len(s2)):\n",
    "        if len(s1)==len(s2):\n",
    "            print( s1==s2 or s1==s2[::-1]) \n",
    "        if s1==s2[i:j:-1] or s1==s2[i:j:1]:\n",
    "            print(\"true\")\n",
    "            \n",
    "else:\n",
    "    print(s)"
   ]
  },
  {
   "cell_type": "code",
   "execution_count": null,
   "metadata": {},
   "outputs": [
    {
     "name": "stdout",
     "output_type": "stream",
     "text": [
      "aabbccc\n",
      "{'a': 1, 'b': 5, 'c': 15}\n"
     ]
    }
   ],
   "source": [
    "k=[\"a\",\"a\",\"b\",\"b\",\"c\",\"c\",\"c\"]\n",
    "strr=\"\"\n",
    "for i in k:\n",
    "    strr=strr+i\n",
    "strr\n",
    "print(strr)\n",
    "d={}\n",
    "for i in range(len(strr)):\n",
    "    d[strr[i]]=i+d.get(strr[i],0)\n",
    "print(d)\n",
    "t=[]\n",
    "for i in d:\n",
    "    if d[i]==1:\n",
    "      t.append(i)\n",
    "    else:\n",
    "        t.append(i)\n",
    "        t.append(d[i])\n",
    "t\n"
   ]
  },
  {
   "cell_type": "code",
   "execution_count": null,
   "metadata": {},
   "outputs": [],
   "source": [
    "s=\"anagram\"\n",
    "t=\"nagaram\"\n",
    "if len(s) != len(t):\n",
    "    print(False) \n",
    "constS,constT={},{}\n",
    "for i in range(len(s)):\n",
    "        constS[s[i]]= 1+constS.get(s[i],0)\n",
    "        constT[t[i]]= 1+constT.get(t[i],0)\n",
    "for c in constS:\n",
    "        if constS[c]!= constT.get(c,0):\n",
    "            print(False) \n",
    "print(True) \n",
    "print(constS)\n",
    "print(constT)"
   ]
  }
 ],
 "metadata": {
  "kernelspec": {
   "display_name": "Python 3",
   "language": "python",
   "name": "python3"
  },
  "language_info": {
   "codemirror_mode": {
    "name": "ipython",
    "version": 3
   },
   "file_extension": ".py",
   "mimetype": "text/x-python",
   "name": "python",
   "nbconvert_exporter": "python",
   "pygments_lexer": "ipython3",
   "version": "3.12.4"
  }
 },
 "nbformat": 4,
 "nbformat_minor": 2
}
