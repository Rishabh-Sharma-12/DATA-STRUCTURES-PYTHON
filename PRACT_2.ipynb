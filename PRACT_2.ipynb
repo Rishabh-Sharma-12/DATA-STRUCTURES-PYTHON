{
 "cells": [
  {
   "cell_type": "code",
   "execution_count": 10,
   "metadata": {},
   "outputs": [
    {
     "name": "stdout",
     "output_type": "stream",
     "text": [
      "2\n"
     ]
    }
   ],
   "source": [
    "def fib(n):\n",
    "    if n==1 or n==0:\n",
    "        return 1\n",
    "    else:\n",
    "        return fib(n-1) +fib(n-2)\n",
    "\n",
    "def swap(arr):\n",
    "    if arr[]\n",
    "     \n",
    "print(fib(2))"
   ]
  },
  {
   "cell_type": "code",
   "execution_count": 8,
   "metadata": {},
   "outputs": [
    {
     "data": {
      "text/plain": [
       "6"
      ]
     },
     "execution_count": 8,
     "metadata": {},
     "output_type": "execute_result"
    }
   ],
   "source": [
    "def factorial(n):\n",
    "\n",
    "    if n==1:\n",
    "        return 1\n",
    "    else:\n",
    "        return factorial(n-1)*n\n",
    "factorial(3)"
   ]
  },
  {
   "cell_type": "code",
   "execution_count": 16,
   "metadata": {},
   "outputs": [
    {
     "data": {
      "text/plain": [
       "-1"
      ]
     },
     "execution_count": 16,
     "metadata": {},
     "output_type": "execute_result"
    }
   ],
   "source": [
    "def mod(return,b):\n",
    "    if b<=0:\n",
    "        return -1\n",
    "    div=return//b\n",
    "    return return-div*b\n",
    "mod(5,)\n"
   ]
  },
  {
   "cell_type": "code",
   "execution_count": 5,
   "metadata": {},
   "outputs": [
    {
     "data": {
      "text/plain": [
       "2"
      ]
     },
     "execution_count": 5,
     "metadata": {},
     "output_type": "execute_result"
    }
   ],
   "source": [
    "def sumreturn(nums):\n",
    "    return=nums\n",
    "    sumo=0\n",
    "    while(return>0):\n",
    "        sumo=return%10+sumo\n",
    "        return=return//10     #return/=10\n",
    "    return sumo\n",
    "\n",
    "suma(1010)\n",
    "    \n",
    "\n",
    "    "
   ]
  },
  {
   "cell_type": "code",
   "execution_count": 17,
   "metadata": {},
   "outputs": [
    {
     "name": "stdout",
     "output_type": "stream",
     "text": [
      "The number is 3\n"
     ]
    }
   ],
   "source": [
    "import random\n",
    "\n",
    "def getRandomNumber():\n",
    "    return random.randrange(1,10,2)\n",
    "\n",
    "\n",
    "def runGuess():\n",
    "    secretNumber = getRandomNumber()\n",
    "    print(\"The number is\", secretNumber)\n",
    "\n",
    "\n",
    "if __name__ == '__main__':\n",
    "    runGuess()"
   ]
  },
  {
   "cell_type": "code",
   "execution_count": null,
   "metadata": {},
   "outputs": [],
   "source": [
    "import random\n",
    "\n",
    "def getRandomNumber():\n",
    "    return random.randrange(1, 100)\n",
    "\n",
    "#Update the code below to solve the problem\n",
    "def giveHint(number, guess):\n",
    "\n",
    "    if(guess >(number +10) or guess < (number - 10)):\n",
    "        return \"Cold\"\n",
    "    elif(number == guess):\n",
    "        return \"Right\"\n",
    "    else:\n",
    "        return \"Hot\"\n",
    "\n",
    "\n",
    "def runGuess():\n",
    "    secretNumber = getRandomNumber()\n",
    "    user_guess = int(input(\"Enter return number between 1 and 100: \"))\n",
    "    hint = giveHint(secretNumber, user_guess)\n",
    "    if hint == \"Right\":\n",
    "        print(\"You guessed it Right!\")\n",
    "    else:\n",
    "        print(hint)\n",
    "            \n",
    "if __name__ == '__main__':\n",
    "    runGuess()"
   ]
  },
  {
   "cell_type": "code",
   "execution_count": 25,
   "metadata": {},
   "outputs": [
    {
     "name": "stdout",
     "output_type": "stream",
     "text": [
      "YO BITCH YOU NEAR\n"
     ]
    }
   ],
   "source": [
    "def real():\n",
    "    return random.randint(1,100)\n",
    "\n",
    "def Guess_num():\n",
    "    num=int(input(\"Enter return number :\"))\n",
    "    real_num=real()\n",
    "\n",
    "    if num ==real_num :\n",
    "        print(\"YOU ARE RIGHT\")\n",
    "    elif num> (real_num+10)  or num <(real_num-10):\n",
    "        print(\"YO BITCH YOU NEAR\")\n",
    "    else:\n",
    "        print(\"Go HOME\")\n",
    "\n",
    "import random\n",
    "if __name__ =='__main__':\n",
    "    Guess_num()\n"
   ]
  },
  {
   "cell_type": "code",
   "execution_count": 5,
   "metadata": {},
   "outputs": [],
   "source": [
    "#creating return list from scratch \n",
    "\n",
    "import ctypes"
   ]
  },
  {
   "cell_type": "code",
   "execution_count": 23,
   "metadata": {},
   "outputs": [],
   "source": [
    "class my_list:\n",
    "        # will be initiallize just after creation\n",
    "        def __init__(self):\n",
    "            self.size=1\n",
    "            self.n=0\n",
    "            # making of the array in c with custom python program\n",
    "            self.A=self.__make_array(self.size)\n",
    "\n",
    "        def __len__(self):\n",
    "            # will return the length of the list \n",
    "            return self.n\n",
    "\n",
    "            # magic method find what is it cannot use the print as function \n",
    "        def __str__(self):\n",
    "            # Loop will be running till the length of the list\n",
    "            # empty string \n",
    "            result=\"\"\n",
    "            for i in range(self.n):\n",
    "                # have to convert the int to string while fetching to concatinate\n",
    "                result=result+str(self.A[i])+','\n",
    "            # will add new form to look like return string and slice for removing the last item \",\"\n",
    "            return '['+result[:-1]+']'\n",
    "                \n",
    "        def append(self,item):\n",
    "            # if the size is not present in the current array just resize\n",
    "            if self.size==self.n:\n",
    "                self.__resize(self.size*2)\n",
    "            # if the size is present in the new array just add element \n",
    "            self.A[self.n]=item\n",
    "            self.n=self.n+1\n",
    "            \n",
    "        \n",
    "        def __resize(self,new_capacity):\n",
    "            # create return new array with new capacity\n",
    "            B=self.__make_array(new_capacity)\n",
    "            self.size=new_capacity\n",
    "\n",
    "            for i in range(self.n):\n",
    "                B[i] = self.A[i]\n",
    "            self.A=B\n",
    "\n",
    "        def __make_array(self,capacity):\n",
    "            # create return C type array in the python\n",
    "            return (capacity*ctypes.py_object)()\n"
   ]
  },
  {
   "cell_type": "code",
   "execution_count": 24,
   "metadata": {},
   "outputs": [
    {
     "name": "stdout",
     "output_type": "stream",
     "text": [
      "[]\n",
      "[1,Hello,okayy,True]\n",
      "<__main__.py_object_Array_1 object at 0x1085ff750>\n"
     ]
    },
    {
     "ename": "ValueError",
     "evalue": "PyObject is NULL",
     "output_type": "error",
     "traceback": [
      "\u001b[0;31m---------------------------------------------------------------------------\u001b[0m",
      "\u001b[0;31mValueError\u001b[0m                                Traceback (most recent call last)",
      "Cell \u001b[0;32mIn[24], line 10\u001b[0m\n\u001b[1;32m      8\u001b[0m \u001b[38;5;28mprint\u001b[39m(L)\n\u001b[1;32m      9\u001b[0m L\u001b[38;5;241m.\u001b[39mclean()\n\u001b[0;32m---> 10\u001b[0m \u001b[38;5;28;43mprint\u001b[39;49m\u001b[43m(\u001b[49m\u001b[43mL\u001b[49m\u001b[43m)\u001b[49m\n",
      "Cell \u001b[0;32mIn[23], line 32\u001b[0m, in \u001b[0;36mmy_list.__str__\u001b[0;34m(self)\u001b[0m\n\u001b[1;32m     29\u001b[0m \u001b[38;5;28;01melse\u001b[39;00m:\n\u001b[1;32m     30\u001b[0m     \u001b[38;5;28;01mfor\u001b[39;00m i \u001b[38;5;129;01min\u001b[39;00m \u001b[38;5;28mrange\u001b[39m(\u001b[38;5;28mself\u001b[39m\u001b[38;5;241m.\u001b[39mn):\n\u001b[1;32m     31\u001b[0m         \u001b[38;5;66;03m# have to convert the int to string while fetching to concatinate\u001b[39;00m\n\u001b[0;32m---> 32\u001b[0m         result\u001b[38;5;241m=\u001b[39mresult\u001b[38;5;241m+\u001b[39m\u001b[38;5;28mstr\u001b[39m(\u001b[38;5;28;43mself\u001b[39;49m\u001b[38;5;241;43m.\u001b[39;49m\u001b[43mA\u001b[49m\u001b[43m[\u001b[49m\u001b[43mi\u001b[49m\u001b[43m]\u001b[49m)\u001b[38;5;241m+\u001b[39m\u001b[38;5;124m'\u001b[39m\u001b[38;5;124m,\u001b[39m\u001b[38;5;124m'\u001b[39m\n\u001b[1;32m     33\u001b[0m     \u001b[38;5;66;03m# will add new form to look like a string and slice for removing the last item \",\"\u001b[39;00m\n\u001b[1;32m     34\u001b[0m     \u001b[38;5;28;01mreturn\u001b[39;00m \u001b[38;5;124m'\u001b[39m\u001b[38;5;124m[\u001b[39m\u001b[38;5;124m'\u001b[39m\u001b[38;5;241m+\u001b[39mresult[:\u001b[38;5;241m-\u001b[39m\u001b[38;5;241m1\u001b[39m]\u001b[38;5;241m+\u001b[39m\u001b[38;5;124m'\u001b[39m\u001b[38;5;124m]\u001b[39m\u001b[38;5;124m'\u001b[39m\n",
      "\u001b[0;31mValueError\u001b[0m: PyObject is NULL"
     ]
    }
   ],
   "source": [
    "L=my_list()\n",
    "print(L)\n",
    "len(L)\n",
    "L.append(1)\n",
    "L.append(\"Hello\")\n",
    "L.append(\"okayy\")\n",
    "L.append(True)\n",
    "print(L)\n",
    "L.clean()\n",
    "print(L)"
   ]
  },
  {
   "cell_type": "code",
   "execution_count": 18,
   "metadata": {},
   "outputs": [
    {
     "data": {
      "text/plain": [
       "[1, 2, 3, 4, 'hello']"
      ]
     },
     "execution_count": 18,
     "metadata": {},
     "output_type": "execute_result"
    }
   ],
   "source": [
    "L=[1,2,3,4]\n",
    "L.append(\"hello\")\n",
    "len(L)\n",
    "L"
   ]
  },
  {
   "cell_type": "code",
   "execution_count": 106,
   "metadata": {},
   "outputs": [
    {
     "name": "stdout",
     "output_type": "stream",
     "text": [
      "[1, 2, 3, 3]\n"
     ]
    },
    {
     "data": {
      "text/plain": [
       "True"
      ]
     },
     "execution_count": 106,
     "metadata": {},
     "output_type": "execute_result"
    }
   ],
   "source": [
    "# checking duplicate inside the list only \n",
    "nums = [1, 2, 3, 3]\n",
    "def yo(nums):\n",
    "    nums=sorted(nums)\n",
    "    print(nums)\n",
    "    count=0\n",
    "    for i in range(len(nums)-1):\n",
    "        if nums[i]==nums[i+1]:\n",
    "            count+=1\n",
    "        \n",
    "    return count>=1\n",
    "yo(nums)\n",
    "\n",
    "# new approach to convert to set and compare length \n",
    "        \n",
    "\n",
    "def new(nums):\n",
    "    l_size=len(nums)\n",
    "    s_size=len(set(nums))\n",
    "\n",
    "    return l_size >s_size\n",
    "    \n",
    "new(nums)"
   ]
  },
  {
   "cell_type": "code",
   "execution_count": 116,
   "metadata": {},
   "outputs": [
    {
     "name": "stdout",
     "output_type": "stream",
     "text": [
      "6\n"
     ]
    },
    {
     "data": {
      "text/plain": [
       "False"
      ]
     },
     "execution_count": 116,
     "metadata": {},
     "output_type": "execute_result"
    }
   ],
   "source": [
    "def ana(s,y):\n",
    "    if len(s) != len(y):\n",
    "        return False\n",
    "    else:\n",
    "        count=len(s)\n",
    "        for i in range(len(s)-1):\n",
    "            for j in range(len(s)-1):\n",
    "                if (s[i]==y[j]):\n",
    "                    count+=1\n",
    "        print(count)\n",
    "    return count==len(s)\n",
    "\n",
    "ana(\"racecar\",\"carrace\")"
   ]
  },
  {
   "cell_type": "code",
   "execution_count": 118,
   "metadata": {},
   "outputs": [
    {
     "data": {
      "text/plain": [
       "['a', 'a', 'c', 'c', 'e', 'r', 'r']"
      ]
     },
     "execution_count": 118,
     "metadata": {},
     "output_type": "execute_result"
    }
   ],
   "source": [
    "sorted(\"racecar\")\n",
    "sorted(\"carrace\")"
   ]
  },
  {
   "cell_type": "code",
   "execution_count": 2,
   "metadata": {},
   "outputs": [
    {
     "data": {
      "text/plain": [
       "['1']"
      ]
     },
     "execution_count": 2,
     "metadata": {},
     "output_type": "execute_result"
    }
   ],
   "source": [
    "List=[]\n",
    "List.append(\"1\")\n",
    "List"
   ]
  },
  {
   "cell_type": "code",
   "execution_count": 62,
   "metadata": {},
   "outputs": [
    {
     "data": {
      "text/plain": [
       "[1, 2]"
      ]
     },
     "execution_count": 62,
     "metadata": {},
     "output_type": "execute_result"
    }
   ],
   "source": [
    "def twoSum(nums, target):\n",
    "    return=[]\n",
    "    for i in range(len(nums)-1):\n",
    "        for j in range(i,len(nums)-1):\n",
    "            if nums[i]+nums[j+1]==target:\n",
    "                    return.append(i)\n",
    "                    return.append(j+1)\n",
    "            \n",
    "    return return\n",
    "\n",
    "twoSum([3,2,4],6)"
   ]
  },
  {
   "cell_type": "code",
   "execution_count": 64,
   "metadata": {},
   "outputs": [
    {
     "name": "stdout",
     "output_type": "stream",
     "text": [
      "False\n"
     ]
    }
   ],
   "source": [
    "n=str(112)\n",
    "print(n==n[::-1])"
   ]
  },
  {
   "cell_type": "code",
   "execution_count": 80,
   "metadata": {},
   "outputs": [
    {
     "name": "stdout",
     "output_type": "stream",
     "text": [
      "[None]\n",
      "[None, None]\n",
      "[None, None, None]\n"
     ]
    }
   ],
   "source": [
    "def rom_to_int(s):\n",
    "    def match(n):\n",
    "        match(n):\n",
    "            case('I'):return 1\n",
    "            case('V'):return 5\n",
    "            case('X'):return 10\n",
    "            case('L'):return 50\n",
    "            case('C'):return 100\n",
    "            case('D'):return 500\n",
    "            case('M'):return 1000\n",
    "    sum=[]\n",
    "    total=0\n",
    "    for i in s:\n",
    "        sum.append(match(s))\n",
    "        print(sum)\n",
    "    for i in range(len(sum)-1):\n",
    "        total=sum.pop(i)\n",
    "    return total\n",
    "\n",
    "rom_to_int(\"III\")"
   ]
  },
  {
   "cell_type": "code",
   "execution_count": 44,
   "metadata": {},
   "outputs": [
    {
     "data": {
      "text/plain": [
       "[[1, 2, 3], [4, 5, 6]]"
      ]
     },
     "execution_count": 44,
     "metadata": {},
     "output_type": "execute_result"
    }
   ],
   "source": [
    "L=[[1,2,3],[4,5,6]]\n",
    "\n",
    "rows = len(L)\n",
    "cols = len(L[0])\n",
    "\n",
    "copy_matrix = [row[:] for row in L]  # Deep copy\n",
    "copy_matrix\n"
   ]
  },
  {
   "cell_type": "code",
   "execution_count": 32,
   "metadata": {},
   "outputs": [
    {
     "name": "stdout",
     "output_type": "stream",
     "text": [
      "5\n"
     ]
    }
   ],
   "source": [
    "#it took 45 min\n",
    "prices=[7,1,5,3,6,4]\n",
    "min_term=prices[0]\n",
    "max_profit=0\n",
    "for price in prices:\n",
    "    if price<min_term:\n",
    "        min_term=price\n",
    "    elif price-min_term>max_profit:\n",
    "        max_profit=price-min_term\n",
    "\n",
    "print(max_profit)\n",
    "    "
   ]
  },
  {
   "cell_type": "code",
   "execution_count": 54,
   "metadata": {},
   "outputs": [
    {
     "data": {
      "text/plain": [
       "0"
      ]
     },
     "execution_count": 54,
     "metadata": {},
     "output_type": "execute_result"
    }
   ],
   "source": [
    "n=[1,2,3]\n",
    "sum=0\n",
    "for i in range(len(n)-1,0):\n",
    "    sum=sum+n[i]*10**i\n",
    "sum\n"
   ]
  },
  {
   "cell_type": "code",
   "execution_count": 10,
   "metadata": {},
   "outputs": [
    {
     "name": "stdout",
     "output_type": "stream",
     "text": [
      "[1, 3, 12, 0, 0]\n"
     ]
    }
   ],
   "source": [
    "# n=[0,1,0,3,12]\n",
    "# a=[]\n",
    "# count=0\n",
    "# for i in range(len(n)):\n",
    "#     if n[i]==0:\n",
    "#         count+=1\n",
    "#     if n[i]!=0:\n",
    "#         a.append(n[i])\n",
    "# for i in range(count):\n",
    "#     a.append(0)\n",
    "# print(a)\n",
    "nums=[0,1,0,3,12]\n",
    "a=[]\n",
    "count=0\n",
    "for i in range(len(nums)):\n",
    "    if nums[i]==0:\n",
    "        count+=1\n",
    "    elif nums[i]!=0:\n",
    "        a.append(nums[i])\n",
    "for i in range(count):\n",
    "    a.append(0)\n",
    "nums[:]=a\n",
    "print(nums)"
   ]
  },
  {
   "cell_type": "code",
   "execution_count": 43,
   "metadata": {},
   "outputs": [
    {
     "name": "stdout",
     "output_type": "stream",
     "text": [
      "3\n"
     ]
    }
   ],
   "source": [
    "nums=[1,1,0,1,1,1]\n",
    "            max_c,c_count=0,0\n",
    "            for i in range(len(nums)):\n",
    "                if(nums[i]==1):\n",
    "                    c_count+=1\n",
    "                    max_c=max(max_c,c_count)\n",
    "                if(nums[i]==0):\n",
    "                    c_count=0\n",
    "\n",
    "print(max_c)"
   ]
  },
  {
   "cell_type": "code",
   "execution_count": 96,
   "metadata": {},
   "outputs": [
    {
     "data": {
      "text/plain": [
       "'ana'"
      ]
     },
     "execution_count": 96,
     "metadata": {},
     "output_type": "execute_result"
    }
   ],
   "source": [
    "res=\"\"\n",
    "s=\"anb4a\"\n",
    "for i in s:\n",
    "    if i.isdigit():\n",
    "        res=res[:-1]\n",
    "    else:\n",
    "        res+=i\n",
    "res\n"
   ]
  },
  {
   "cell_type": "code",
   "execution_count": 2,
   "metadata": {},
   "outputs": [
    {
     "data": {
      "text/plain": [
       "4"
      ]
     },
     "execution_count": 2,
     "metadata": {},
     "output_type": "execute_result"
    }
   ],
   "source": []
  },
  {
   "cell_type": "code",
   "execution_count": 31,
   "metadata": {},
   "outputs": [
    {
     "data": {
      "text/plain": [
       "7"
      ]
     },
     "execution_count": 31,
     "metadata": {},
     "output_type": "execute_result"
    }
   ],
   "source": [
    "a=[8,8,7,7,7]\n",
    "# a=[2,2,1,1,1,2,2]\n",
    "b=set(a)\n",
    "max_count=0\n",
    "for i in b:\n",
    "    if (max_count<=a.count(i)):\n",
    "        max_count=a.count(i)\n",
    "        term=i\n",
    "    \n",
    "i"
   ]
  },
  {
   "cell_type": "code",
   "execution_count": 49,
   "metadata": {},
   "outputs": [
    {
     "data": {
      "text/plain": [
       "[1, 2, 2, 3, 5, 6]"
      ]
     },
     "execution_count": 49,
     "metadata": {},
     "output_type": "execute_result"
    }
   ],
   "source": [
    "nums1 = [1,2,3,0,0,0]\n",
    "m = 3\n",
    "nums2 = [2,5,6]\n",
    "n = 3\n",
    "for i in range(m,len(nums1)):\n",
    "    nums1.pop()\n",
    "for i in range(n,len(nums2)):\n",
    "    nums1.pop()\n",
    "nums1[:]=sorted(nums1+nums2)\n",
    "nums1\n"
   ]
  },
  {
   "cell_type": "code",
   "execution_count": 40,
   "metadata": {},
   "outputs": [
    {
     "name": "stdout",
     "output_type": "stream",
     "text": [
      "ba\n"
     ]
    }
   ],
   "source": [
    "s = \"aabababa\"\n",
    "part = \"aba\"\n",
    "j=\"\"\n",
    "# while(s.find(part)>=0):\n",
    "#     j=\"\"\n",
    "#     s=s.split(part)\n",
    "#     print(s)\n",
    "#     for i in s:\n",
    "#         j=j+i\n",
    "#     s=j\n",
    "while part in s:\n",
    "    index=s.find(part)\n",
    "    s = s[:index]+s[index+len(part):]\n",
    "print(s)"
   ]
  },
  {
   "cell_type": "code",
   "execution_count": 45,
   "metadata": {},
   "outputs": [
    {
     "data": {
      "text/plain": [
       "[1, 1, 2, 3, 4, 4]"
      ]
     },
     "execution_count": 45,
     "metadata": {},
     "output_type": "execute_result"
    }
   ],
   "source": [
    "list1 = [1,2,4]\n",
    "list2 = [1,3,4]\n",
    "for i in list2:\n",
    "    list1.append(i)\n",
    "list1=sorted(list1)\n",
    "list1"
   ]
  },
  {
   "cell_type": "code",
   "execution_count": 54,
   "metadata": {},
   "outputs": [
    {
     "ename": "TypeError",
     "evalue": "'int' object is not callable",
     "output_type": "error",
     "traceback": [
      "\u001b[0;31m---------------------------------------------------------------------------\u001b[0m",
      "\u001b[0;31mTypeError\u001b[0m                                 Traceback (most recent call last)",
      "Cell \u001b[0;32mIn[54], line 8\u001b[0m\n\u001b[1;32m      6\u001b[0m obj\u001b[38;5;241m=\u001b[39mListNode()\n\u001b[1;32m      7\u001b[0m \u001b[38;5;28;01mfor\u001b[39;00m i \u001b[38;5;129;01min\u001b[39;00m list1:\n\u001b[0;32m----> 8\u001b[0m     \u001b[43mobj\u001b[49m\u001b[38;5;241;43m.\u001b[39;49m\u001b[43mval\u001b[49m\u001b[43m(\u001b[49m\u001b[43mi\u001b[49m\u001b[43m)\u001b[49m\n\u001b[1;32m      9\u001b[0m     obj\u001b[38;5;241m.\u001b[39mnext(i\u001b[38;5;241m+\u001b[39m\u001b[38;5;241m1\u001b[39m)\n\u001b[1;32m     10\u001b[0m list2 \u001b[38;5;241m=\u001b[39m [\u001b[38;5;241m1\u001b[39m,\u001b[38;5;241m3\u001b[39m,\u001b[38;5;241m4\u001b[39m]\n",
      "\u001b[0;31mTypeError\u001b[0m: 'int' object is not callable"
     ]
    }
   ],
   "source": [
    "class ListNode(object):\n",
    "    def __init__(self, val=0, next=None):\n",
    "        self.val = val\n",
    "        self.next = next\n",
    "list1 = [1,2,4]\n",
    "obj=ListNode()\n",
    "for i in list1:\n",
    "    obj.val(i)\n",
    "    obj.next(i+1)\n",
    "list2 = [1,3,4]\n",
    "obj2=ListNode(list2)\n",
    "obj2.val\n",
    "obj2.next\n",
    "\n"
   ]
  },
  {
   "cell_type": "code",
   "execution_count": 3,
   "metadata": {},
   "outputs": [
    {
     "data": {
      "text/plain": [
       "[24, 12, 30, 13, 11]"
      ]
     },
     "execution_count": 3,
     "metadata": {},
     "output_type": "execute_result"
    }
   ],
   "source": [
    "nums = [18,43,36,13,7]\n",
    "# first ther sum should me same\n",
    "sum_num=[]\n",
    "sumn=0\n",
    "for i in range(len(nums)):\n",
    "    sumn=0\n",
    "    while(nums[i]>0):\n",
    "        sumn=sumn + nums[i]%10\n",
    "        nums[i]=nums[i]//2\n",
    "    sum_num.append(sumn)\n",
    "sum_num\n",
    "\n"
   ]
  },
  {
   "cell_type": "code",
   "execution_count": 6,
   "metadata": {},
   "outputs": [
    {
     "name": "stdout",
     "output_type": "stream",
     "text": [
      "8\n",
      "11\n",
      "17\n",
      "20\n"
     ]
    }
   ],
   "source": [
    "nums = [18,43,36,13,7]\n",
    "a=18\n",
    "sumn=0\n",
    "while\n",
    "sumn=sumn + a%10\n",
    "a=a//2"
   ]
  },
  {
   "cell_type": "code",
   "execution_count": 41,
   "metadata": {},
   "outputs": [
    {
     "name": "stdout",
     "output_type": "stream",
     "text": [
      "[4, 6, 1, 6]\n",
      "6 6 1 3\n",
      "12\n"
     ]
    }
   ],
   "source": [
    "nums = [4,6,10,6]\n",
    "n=[]\n",
    "n[:]=nums\n",
    "sum_n=[]\n",
    "for i in range(len(nums)):\n",
    "    sum_n.append(0)\n",
    "for i in range(len(nums)):\n",
    "    while(nums[i]>0):\n",
    "        sum_n[i]=sum_n[i]+nums[i]%10\n",
    "        nums[i]=nums[i]//10\n",
    "max_sum=0\n",
    "print(sum_n)\n",
    "for i in range(len(nums)):\n",
    "    for j in range(i+1,len(nums)):\n",
    "        if sum_n[i]==sum_n[j]:\n",
    "                print(n[i],n[j],i,j)\n",
    "                max_sum=max((n[i]+n[j]),max_sum)\n",
    "if max_sum==0:\n",
    "    print(-1)\n",
    "else:\n",
    "    print(max_sum)\n",
    "        "
   ]
  },
  {
   "cell_type": "code",
   "execution_count": 53,
   "metadata": {},
   "outputs": [
    {
     "ename": "IndexError",
     "evalue": "list index out of range",
     "output_type": "error",
     "traceback": [
      "\u001b[0;31m---------------------------------------------------------------------------\u001b[0m",
      "\u001b[0;31mIndexError\u001b[0m                                Traceback (most recent call last)",
      "Cell \u001b[0;32mIn[53], line 10\u001b[0m\n\u001b[1;32m      8\u001b[0m target \u001b[38;5;241m=\u001b[39m \u001b[38;5;241m2\u001b[39m\n\u001b[1;32m      9\u001b[0m i\u001b[38;5;241m=\u001b[39m\u001b[38;5;241m0\u001b[39m\n\u001b[0;32m---> 10\u001b[0m \u001b[43mnumb\u001b[49m\u001b[43m(\u001b[49m\u001b[43mnums\u001b[49m\u001b[43m,\u001b[49m\u001b[43mtarget\u001b[49m\u001b[43m,\u001b[49m\u001b[38;5;241;43m0\u001b[39;49m\u001b[43m)\u001b[49m\n",
      "Cell \u001b[0;32mIn[53], line 5\u001b[0m, in \u001b[0;36mnumb\u001b[0;34m(nums, target, i)\u001b[0m\n\u001b[1;32m      3\u001b[0m     \u001b[38;5;28;01mreturn\u001b[39;00m i\n\u001b[1;32m      4\u001b[0m \u001b[38;5;28;01melse\u001b[39;00m:\n\u001b[0;32m----> 5\u001b[0m     \u001b[38;5;28;01mreturn\u001b[39;00m \u001b[43mnumb\u001b[49m\u001b[43m(\u001b[49m\u001b[43mnums\u001b[49m\u001b[43m,\u001b[49m\u001b[43mtarget\u001b[49m\u001b[43m,\u001b[49m\u001b[43mi\u001b[49m\u001b[38;5;241;43m+\u001b[39;49m\u001b[38;5;241;43m1\u001b[39;49m\u001b[43m)\u001b[49m\n",
      "Cell \u001b[0;32mIn[53], line 5\u001b[0m, in \u001b[0;36mnumb\u001b[0;34m(nums, target, i)\u001b[0m\n\u001b[1;32m      3\u001b[0m     \u001b[38;5;28;01mreturn\u001b[39;00m i\n\u001b[1;32m      4\u001b[0m \u001b[38;5;28;01melse\u001b[39;00m:\n\u001b[0;32m----> 5\u001b[0m     \u001b[38;5;28;01mreturn\u001b[39;00m \u001b[43mnumb\u001b[49m\u001b[43m(\u001b[49m\u001b[43mnums\u001b[49m\u001b[43m,\u001b[49m\u001b[43mtarget\u001b[49m\u001b[43m,\u001b[49m\u001b[43mi\u001b[49m\u001b[38;5;241;43m+\u001b[39;49m\u001b[38;5;241;43m1\u001b[39;49m\u001b[43m)\u001b[49m\n",
      "    \u001b[0;31m[... skipping similar frames: numb at line 5 (1 times)]\u001b[0m\n",
      "Cell \u001b[0;32mIn[53], line 5\u001b[0m, in \u001b[0;36mnumb\u001b[0;34m(nums, target, i)\u001b[0m\n\u001b[1;32m      3\u001b[0m     \u001b[38;5;28;01mreturn\u001b[39;00m i\n\u001b[1;32m      4\u001b[0m \u001b[38;5;28;01melse\u001b[39;00m:\n\u001b[0;32m----> 5\u001b[0m     \u001b[38;5;28;01mreturn\u001b[39;00m \u001b[43mnumb\u001b[49m\u001b[43m(\u001b[49m\u001b[43mnums\u001b[49m\u001b[43m,\u001b[49m\u001b[43mtarget\u001b[49m\u001b[43m,\u001b[49m\u001b[43mi\u001b[49m\u001b[38;5;241;43m+\u001b[39;49m\u001b[38;5;241;43m1\u001b[39;49m\u001b[43m)\u001b[49m\n",
      "Cell \u001b[0;32mIn[53], line 2\u001b[0m, in \u001b[0;36mnumb\u001b[0;34m(nums, target, i)\u001b[0m\n\u001b[1;32m      1\u001b[0m \u001b[38;5;28;01mdef\u001b[39;00m \u001b[38;5;21mnumb\u001b[39m(nums,target,i):\n\u001b[0;32m----> 2\u001b[0m     \u001b[38;5;28;01mif\u001b[39;00m \u001b[43mnums\u001b[49m\u001b[43m[\u001b[49m\u001b[43mi\u001b[49m\u001b[43m]\u001b[49m\u001b[38;5;241m==\u001b[39mtarget:\n\u001b[1;32m      3\u001b[0m         \u001b[38;5;28;01mreturn\u001b[39;00m i\n\u001b[1;32m      4\u001b[0m     \u001b[38;5;28;01melse\u001b[39;00m:\n",
      "\u001b[0;31mIndexError\u001b[0m: list index out of range"
     ]
    }
   ],
   "source": [
    "def numb(nums,target,i):\n",
    "    if nums[i]==target and i <len(nums):\n",
    "        return i\n",
    "    elif i<len(nums):\n",
    "        return numb(nums,target,i+1)\n",
    "    else :\n",
    "        \n",
    "\n",
    "nums = [1,3,5,6]\n",
    "target = 2\n",
    "i=0\n",
    "numb(nums,target,0)"
   ]
  },
  {
   "cell_type": "code",
   "execution_count": 9,
   "metadata": {},
   "outputs": [
    {
     "name": "stdout",
     "output_type": "stream",
     "text": [
      "True\n",
      "{'a': 3, 'n': 1, 'g': 1, 'r': 1, 'm': 1}\n",
      "{'n': 1, 'a': 3, 'g': 1, 'r': 1, 'm': 1}\n"
     ]
    }
   ],
   "source": [
    "s=\"anagram\"\n",
    "t=\"nagaram\"\n",
    "if len(s) != len(t):\n",
    "    print(False) \n",
    "constS,constT={},{}\n",
    "for i in range(len(s)):\n",
    "        constS[s[i]]= 1+constS.get(s[i],0)\n",
    "        constT[t[i]]= 1+constT.get(t[i],0)\n",
    "for c in constS:\n",
    "        if constS[c]!= constT.get(c,0):\n",
    "            print(False) \n",
    "print(True) \n",
    "print(constS)\n",
    "print(constT)"
   ]
  },
  {
   "cell_type": "code",
   "execution_count": 1,
   "metadata": {},
   "outputs": [],
   "source": [
    "a={}\n",
    "b={}\n",
    "s=\"yoyoyoy\"\n",
    "t=\"yoyoyuo\"\n",
    "for i in range(len(s)):\n",
    "    a[s[i]]=1+a.get(s[i],0)\n",
    "    b[t[i]]=1+b.get(t[i],0)\n",
    "if a==b:\n",
    "    print (True)"
   ]
  },
  {
   "cell_type": "code",
   "execution_count": 48,
   "metadata": {},
   "outputs": [
    {
     "name": "stdout",
     "output_type": "stream",
     "text": [
      "[97, 91, 89, 86, 84, 69, 57, 50, 38, 31]\n",
      "[100, 97, 91, 89, 86, 84, 69, 57, 50]\n",
      "[157, 100, 97, 91, 89, 86, 84, 69]\n",
      "[222, 157, 100, 97, 91, 89, 86]\n",
      "[261, 222, 157, 100, 97, 91]\n",
      "4\n"
     ]
    }
   ],
   "source": [
    "nums =[69,89,57,31,84,97,50,38,91,86]\n",
    "k =91\n",
    "count=0\n",
    "for i in range(len(nums)-1):\n",
    "    nums[:]=sorted(nums)\n",
    "    nums[:]=nums[::-1]\n",
    "    print(nums)\n",
    "    x=nums.pop()\n",
    "    y=nums.pop()\n",
    "    if (x>=k and y>=k):\n",
    "        nums.append(y)\n",
    "        nums.append(x)\n",
    "        break\n",
    "    else:\n",
    "        count+=1\n",
    "        nums.append(min(x, y) * 2 + max(x, y))\n",
    "print(count)\n",
    "        \n"
   ]
  },
  {
   "cell_type": "code",
   "execution_count": 19,
   "metadata": {},
   "outputs": [
    {
     "name": "stdout",
     "output_type": "stream",
     "text": [
      "{'m': 4, 's': 2, 'y': 1}\n"
     ]
    },
    {
     "data": {
      "text/plain": [
       "1"
      ]
     },
     "execution_count": 19,
     "metadata": {},
     "output_type": "execute_result"
    }
   ],
   "source": [
    "a={}\n",
    "b=\"mmsmsym\"\n",
    "# give an infinte amount of value to the even \n",
    "even=float(\"inf\")\n",
    "odd=0\n",
    "for i in range(len(b)):\n",
    "    a[b[i]]=1+a.get(b[i],0)\n",
    "print(a)\n",
    "for i in a:\n",
    "    if a[i]%2==0:\n",
    "       even=min(a[i],even)\n",
    "# keep in mind\n",
    "    else:\n",
    "        odd=max(a[i],odd)\n",
    "even-odd\n",
    "\n",
    "        \n"
   ]
  },
  {
   "cell_type": "code",
   "execution_count": 2,
   "metadata": {},
   "outputs": [
    {
     "data": {
      "text/plain": [
       "{'y': 4, 'o': 3}"
      ]
     },
     "execution_count": 2,
     "metadata": {},
     "output_type": "execute_result"
    }
   ],
   "source": [
    "a={}\n",
    "b={}\n",
    "s=\"yoyoyoy\"\n",
    "t=\"yoyoyuo\"\n",
    "for i in range(len(s)):\n",
    "    a[s[i]]=1+a.get(s[i],0)\n",
    "    b[t[i]]=1+b.get(t[i],0)\n",
    "if a==b:\n",
    "    print (True)\n",
    "a"
   ]
  },
  {
   "cell_type": "code",
   "execution_count": 18,
   "metadata": {},
   "outputs": [
    {
     "name": "stdout",
     "output_type": "stream",
     "text": [
      "1\n"
     ]
    }
   ],
   "source": [
    "a={}\n",
    "s=[1,1,1,1,1,1,3,33,3,2]\n",
    "for i in range(len(s)):\n",
    "    a[s[i]]=1+a.get(s[i],0)\n",
    "print(a.get(0,1))"
   ]
  },
  {
   "cell_type": "code",
   "execution_count": 16,
   "metadata": {},
   "outputs": [
    {
     "ename": "IndexError",
     "evalue": "list index out of range",
     "output_type": "error",
     "traceback": [
      "\u001b[0;31m---------------------------------------------------------------------------\u001b[0m",
      "\u001b[0;31mIndexError\u001b[0m                                Traceback (most recent call last)",
      "Cell \u001b[0;32mIn[16], line 7\u001b[0m\n\u001b[1;32m      5\u001b[0m b\u001b[38;5;241m=\u001b[39m\u001b[38;5;28mlist\u001b[39m(a\u001b[38;5;241m.\u001b[39mvalues())\n\u001b[1;32m      6\u001b[0m \u001b[38;5;28;01mfor\u001b[39;00m i \u001b[38;5;129;01min\u001b[39;00m \u001b[38;5;28mrange\u001b[39m(\u001b[38;5;28mlen\u001b[39m(b)):\n\u001b[0;32m----> 7\u001b[0m     \u001b[38;5;28;01mif\u001b[39;00m b[i] \u001b[38;5;241m==\u001b[39m \u001b[43mb\u001b[49m\u001b[43m[\u001b[49m\u001b[43mi\u001b[49m\u001b[38;5;241;43m+\u001b[39;49m\u001b[38;5;241;43m1\u001b[39;49m\u001b[43m]\u001b[49m:\n\u001b[1;32m      8\u001b[0m         \u001b[38;5;28;01mcontinue\u001b[39;00m\n\u001b[1;32m      9\u001b[0m     \u001b[38;5;28;01melse\u001b[39;00m:\n",
      "\u001b[0;31mIndexError\u001b[0m: list index out of range"
     ]
    }
   ],
   "source": [
    "a={}\n",
    "s = \"abacbc\"\n",
    "for i in range(len(s)):\n",
    "    a[s[i]]=1+a.get(s[i],0)\n",
    "b=list(a.values())\n",
    "for i in range(len(b)-1):\n",
    "    if b[i] != b[i+1]:\n",
    "        print(False)\n",
    "        break\n",
    "else:\n",
    "    print(True)\n",
    "    "
   ]
  },
  {
   "cell_type": "code",
   "execution_count": 17,
   "metadata": {},
   "outputs": [
    {
     "name": "stdout",
     "output_type": "stream",
     "text": [
      "True\n"
     ]
    }
   ],
   "source": [
    "s = \"([])\"\n",
    "while (s.find(\"(\") != -1 ):\n",
    "    if (s.find(\"(\")!= -1 and s.find(\")\")!= -1):\n",
    "        s=s[0:s.find(\"(\")]+s[(s.find(\")\")+1):]\n",
    "    else:\n",
    "        print(\"False\")\n",
    "        break\n",
    "while (s.find(\"[\") != -1 ):\n",
    "    if (s.find(\"[\")!= -1 and s.find(\"]\")!= -1):\n",
    "        s=s[0:s.find(\"[\")]+s[(s.find(\"]\")+1):]\n",
    "    else:\n",
    "        print(\"False\")\n",
    "        break\n",
    "while (s.find(\"{\") != -1 ):\n",
    "    if (s.find(\"{\")!= -1 and s.find(\"}\")!= -1):\n",
    "        s=s[0:s.find(\"{\")]+s[(s.find(\"}\")+1):]\n",
    "    else:\n",
    "        print(\"False\")\n",
    "        break\n",
    "if s==\"\":\n",
    "    print(\"True\")\n"
   ]
  },
  {
   "cell_type": "code",
   "execution_count": 22,
   "metadata": {},
   "outputs": [
    {
     "name": "stdout",
     "output_type": "stream",
     "text": [
      "its small\n"
     ]
    }
   ],
   "source": [
    "def equal(x, y):\n",
    "    if x==y: return 0\n",
    "    elif x>y:return 1\n",
    "    elif x<y:return -1\n",
    "x=int(input(\"enter 1st numbers\"))\n",
    "y=int(input(\"enter value of y\"))\n",
    "result=equal(x,y)\n",
    "if result==0:print(True)\n",
    "elif result==1:print(\"its greater\")\n",
    "elif result==-1:print(\"its small\")"
   ]
  },
  {
   "cell_type": "code",
   "execution_count": 24,
   "metadata": {},
   "outputs": [
    {
     "data": {
      "text/plain": [
       "(6, 5)"
      ]
     },
     "execution_count": 24,
     "metadata": {},
     "output_type": "execute_result"
    }
   ],
   "source": [
    "def swap(x,y):\n",
    "    x,y=y,x\n",
    "    return x,y\n",
    "x=int(input(\"enter 1st numbers\"))\n",
    "y=int(input(\"enter value of y\"))\n",
    "result=swap(x,y)\n",
    "result"
   ]
  },
  {
   "cell_type": "code",
   "execution_count": 6,
   "metadata": {},
   "outputs": [
    {
     "data": {
      "text/plain": [
       "[-2, -2, -2]"
      ]
     },
     "execution_count": 6,
     "metadata": {},
     "output_type": "execute_result"
    }
   ],
   "source": [
    "stack=[]\n",
    "asteroids =[-2,-2,1,-2]\n",
    "# for i in asteroids:\n",
    "#     if i>=0:\n",
    "#         stack.append(i)\n",
    "#     elif i<0:\n",
    "#         if stack:\n",
    "#             neg=i\n",
    "#             pos=stack.pop()\n",
    "#             if pos<=0:\n",
    "#                 stack.append(pos)\n",
    "#                 stack.append(neg)\n",
    "#             elif (neg+pos)<=0 and pos >=0:\n",
    "#                 pass\n",
    "#             elif (neg+pos)>0 and pos >=0:\n",
    "#                 stack.append(pos)\n",
    "\n",
    "#         else:\n",
    "#             stack.append(i)\n",
    "for i in asteroids:\n",
    "    while stack and i<0 and stack[-1]>0:\n",
    "        pos=stack.pop()\n",
    "        if pos+i==0:\n",
    "            break\n",
    "        elif pos+i>0:\n",
    "            stack.append(pos)\n",
    "            break\n",
    "    else:\n",
    "        stack.append(i)\n",
    "stack\n",
    "        "
   ]
  },
  {
   "cell_type": "code",
   "execution_count": null,
   "metadata": {},
   "outputs": [],
   "source": [
    "stack = []\n",
    "        for i in asteroids:\n",
    "            while stack and i < 0 and stack[-1] > 0:\n",
    "                pos = stack.pop()\n",
    "                if pos + i == 0:\n",
    "                    break  # Both explode\n",
    "                elif pos + i > 0:\n",
    "                    stack.append(pos)\n",
    "                    break  # The negative asteroid is destroyed\n",
    "            \n",
    "            else:  # If no collision or stack is empty, push the asteroid\n",
    "                stack.append(i)\n",
    "                \n",
    "        return stack"
   ]
  }
 ],
 "metadata": {
  "kernelspec": {
   "display_name": "Python 3",
   "language": "python",
   "name": "python3"
  },
  "language_info": {
   "codemirror_mode": {
    "name": "ipython",
    "version": 3
   },
   "file_extension": ".py",
   "mimetype": "text/x-python",
   "name": "python",
   "nbconvert_exporter": "python",
   "pygments_lexer": "ipython3",
   "version": "3.12.4"
  }
 },
 "nbformat": 4,
 "nbformat_minor": 2
}
