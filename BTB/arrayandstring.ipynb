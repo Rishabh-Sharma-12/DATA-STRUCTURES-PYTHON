{
 "cells": [
  {
   "cell_type": "code",
   "execution_count": 1,
   "id": "b0badbcb",
   "metadata": {},
   "outputs": [],
   "source": [
    "# Consider an array:\n",
    "\n",
    "#  {1,2,3,4}\n",
    "# Subarray: contiguous sequence in an array i.e.\n",
    "\n",
    "# {1,2},{1,2,3}\n",
    "# Subsequence: Need not to be contiguous, but maintains order i.e.\n",
    "\n",
    "# {1,2,4}\n",
    "# Subset: Same as subsequence except it has empty set i.e.\n",
    "\n",
    "#  {1,3},{}"
   ]
  },
  {
   "cell_type": "code",
   "execution_count": 6,
   "id": "3fb81cac",
   "metadata": {},
   "outputs": [
    {
     "name": "stdout",
     "output_type": "stream",
     "text": [
      "101\n"
     ]
    }
   ],
   "source": [
    "a=[1,2,3,-2,-3,-4,1,100]\n",
    "n=len(a)\n",
    "max=a[0]\n",
    "max_ending_here=0\n",
    "for i in range(0,n):\n",
    "    max_ending_here=max_ending_here+a[i]\n",
    "    if max<max_ending_here:\n",
    "        max=max_ending_here\n",
    "    if max_ending_here<0:\n",
    "        max_ending_here=0\n",
    "print(max)\n",
    "    "
   ]
  },
  {
   "cell_type": "code",
   "execution_count": 2,
   "id": "7d54b151",
   "metadata": {},
   "outputs": [
    {
     "name": "stdout",
     "output_type": "stream",
     "text": [
      "True\n"
     ]
    }
   ],
   "source": [
    "#contains duplicate\n",
    "nums = [1,2,3,1]\n",
    "print(len(nums)!=len(set(nums)))"
   ]
  },
  {
   "cell_type": "code",
   "execution_count": 3,
   "id": "83d4b314",
   "metadata": {},
   "outputs": [
    {
     "data": {
      "text/plain": [
       "5"
      ]
     },
     "execution_count": 3,
     "metadata": {},
     "output_type": "execute_result"
    }
   ],
   "source": [
    "# Best time to buy sell stock\n",
    "prices = [7,1,5,3,6,4]\n",
    "min_price=prices[0]\n",
    "max_profit=0\n",
    "for i in prices:\n",
    "    if i<min_price:\n",
    "        min_price=i \n",
    "    elif i-min_price>max_profit:\n",
    "        max_profit=i-min_price\n",
    "max_profit"
   ]
  },
  {
   "cell_type": "code",
   "execution_count": null,
   "id": "b34496a1",
   "metadata": {},
   "outputs": [],
   "source": [
    "class Solution:\n",
    "    def getPairs(self, arr):\n",
    "        # code here\n",
    "        left,right=0,1\n",
    "        res=[]\n",
    "        n=len(arr)\n",
    "        while left < n-1:\n",
    "            if arr[left]+arr[right]==0:\n",
    "                if [arr[left],arr[right]] not in res and [arr[right],arr[left]] not in res:\n",
    "                    if arr[left]<arr[right]:\n",
    "                        res.append([arr[left],arr[right]])\n",
    "                    else:\n",
    "                        res.append([arr[right],arr[left]])\n",
    "                else:\n",
    "                    pass\n",
    "            right+=1\n",
    "            \n",
    "            if right==len(arr):\n",
    "                left+=1\n",
    "                right=left+1\n",
    "            \n",
    "        return res[:][:].sort()"
   ]
  }
 ],
 "metadata": {
  "kernelspec": {
   "display_name": ".venv",
   "language": "python",
   "name": "python3"
  },
  "language_info": {
   "codemirror_mode": {
    "name": "ipython",
    "version": 3
   },
   "file_extension": ".py",
   "mimetype": "text/x-python",
   "name": "python",
   "nbconvert_exporter": "python",
   "pygments_lexer": "ipython3",
   "version": "3.13.5"
  }
 },
 "nbformat": 4,
 "nbformat_minor": 5
}
