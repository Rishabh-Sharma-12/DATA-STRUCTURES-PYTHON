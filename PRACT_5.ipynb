{
 "cells": [
  {
   "cell_type": "code",
   "execution_count": 6,
   "metadata": {},
   "outputs": [
    {
     "data": {
      "text/plain": [
       "False"
      ]
     },
     "execution_count": 6,
     "metadata": {},
     "output_type": "execute_result"
    }
   ],
   "source": [
    "import collections\n",
    "stack = collections.deque()\n",
    "stack.append(10)\n",
    "stack.append(20)\n",
    "stack.append(30)\n",
    "stack\n",
    "stack.pop() "
   ]
  },
  {
   "cell_type": "code",
   "execution_count": 10,
   "metadata": {},
   "outputs": [
    {
     "data": {
      "text/plain": [
       "30"
      ]
     },
     "execution_count": 10,
     "metadata": {},
     "output_type": "execute_result"
    }
   ],
   "source": [
    "import queue\n",
    "stack=queue.LifoQueue()\n",
    "stack.put(10)\n",
    "stack.put(20)\n",
    "stack.put(30)\n",
    "stack.get()"
   ]
  },
  {
   "cell_type": "code",
   "execution_count": 2,
   "metadata": {},
   "outputs": [
    {
     "data": {
      "text/plain": [
       "['hello', 'world']"
      ]
     },
     "execution_count": 2,
     "metadata": {},
     "output_type": "execute_result"
    }
   ],
   "source": [
    "s=\"      hello world  \"\n",
    "s=s.split()\n",
    "s"
   ]
  },
  {
   "cell_type": "code",
   "execution_count": 8,
   "metadata": {},
   "outputs": [
    {
     "name": "stdout",
     "output_type": "stream",
     "text": [
      "[1, 1, 2, 6]\n",
      "[24, 12, 8, 6]\n"
     ]
    }
   ],
   "source": [
    "k=[1,2,3,4]\n",
    "pr=[1]*len(k)\n",
    "pref=1\n",
    "for i in range(len(k)):\n",
    "    pr[i]=pref\n",
    "    pref*=k[i]\n",
    "pos=1\n",
    "print(pr)\n",
    "for i in range(len(k)-1,-1,-1):\n",
    "    pr[i]*=pos\n",
    "    pos*=k[i]\n",
    "print(pr)\n"
   ]
  },
  {
   "cell_type": "code",
   "execution_count": null,
   "metadata": {},
   "outputs": [
    {
     "ename": "SyntaxError",
     "evalue": "incomplete input (1951761638.py, line 3)",
     "output_type": "error",
     "traceback": [
      "\u001b[0;36m  Cell \u001b[0;32mIn[9], line 3\u001b[0;36m\u001b[0m\n\u001b[0;31m    for num in nums:\u001b[0m\n\u001b[0m                    ^\u001b[0m\n\u001b[0;31mSyntaxError\u001b[0m\u001b[0;31m:\u001b[0m incomplete input\n"
     ]
    }
   ],
   "source": [
    "nums=[1,2,3,4,5]\n",
    "num_i,num_j=float('inf')\n",
    "for num in nums:\n",
    "    if num_i>num:\n",
    "        num_i=num\n",
    "    elif num_j>num:\n",
    "        num_j=num\n",
    "    else:\n",
    "        print('True')\n",
    "else:\n",
    "    "
   ]
  },
  {
   "cell_type": "code",
   "execution_count": 7,
   "metadata": {},
   "outputs": [
    {
     "data": {
      "text/plain": [
       "[[1, 3], [4, 6]]"
      ]
     },
     "execution_count": 7,
     "metadata": {},
     "output_type": "execute_result"
    }
   ],
   "source": [
    "nums1 = [1,2,3]\n",
    "nums2 = [2,4,6]\n",
    "k=[]\n",
    "k.append(list(set(nums1).difference(set(nums2))))\n",
    "k.append(list(set(nums2).difference(set(nums1))))\n",
    "k"
   ]
  },
  {
   "cell_type": "code",
   "execution_count": 7,
   "metadata": {},
   "outputs": [
    {
     "data": {
      "text/plain": [
       "['abc',\n",
       " '  ',\n",
       " 'bcd',\n",
       " '  ',\n",
       " 'cde',\n",
       " '  ',\n",
       " 'deg',\n",
       " '  ',\n",
       " 'egh',\n",
       " '  ',\n",
       " 'ghi',\n",
       " '  ',\n",
       " 'hi',\n",
       " '  ',\n",
       " 'i',\n",
       " '  ']"
      ]
     },
     "execution_count": 7,
     "metadata": {},
     "output_type": "execute_result"
    }
   ],
   "source": [
    "# Input: s = \"abcdefghi\", k = 3, fill = \"x\"\n",
    "# Output: [\"abc\",\"def\",\"ghi\"]\n",
    "s=\"abcdeghi\"\n",
    "l=[]\n",
    "i=0\n",
    "j=i+3\n",
    "for i in range(len(s)):\n",
    "    j=i+3\n",
    "    l.append(s[i:j])\n",
    "    l.append(\"  \")\n",
    "    i=j\n",
    "    \n",
    "l"
   ]
  },
  {
   "cell_type": "code",
   "execution_count": 14,
   "metadata": {},
   "outputs": [
    {
     "name": "stdout",
     "output_type": "stream",
     "text": [
      "[[-1], [-1, -2]]\n"
     ]
    }
   ],
   "source": [
    "nums=[-1,-2]\n",
    "l=len(nums)\n",
    "new_l=[]\n",
    "t=1\n",
    "for s in range(l):\n",
    "    while t<=l:\n",
    "        new_l.append((nums[s:t]))\n",
    "        t+=1\n",
    "    break\n",
    "print((new_l))"
   ]
  },
  {
   "cell_type": "code",
   "execution_count": null,
   "metadata": {},
   "outputs": [
    {
     "name": "stdout",
     "output_type": "stream",
     "text": [
      "-1\n",
      "-3\n",
      "-2\n",
      "[]\n"
     ]
    }
   ],
   "source": [
    "nums = [-1, -2]\n",
    "# n = len(nums)\n",
    "# subarrays = []\n",
    "\n",
    "# for start in range(n):\n",
    "#     total=0\n",
    "#     for end in range(start, n):\n",
    "#        total+=nums[end]\n",
    "#        print(total)\n",
    "max_sum=current_sum=nums[0]\n",
    "t_max=0\n",
    "for num in nums:\n",
    "    t_max+=num\n",
    "    current_sum=max(num,current_sum+num)\n",
    "    max_sum=max(max_sum,current_sum,t_max)\n",
    "    \n",
    "print(subarrays)"
   ]
  },
  {
   "cell_type": "code",
   "execution_count": null,
   "metadata": {},
   "outputs": [],
   "source": []
  },
  {
   "cell_type": "code",
   "execution_count": 24,
   "metadata": {},
   "outputs": [
    {
     "name": "stdout",
     "output_type": "stream",
     "text": [
      "[[1, 11], [2, 12], [11, 22], [1, 100]]\n",
      "3\n"
     ]
    }
   ],
   "source": [
    "intervals = [[1,100],[11,22],[1,11],[2,12]]\n",
    "intervals.sort(key=lambda interval: interval[1])\n",
    "print(intervals)\n",
    "count=0\n",
    "for i in range(len(intervals)-1):\n",
    "        if intervals[i][1]==intervals[i+1][0]:\n",
    "            pass\n",
    "        else:\n",
    "            count+=1\n",
    "print(count)"
   ]
  },
  {
   "cell_type": "code",
   "execution_count": 38,
   "metadata": {},
   "outputs": [
    {
     "name": "stdout",
     "output_type": "stream",
     "text": [
      "3\n"
     ]
    }
   ],
   "source": [
    "A=[1,2]\n",
    "B=2\n",
    "new_list=[]\n",
    "for i in range(len(A)-1):\n",
    "    if B<A[i+1]-A[i]:\n",
    "        count=B*2\n",
    "    else:\n",
    "        count=B+A[i+1]-A[i]\n",
    "print(count)\n",
    "    "
   ]
  },
  {
   "cell_type": "code",
   "execution_count": 43,
   "metadata": {},
   "outputs": [
    {
     "name": "stdout",
     "output_type": "stream",
     "text": [
      "[[0, 0, 0], [0, 'B', 'B'], ['A', 'A', 'A']]\n",
      "0\n",
      "True\n"
     ]
    }
   ],
   "source": [
    "moves = [[2,2],[1,2],[2,1],[1,1],[2,0]]\n",
    "board=[[0,0,0],[0,0,0],[0,0,0]]\n",
    "count=0\n",
    "# Fill board\n",
    "\n",
    "for idx, (r, c) in enumerate(moves):\n",
    "    board[r][c] = \"A\" if idx % 2 == 0 else \"B\"\n",
    "print(board)\n",
    "res=False\n",
    "if not res:\n",
    "    for i in range(len(board)-1):\n",
    "            if board[i][0]==board[i][1]==board[i][2]:\n",
    "                print(board[i][0])\n",
    "                res=True\n",
    "                break\n",
    "    \n",
    "if not res:\n",
    "    for j in range(len(board)-1):\n",
    "        if board[0][j]==board[1][j]==board[2][j]:\n",
    "            print(board[0][j])\n",
    "            res=True\n",
    "            break\n",
    "    \n",
    "if not res:\n",
    "        if board[0][0]==board[1][1]==board[2][2]:\n",
    "            print(board[0][0])\n",
    "            res=True\n",
    "            \n",
    "        elif board[0][-1]==board[1][-2]==board[2][-3]:\n",
    "            print(board[0][-1])\n",
    "            res=True\n",
    "if not res:\n",
    "    print(\"DRAW\")\n",
    "       \n",
    "print(res,end=\"\\n\")"
   ]
  },
  {
   "cell_type": "code",
   "execution_count": 51,
   "metadata": {},
   "outputs": [
    {
     "name": "stdout",
     "output_type": "stream",
     "text": [
      "[0, 0]\n",
      "[[0, 1, 2, 0], [3, 4, 5, 2], [1, 3, 1, 5]]\n",
      "[[0, 0, 0, 0], [0, 4, 5, 0], [0, 3, 1, 0]]\n"
     ]
    }
   ],
   "source": [
    "matrix=[[0,1,2,0],[3,4,5,2],[1,3,1,5]]\n",
    "rows=[]\n",
    "cols=[]\n",
    "for row in range(len(matrix)):\n",
    "    for col in range(len(matrix[0])):\n",
    "        if matrix[row][col]==0:\n",
    "            rows.append(row)\n",
    "            cols.append(col)\n",
    "print(rows)\n",
    "print(matrix)\n",
    "rows=list(set(rows))\n",
    "cols=list(set(cols))\n",
    "for i in range(len(rows)):\n",
    "    matrix[rows[i]]=[0]*len(matrix[0])\n",
    "    \n",
    "for i in cols:\n",
    "    for j in range(len(matrix)):\n",
    "        matrix[j][i]=0\n",
    "print(matrix)\n",
    "            "
   ]
  },
  {
   "cell_type": "code",
   "execution_count": 21,
   "metadata": {},
   "outputs": [
    {
     "name": "stdout",
     "output_type": "stream",
     "text": [
      "efg\n"
     ]
    }
   ],
   "source": [
    "# salary=[4000,3000,1000,2000]\n",
    "# return f\"{sum(salary)/len(salary):.5f}\n",
    "# # formating and maths\n",
    "text=\"abc\"\n",
    "new=\"\"\n",
    "for i in text:\n",
    "    # new=str(ord(i)+4)\n",
    "    new=new+chr(ord(i)+4)\n",
    "print(new)\n",
    "    "
   ]
  },
  {
   "cell_type": "code",
   "execution_count": 23,
   "metadata": {},
   "outputs": [
    {
     "name": "stdout",
     "output_type": "stream",
     "text": [
      "False\n",
      "True\n"
     ]
    }
   ],
   "source": [
    "bills = [5,5,10,10,20]\n",
    "five=0\n",
    "ten=0\n",
    "for i in bills:\n",
    "    if i ==5:\n",
    "        five+=1\n",
    "    elif i==10:\n",
    "        if five>0:\n",
    "            five-=1\n",
    "            ten+=1\n",
    "        else:\n",
    "            print(False)\n",
    "    elif i==20:\n",
    "        if (five>0 and ten >0):\n",
    "            five-=1\n",
    "            ten-=1\n",
    "        elif five>2:\n",
    "            five-=3\n",
    "        else:\n",
    "            print(False)\n",
    "print(True)\n",
    "        \n",
    "        \n",
    "        "
   ]
  },
  {
   "cell_type": "code",
   "execution_count": null,
   "metadata": {},
   "outputs": [
    {
     "name": "stdout",
     "output_type": "stream",
     "text": [
      "1\n",
      "1\n",
      "1\n",
      "1\n",
      "1\n"
     ]
    }
   ],
   "source": [
    "coor = [[1,2],[2,3],[3,4],[4,5],[5,6],[6,7]]\n",
    "# print(len(coor))\n",
    "# m=y2-y1/x2-x1\n",
    "for i in range(len(coor)-1):\n",
    "        print(coor[i+1][1]-coor[i][1]//coor[i+1][0]-coor[i][0])\n",
    "        \n",
    "        \n",
    "class Solution(object):\n",
    "    def checkStraightLine(self, coordinates):\n",
    "        \"\"\"\n",
    "        :type coordinates: List[List[int]]\n",
    "        :rtype: bool\n",
    "        \"\"\"\n",
    "        x1, y1 = coordinates[0]\n",
    "        x2, y2 = coordinates[1]\n",
    "\n",
    "        for i in range(2, len(coordinates)):\n",
    "            x3, y3 = coordinates[i]\n",
    "            if (y2 - y1) * (x3 - x1) != (y3 - y1) * (x2 - x1):\n",
    "                return False\n",
    "\n",
    "        return True\n",
    "    "
   ]
  },
  {
   "cell_type": "code",
   "execution_count": null,
   "metadata": {},
   "outputs": [],
   "source": []
  }
 ],
 "metadata": {
  "kernelspec": {
   "display_name": "base",
   "language": "python",
   "name": "python3"
  },
  "language_info": {
   "codemirror_mode": {
    "name": "ipython",
    "version": 3
   },
   "file_extension": ".py",
   "mimetype": "text/x-python",
   "name": "python",
   "nbconvert_exporter": "python",
   "pygments_lexer": "ipython3",
   "version": "3.12.7"
  }
 },
 "nbformat": 4,
 "nbformat_minor": 2
}
