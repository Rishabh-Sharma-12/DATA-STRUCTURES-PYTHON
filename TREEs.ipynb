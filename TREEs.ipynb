{
 "cells": [
  {
   "cell_type": "code",
   "execution_count": null,
   "metadata": {},
   "outputs": [],
   "source": [
    "class Node:\n",
    "    def __init__(self,value):\n",
    "        self.left=None\n",
    "        self.data=value\n",
    "        self.right=None\n",
    "class Tree:\n",
    "    def createRootNode(self,data):\n",
    "        return Node(data)\n",
    "    \n",
    "    def insertvalue(self,node,data):\n",
    "        if node is None:\n",
    "            return self.createRootNode(data)\n",
    "        if data<node.data:\n",
    "            node.left=self.insertvalue(node.left,data)\n",
    "        else:\n",
    "            node.right=self.insertvalue(node.right,data)    \n",
    "        return node\n",
    "\n",
    "    def t_inorder(self,root,tress):\n",
    "        if root is not None:\n",
    "            self.t_inorder(root.left,tress)\n",
    "            tress.append(root.data)\n",
    "            self.t_inorder(root.right,tress)\n",
    "        return tress\n",
    "    \n",
    "    def pre_order(self,root,trees):\n",
    "        if root is not None:\n",
    "            trees.append(root.data)\n",
    "            self.pre_order(root.left,trees)\n",
    "            self.pre_order(root.right,trees)\n",
    "        return trees\n",
    "    \n",
    "    def post_order(self,root,trees):\n",
    "        if root is not None:\n",
    "            self.pre_order(root.left,trees)\n",
    "            self.pre_order(root.right,trees)\n",
    "            trees.append(root.data)\n",
    "        return trees\n",
    "    \n",
    "    def level_order(self,root,trees):\n",
    "        queue=[]\n",
    "        queue.append(root)\n",
    "        while len(queue)!=0:\n",
    "            root=queue.pop(0)\n",
    "            trees.append(root.data)\n",
    "            if root.left is not None:\n",
    "                queue.append(root.left)\n",
    "            if root.right is not None:\n",
    "                queue.append(root.right)\n",
    "        return trees\n",
    "            \n",
    "    def left_order(self,root,trees):\n",
    "        queue=[]\n",
    "        queue.append(root)\n",
    "        while len(queue)!=0:\n",
    "            root=queue.pop(0)\n",
    "            trees.append(root.data)\n",
    "            if root.left is not None:\n",
    "                queue.append(root.left)\n",
    "            if root.right is not None:\n",
    "                queue.append(root.right)\n",
    "        return trees\n",
    "    \n",
    "    def height(self,root):\n",
    "        if root is None:\n",
    "            return -1\n",
    "        return max(self.height(root.left),self.height(root.right))+1\n",
    "            \n"
   ]
  },
  {
   "cell_type": "code",
   "execution_count": 10,
   "metadata": {},
   "outputs": [
    {
     "name": "stdout",
     "output_type": "stream",
     "text": [
      "50\n",
      "inorder:[1, 10, 11, 23, 40, 50, 98, 100, 102, 220]\n",
      "pre-order:[50, 10, 1, 11, 40, 23, 100, 98, 220, 102]\n",
      "post-order:[10, 1, 11, 40, 23, 100, 98, 220, 102, 50]\n",
      "4\n",
      "[50, 10, 100, 1, 11, 98, 220, 40, 102, 23]\n"
     ]
    }
   ],
   "source": [
    "\n",
    "new_tree=Tree()\n",
    "root=new_tree.createRootNode(50)\n",
    "print(root.data)\n",
    "new_tree.insertvalue(root,10)\n",
    "new_tree.insertvalue(root,1)\n",
    "new_tree.insertvalue(root,100)\n",
    "new_tree.insertvalue(root,11)\n",
    "new_tree.insertvalue(root,40)\n",
    "new_tree.insertvalue(root,220)\n",
    "new_tree.insertvalue(root,102)\n",
    "new_tree.insertvalue(root,98)\n",
    "new_tree.insertvalue(root,23)\n",
    "# new_tree.insertvalue(root,110)\n",
    "inor=[]\n",
    "print(f\"inorder:{new_tree.t_inorder(root,inor)}\")\n",
    "pre=[]\n",
    "print(f\"pre-order:{new_tree.pre_order(root,pre)}\")\n",
    "post=[]\n",
    "print(f\"post-order:{new_tree.post_order(root,post)}\")\n",
    "print(new_tree.height(root))\n",
    "t=[]\n",
    "print(new_tree.level_order(root,t))\n"
   ]
  },
  {
   "cell_type": "code",
   "execution_count": null,
   "metadata": {},
   "outputs": [],
   "source": [
    "while q:\n",
    "            level = []              # List to store values at current level\n",
    "            size = len(q)           # Number of nodes at this level\n",
    "\n",
    "            for _ in range(size):\n",
    "                node = q.pop(0)\n",
    "                level.append(node.val)\n",
    "                if node.left:\n",
    "                    q.append(node.left)\n",
    "                if node.right:\n",
    "                    q.append(node.right)\n",
    "\n",
    "            result.append(level)    # Add the level list to result\n",
    "\n",
    "        return result"
   ]
  },
  {
   "cell_type": "code",
   "execution_count": null,
   "metadata": {},
   "outputs": [],
   "source": [
    "        a={}\n",
    "        for i in range(len(nums)):\n",
    "            a[nums[i]]=1+a.get(nums[i],0)\n",
    "        \n",
    "        for i in a.values():\n",
    "            if i!=1:\n",
    "                return True\n",
    "        return False"
   ]
  },
  {
   "cell_type": "code",
   "execution_count": 3,
   "metadata": {},
   "outputs": [
    {
     "data": {
      "text/plain": [
       "{'a': 1, 'b': 1, 'c': 1, 'd': 2, 'e': 1, 's': 1}"
      ]
     },
     "execution_count": 3,
     "metadata": {},
     "output_type": "execute_result"
    }
   ],
   "source": [
    "string=\"abcdesd\"\n",
    "a={}\n",
    "for i in range(len(string)):\n",
    "    a[string[i]]=1+a.get(string[i],0)\n",
    "a"
   ]
  },
  {
   "cell_type": "code",
   "execution_count": 9,
   "metadata": {},
   "outputs": [
    {
     "data": {
      "text/plain": [
       "[[1], [1, 1], [1, 2, 1], [1, 3, 3, 1], [1, 4, 6, 4, 1]]"
      ]
     },
     "execution_count": 9,
     "metadata": {},
     "output_type": "execute_result"
    }
   ],
   "source": [
    "row=5\n",
    "list_1=[]\n",
    "for i in range(row):\n",
    "    temp_l=[]\n",
    "    for j in range(i+1):\n",
    "        if j==0 or j==i:  \n",
    "            temp_l.append(1)\n",
    "        else:\n",
    "            temp_l.append(list_1[i-1][j]+list_1[i-1][j-1])\n",
    "        \n",
    "    list_1.append(temp_l)\n",
    "list_1"
   ]
  },
  {
   "cell_type": "code",
   "execution_count": null,
   "metadata": {},
   "outputs": [
    {
     "data": {
      "text/plain": [
       "('(((', '))))')"
      ]
     },
     "execution_count": 10,
     "metadata": {},
     "output_type": "execute_result"
    }
   ],
   "source": [
    "n=3\n",
    "l=\"(\"*3\n",
    "r=\")\"*3\n",
    "list_new=[\"(\",\")\"]\n",
    "count=n*2\n",
    "list=[]\n",
    "for i in range(n):\n",
    "    for j in range(i+1):\n",
    "        if j==0:\n",
    "            list.append(l)\n",
    "            count-=1\n",
    "        if j==n:\n",
    "            list.append(r)\n",
    "            count-=1\n",
    "        else:\n",
    "            \n"
   ]
  },
  {
   "cell_type": "code",
   "execution_count": 19,
   "metadata": {},
   "outputs": [
    {
     "name": "stdout",
     "output_type": "stream",
     "text": [
      "(\n",
      ")\n"
     ]
    }
   ],
   "source": [
    "list_new=[\"(\",\")\"]\n",
    "for i in range(len(list_new)):\n",
    "        print(list_new[i])"
   ]
  },
  {
   "cell_type": "code",
   "execution_count": null,
   "metadata": {},
   "outputs": [],
   "source": [
    "class TreeNode():\n",
    "    def __init__(self,val=0,left=None,right=None):\n",
    "        self.val=val,\n",
    "        self.left=left,\n",
    "        self.right=right\n",
    "    \n"
   ]
  }
 ],
 "metadata": {
  "kernelspec": {
   "display_name": "Python 3",
   "language": "python",
   "name": "python3"
  },
  "language_info": {
   "codemirror_mode": {
    "name": "ipython",
    "version": 3
   },
   "file_extension": ".py",
   "mimetype": "text/x-python",
   "name": "python",
   "nbconvert_exporter": "python",
   "pygments_lexer": "ipython3",
   "version": "3.10.18"
  }
 },
 "nbformat": 4,
 "nbformat_minor": 2
}
