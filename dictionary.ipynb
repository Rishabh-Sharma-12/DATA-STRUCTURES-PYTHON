{
 "cells": [
  {
   "cell_type": "code",
   "execution_count": null,
   "id": "d06e7c4a",
   "metadata": {},
   "outputs": [],
   "source": [
    "# fetching key \n",
    "d={\"1\":1,\n",
    "   \"2\":2,\n",
    "   \"3\":3}\n",
    "user=str(input(\">\"))\n",
    "if user in d.keys():\n",
    "    print(\"key exist in the dictory\")\n",
    "    print(f\"value {d[user]}\")\n",
    "else:\n",
    "    print(\"key does not present\")"
   ]
  },
  {
   "cell_type": "code",
   "execution_count": null,
   "id": "02778497",
   "metadata": {},
   "outputs": [
    {
     "name": "stdout",
     "output_type": "stream",
     "text": [
      "{'1': 1, '2': 2, '3': 3, '4': 1, '5': 2, '7': 3}\n"
     ]
    }
   ],
   "source": [
    "#concatinating of two dictionaries\n",
    "d1={\"1\":1,\n",
    "   \"2\":2,\n",
    "   \"3\":3}\n",
    "d2={\"4\":1,\n",
    "   \"5\":2,\n",
    "   \"7\":3}\n",
    "d1.update(d2)\n",
    "#update features add one dictionary to another\n",
    "print(d1)"
   ]
  },
  {
   "cell_type": "code",
   "execution_count": null,
   "id": "a5505adc",
   "metadata": {},
   "outputs": [
    {
     "name": "stdout",
     "output_type": "stream",
     "text": [
      "6\n"
     ]
    }
   ],
   "source": [
    "#multiply all the values in a dictionary\n",
    "d1={\"1\":1,\n",
    "   \"2\":2,\n",
    "   \"3\":3}\n",
    "m_value=1\n",
    "for i in d1.values():\n",
    "    m_value*=i\n",
    "    \n",
    "for i in d1.keys():\n",
    "    m_value*=d1[i]\n",
    "print(m_value)"
   ]
  },
  {
   "cell_type": "code",
   "execution_count": 17,
   "id": "72949dc5",
   "metadata": {},
   "outputs": [
    {
     "name": "stdout",
     "output_type": "stream",
     "text": [
      "6\n",
      "13\n"
     ]
    }
   ],
   "source": [
    "#calculate sum of all the values in a dictionary \n",
    "d1={\"1\":1,\n",
    "   \"3\":2,\n",
    "   \"9\":3}\n",
    "print(sum(d1.values()))\n",
    "key_l=[]\n",
    "for i in d1.keys():\n",
    "    key_l.append(int(i))\n",
    "print(sum(key_l))"
   ]
  },
  {
   "cell_type": "code",
   "execution_count": 21,
   "id": "02433e08",
   "metadata": {},
   "outputs": [
    {
     "name": "stdout",
     "output_type": "stream",
     "text": [
      "('1', 'a')\n",
      "('2', 'b')\n",
      "('3', 'c')\n",
      "('4', 'd')\n",
      "{'1': 'a', '2': 'b', '3': 'c', '4': 'd'}\n"
     ]
    }
   ],
   "source": [
    "# converting 2 list into dict\n",
    "k=[\"1\",\"2\",\"3\",\"4\"]\n",
    "v=[\"a\",\"b\",\"c\",\"d\"]\n",
    "dictionary={}\n",
    "# while k or v:\n",
    "#     dictionary[k]=v\n",
    "dictionary=dict(zip(k,v))\n",
    "dictionary\n",
    "for i in zip(k,v):\n",
    "    print(i)\n",
    "print(dictionary)"
   ]
  },
  {
   "cell_type": "code",
   "execution_count": 30,
   "id": "3bff8b5c",
   "metadata": {},
   "outputs": [
    {
     "data": {
      "text/plain": [
       "{'s': 3, 'd': 3}"
      ]
     },
     "execution_count": 30,
     "metadata": {},
     "output_type": "execute_result"
    }
   ],
   "source": [
    "#count frequency\n",
    "user=str(input(\">\"))\n",
    "user.split()\n",
    "d1={}\n",
    "for i in user:\n",
    "    if i in d1.keys():\n",
    "        d1[i]=d1.get(i,0)+1\n",
    "        # d1[i]+=1\n",
    "    else:\n",
    "        d1[i]=1\n",
    "d1"
   ]
  },
  {
   "cell_type": "code",
   "execution_count": null,
   "id": "b9f31692",
   "metadata": {},
   "outputs": [
    {
     "name": "stdout",
     "output_type": "stream",
     "text": [
      "{1: 1, 2: 4, 3: 9}\n"
     ]
    }
   ],
   "source": [
    "n=int(input(\">\"))\n",
    "d={i:i**2 for i in range(1,n+1)}\n",
    "print(d)"
   ]
  },
  {
   "cell_type": "code",
   "execution_count": 34,
   "id": "99211f9b",
   "metadata": {},
   "outputs": [
    {
     "data": {
      "text/plain": [
       "{1: 1, 2: 2, 3: 3}"
      ]
     },
     "execution_count": 34,
     "metadata": {},
     "output_type": "execute_result"
    }
   ],
   "source": [
    "d={i:i for i in range(1,n+1)}\n",
    "d"
   ]
  },
  {
   "cell_type": "code",
   "execution_count": 41,
   "id": "2234b3bd",
   "metadata": {},
   "outputs": [
    {
     "name": "stdout",
     "output_type": "stream",
     "text": [
      "{'i': ['i'], 'a': ['am'], 'r': ['rishabh', 'rah']}\n"
     ]
    }
   ],
   "source": [
    "n=str(input(\">\"))\n",
    "n=n.split()\n",
    "d={}\n",
    "for i in n:\n",
    "    ch=i[0]\n",
    "    if ch not in d:\n",
    "        d[ch]=[]\n",
    "    d[ch].append(i)\n",
    "print(d)"
   ]
  },
  {
   "cell_type": "code",
   "execution_count": 42,
   "id": "6adfd0b7",
   "metadata": {},
   "outputs": [
    {
     "name": "stdout",
     "output_type": "stream",
     "text": [
      "{1: '1', 2: '2', 3: '3', 4: '4'}\n"
     ]
    }
   ],
   "source": [
    "def comp(keys,value):\n",
    "    d=dict(zip(keys,value))\n",
    "    return d\n",
    "\n",
    "keys=[1,2,3,4]\n",
    "values=[\"1\",\"2\",\"3\",\"4\"]\n",
    "print(comp(keys,values))"
   ]
  },
  {
   "cell_type": "code",
   "execution_count": null,
   "id": "37ed028d",
   "metadata": {},
   "outputs": [
    {
     "name": "stdout",
     "output_type": "stream",
     "text": [
      "Operation: LRUCache[2] -> created cache with cap=2\n",
      "Operation: put[1, 1] -> cache = {1: 1}\n",
      "Operation: put[2, 2] -> cache = {1: 1, 2: 2}\n",
      "Operation: get[1] -> returned 1, cache = {2: 2, 1: 1}\n",
      "Operation: put[3, 3] -> cache = {1: 1, 3: 3}\n",
      "Operation: get[2] -> returned -1, cache = {1: 1, 3: 3}\n",
      "Operation: put[4, 4] -> cache = {3: 3, 4: 4}\n",
      "Operation: get[1] -> returned -1, cache = {3: 3, 4: 4}\n",
      "Operation: get[3] -> returned 3, cache = {4: 4, 3: 3}\n",
      "Operation: get[4] -> returned 4, cache = {3: 3, 4: 4}\n",
      "\n",
      "Final Results List:\n",
      "[None, None, None, 1, None, -1, None, -1, 3, 4]\n"
     ]
    }
   ],
   "source": [
    "class LRUCache(object):\n",
    "\n",
    "    def __init__(self, capacity):\n",
    "        \"\"\"\n",
    "        :type capacity: int\n",
    "        \"\"\"\n",
    "        self.cap=capacity\n",
    "        self.dictio={}\n",
    "\n",
    "    def get(self, key):\n",
    "        \"\"\"\n",
    "        :type key: int\n",
    "        :rtype: int\n",
    "        \"\"\"\n",
    "        if key in self.dict.keys():\n",
    "            val=self.dict[key]\n",
    "            del self.dict[key]\n",
    "            self.dict[key]=val\n",
    "            return val\n",
    "        else:\n",
    "            return -1\n",
    "\n",
    "    def put(self, key, value):\n",
    "        \"\"\"\n",
    "        :type key: int\n",
    "        :type value: int\n",
    "        :rtype: None\n",
    "        \"\"\"\n",
    "        if key in self.dict.keys():\n",
    "            del self.dict[key]\n",
    "            self.dict[key]=value\n",
    "        else:\n",
    "            if len(self.dict)<self.cap:\n",
    "                self.dict[key]=value\n",
    "            else:\n",
    "                del self.dict[next(iter(self.dict))]\n",
    "                self.dict[key]=value\n",
    "\n",
    "\n",
    "# Your LRUCache object will be instantiated and called as such:\n",
    "# -------------------------------\n",
    "# Test the LRUCache step by step\n",
    "# -------------------------------\n",
    "def test_lru():\n",
    "    ops = [\"LRUCache\",\"put\",\"put\",\"get\",\"put\",\"get\",\"put\",\"get\",\"get\",\"get\"]\n",
    "    args = [[2],[1,1],[2,2],[1],[3,3],[2],[4,4],[1],[3],[4]]\n",
    "\n",
    "    obj = None\n",
    "    results = []\n",
    "\n",
    "    for i, op in enumerate(ops):\n",
    "        if op == \"LRUCache\":\n",
    "            obj = LRUCache(*args[i])\n",
    "            results.append(None)\n",
    "            print(f\"Operation: {op}{args[i]} -> created cache with cap={args[i][0]}\")\n",
    "        elif op == \"put\":\n",
    "            obj.put(*args[i])\n",
    "            results.append(None)\n",
    "            print(f\"Operation: {op}{args[i]} -> cache = {obj.dict}\")\n",
    "        elif op == \"get\":\n",
    "            res = obj.get(*args[i])\n",
    "            results.append(res)\n",
    "            print(f\"Operation: {op}{args[i]} -> returned {res}, cache = {obj.dict}\")\n",
    "\n",
    "    print(\"\\nFinal Results List:\")\n",
    "    print(results)\n",
    "\n",
    "test_lru()"
   ]
  },
  {
   "cell_type": "code",
   "execution_count": null,
   "id": "6dcec298",
   "metadata": {},
   "outputs": [],
   "source": []
  }
 ],
 "metadata": {
  "kernelspec": {
   "display_name": "base",
   "language": "python",
   "name": "python3"
  },
  "language_info": {
   "codemirror_mode": {
    "name": "ipython",
    "version": 3
   },
   "file_extension": ".py",
   "mimetype": "text/x-python",
   "name": "python",
   "nbconvert_exporter": "python",
   "pygments_lexer": "ipython3",
   "version": "3.12.7"
  }
 },
 "nbformat": 4,
 "nbformat_minor": 5
}
