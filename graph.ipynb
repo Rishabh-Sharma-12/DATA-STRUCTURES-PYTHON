{
 "cells": [
  {
   "cell_type": "code",
   "execution_count": 11,
   "id": "93461d96",
   "metadata": {},
   "outputs": [
    {
     "name": "stdout",
     "output_type": "stream",
     "text": [
      "[0, 1, 1, 1, 1, 0]\n",
      "[1, 0, 0, 1, 0, 0]\n",
      "[1, 0, 0, 1, 1, 1]\n",
      "[1, 1, 1, 0, 0, 1]\n",
      "[1, 0, 1, 0, 0, 0]\n",
      "[0, 0, 1, 1, 0, 0]\n"
     ]
    }
   ],
   "source": [
    "ipt=[[0,1],[0,2],[0,3],[0,4],[1,3],[2,3],[2,4],[2,5],[3,5]]\n",
    "n=6\n",
    "mg=[]\n",
    "for i in range(n):\n",
    "    temp=[]\n",
    "    for j in range(n):\n",
    "        temp.append(0)\n",
    "    mg.append(temp)\n",
    "for (u,v) in ipt:\n",
    "    mg[u][v]=1\n",
    "    mg[v][u]=1\n",
    "for item in mg:\n",
    "    print(item)\n"
   ]
  },
  {
   "cell_type": "code",
   "execution_count": 15,
   "id": "b0e826d2",
   "metadata": {},
   "outputs": [
    {
     "name": "stdout",
     "output_type": "stream",
     "text": [
      "(0, [1, 2, 3, 4])\n",
      "(1, [0, 3])\n",
      "(2, [0, 3, 4, 5])\n",
      "(3, [0, 1, 2, 5])\n",
      "(4, [0, 2])\n",
      "(5, [2, 3])\n"
     ]
    }
   ],
   "source": [
    "ipt=[[0,1],[0,2],[0,3],[0,4],[1,3],[2,3],[2,4],[2,5],[3,5]]\n",
    "graph={}\n",
    "for i in range(6):\n",
    "    graph[i]=[]\n",
    "for (u,v) in ipt:\n",
    "    if u in graph:\n",
    "        graph[u].append(v)\n",
    "        graph[v].append(u)\n",
    "\n",
    "for i in graph.items():\n",
    "    print(i)"
   ]
  },
  {
   "cell_type": "code",
   "execution_count": 2,
   "id": "7d0c28f1",
   "metadata": {},
   "outputs": [
    {
     "name": "stdout",
     "output_type": "stream",
     "text": [
      "(0, [1, 2, 3, 4])\n",
      "(1, [0, 3])\n",
      "(2, [0, 3, 4, 5])\n",
      "(3, [0, 1, 2, 5])\n",
      "(4, [0, 2])\n",
      "(5, [2, 3])\n"
     ]
    }
   ],
   "source": [
    "ipt=[[0,1],[0,2],[0,3],[0,4],[1,3],[2,3],[2,4],[2,5],[3,5]]\n",
    "graph={}\n",
    "for u,v in (ipt):\n",
    "    if u not in graph:\n",
    "        graph[u]=[]\n",
    "    if v not in graph:\n",
    "        graph[v]=[]\n",
    "    graph[u].append(v)\n",
    "    graph[v].append(u)\n",
    "    \n",
    "for i in graph.items():\n",
    "    print(i)\n"
   ]
  },
  {
   "cell_type": "code",
   "execution_count": 3,
   "id": "ffc17b76",
   "metadata": {},
   "outputs": [],
   "source": [
    "def dfs(graph,visited,node):\n",
    "    if node in visited:\n",
    "        return\n",
    "    print(node)\n",
    "    visited.add(node)\n",
    "    for neighbour in graph[node]:\n",
    "        dfs(graph,visited,neighbour)"
   ]
  },
  {
   "cell_type": "code",
   "execution_count": 5,
   "id": "dbb44ba6",
   "metadata": {},
   "outputs": [
    {
     "name": "stdout",
     "output_type": "stream",
     "text": [
      "0\n",
      "1\n",
      "3\n",
      "2\n",
      "4\n",
      "5\n"
     ]
    }
   ],
   "source": [
    "visited=set()\n",
    "dfs(graph,visited,0)"
   ]
  },
  {
   "cell_type": "code",
   "execution_count": null,
   "id": "9b9aeed8",
   "metadata": {},
   "outputs": [],
   "source": []
  }
 ],
 "metadata": {
  "kernelspec": {
   "display_name": "base",
   "language": "python",
   "name": "python3"
  },
  "language_info": {
   "codemirror_mode": {
    "name": "ipython",
    "version": 3
   },
   "file_extension": ".py",
   "mimetype": "text/x-python",
   "name": "python",
   "nbconvert_exporter": "python",
   "pygments_lexer": "ipython3",
   "version": "3.12.7"
  }
 },
 "nbformat": 4,
 "nbformat_minor": 5
}
