{
 "cells": [
  {
   "cell_type": "code",
   "execution_count": 27,
   "metadata": {},
   "outputs": [
    {
     "name": "stdout",
     "output_type": "stream",
     "text": [
      "[1, 9, -2, 3]\n",
      "[1, 9, -2, 3]\n",
      "[1, -2, 9, 3]\n",
      "[-2, 1, 9, 3]\n",
      "[-2, 1, 9, 3]\n",
      "[-2, 1, 3, 9]\n",
      "[-2, 1, 3, 9]\n"
     ]
    }
   ],
   "source": [
    "#perform insertin sort \n",
    "def main(nums):\n",
    "    i=j=1\n",
    "    while i<=(len(nums)-1):\n",
    "        j=i\n",
    "        print(nums)\n",
    "        while nums[j]<nums[j-1]:\n",
    "            if j==0:\n",
    "                break\n",
    "            else:\n",
    "                nums[j],nums[j-1]=nums[j-1],nums[j]\n",
    "            j-=1\n",
    "            print(nums)\n",
    "        i+=1\n",
    "    return nums\n",
    "\n",
    "if __name__==\"__main__\":\n",
    "    t=main([1,9,-2,3])\n",
    "    print(t)"
   ]
  },
  {
   "cell_type": "code",
   "execution_count": 35,
   "metadata": {},
   "outputs": [
    {
     "name": "stdout",
     "output_type": "stream",
     "text": [
      "[-2, 9, 1, 3]\n",
      "[-2, 1, 9, 3]\n",
      "[-2, 1, 3, 9]\n",
      "[-2, 1, 3, 9]\n",
      "None\n"
     ]
    }
   ],
   "source": [
    "#selection sort\n",
    "def main(nums):\n",
    "    min_term=0\n",
    "    i=0\n",
    "    while(i<len(nums)):\n",
    "        j=i+1\n",
    "        while(j<len(nums)):\n",
    "            if nums[j]<nums[min_term]:\n",
    "                min_term=j\n",
    "            j+=1\n",
    "        nums[i],nums[min_term]=nums[min_term],nums[i]\n",
    "        print(nums)\n",
    "        i+=1\n",
    "\n",
    "if __name__==\"__main__\":\n",
    "    t=main([1,9,-2,3])\n",
    "    print(t)"
   ]
  },
  {
   "cell_type": "code",
   "execution_count": 47,
   "metadata": {},
   "outputs": [
    {
     "name": "stdout",
     "output_type": "stream",
     "text": [
      "[1, 1, 1, 4, 5, 6]\n",
      "[1, 1, 5] [1, 4, 6] [1, 1, 1] [6, 5, 4]\n"
     ]
    },
    {
     "data": {
      "text/plain": [
       "[1, 6, 1, 5, 1, 4]"
      ]
     },
     "execution_count": 47,
     "metadata": {},
     "output_type": "execute_result"
    }
   ],
   "source": [
    "# Given an integer array nums, reorder it such that nums[0] < nums[1] > nums[2] < nums[3]....\n",
    "\n",
    "# You may assume the input array always has a valid answer.\n",
    "\n",
    " \n",
    "\n",
    "# Example 1:\n",
    "\n",
    "# Input: nums = [1,5,1,1,6,4]\n",
    "# Output: [1,6,1,5,1,4]\n",
    "# Explanation: [1,4,1,5,1,6] is also accepted.\n",
    "# Example 2:\n",
    "\n",
    "# Input: nums = [1,3,2,2,3,1]\n",
    "# Output: [2,3,1,3,1,2]\n",
    "\n",
    "nums=[1,5,1,1,6,4]\n",
    "count=1\n",
    "nums.sort()\n",
    "half=len(nums[::2])\n",
    "print(nums)\n",
    "print(nums[::2],nums[1::2],nums[:half][::-1],nums[half:][::-1])\n",
    "nums[::2],nums[1::2]=nums[:half][::-1],nums[half:][::-1]\n",
    "            \n",
    "nums\n",
    "    \n"
   ]
  },
  {
   "cell_type": "code",
   "execution_count": 7,
   "metadata": {},
   "outputs": [
    {
     "name": "stdout",
     "output_type": "stream",
     "text": [
      "[] [2, 2, 1, 1]\n",
      "[2] [2, 1, 1]\n",
      "[2, 2] [1, 1]\n",
      "[2, 2, 1] [1]\n",
      "False\n"
     ]
    }
   ],
   "source": [
    "s=[2,2,1,1]\n",
    "start=0\n",
    "end=len(s)-start\n",
    "for i in range(len(s)):\n",
    "    print(s[:start],s[-end:])\n",
    "    if sum(s[:start])==sum(s[-end:]):\n",
    "        print(True)\n",
    "    start+=1\n",
    "    end-=1\n",
    "print(False)\n",
    "    "
   ]
  },
  {
   "cell_type": "code",
   "execution_count": null,
   "metadata": {},
   "outputs": [],
   "source": []
  }
 ],
 "metadata": {
  "kernelspec": {
   "display_name": "Python 3",
   "language": "python",
   "name": "python3"
  },
  "language_info": {
   "codemirror_mode": {
    "name": "ipython",
    "version": 3
   },
   "file_extension": ".py",
   "mimetype": "text/x-python",
   "name": "python",
   "nbconvert_exporter": "python",
   "pygments_lexer": "ipython3",
   "version": "3.10.18"
  }
 },
 "nbformat": 4,
 "nbformat_minor": 2
}
