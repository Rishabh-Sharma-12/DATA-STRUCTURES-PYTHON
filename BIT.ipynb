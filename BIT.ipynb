{
 "cells": [
  {
   "cell_type": "code",
   "execution_count": 40,
   "metadata": {},
   "outputs": [
    {
     "name": "stdout",
     "output_type": "stream",
     "text": [
      "0\n",
      "0\n",
      "0\n",
      "1\n",
      "8\n"
     ]
    }
   ],
   "source": [
    "#from the list of binary to the decimal\n",
    "def main():\n",
    "    s=\"1000\"#8\n",
    "    s=s[::-1]\n",
    "    sum=0\n",
    "    for i in range(len(s)):\n",
    "        print(s[i])\n",
    "        sum=sum+(2**(i)*int(s[i]))\n",
    "    return sum\n",
    "\n",
    "if __name__==\"__main__\":\n",
    "    t=main()\n",
    "    print(t)\n",
    "    "
   ]
  },
  {
   "cell_type": "code",
   "execution_count": 76,
   "metadata": {},
   "outputs": [
    {
     "name": "stdout",
     "output_type": "stream",
     "text": [
      "100000100000-10-11101\n"
     ]
    }
   ],
   "source": [
    "def main():\n",
    "    s=\"2080-02-29\"\n",
    "    s=s.split(\"-\")\n",
    "    t=[]\n",
    "    for i in s:\n",
    "        t.append(int(i))\n",
    "    res=[]\n",
    "    binary=\"\"\n",
    "    for i in t:\n",
    "        if i==0:\n",
    "            return 0\n",
    "        while i>0:\n",
    "            remainder=i%2\n",
    "            binary=str(remainder)+binary\n",
    "            i=i//2\n",
    "        res.append(binary)\n",
    "        binary=\"\"\n",
    "    res=\"-\".join(res)\n",
    "    # result=\"\"\n",
    "    \n",
    "    # for i in range(len(res)):\n",
    "    #     result=result+\"-\"+str(res[i])\n",
    "    return res\n",
    "        \n",
    "\n",
    "if __name__==\"__main__\":\n",
    "    t=main()\n",
    "    print(t)\n",
    "    \n",
    "    "
   ]
  },
  {
   "cell_type": "code",
   "execution_count": 98,
   "metadata": {},
   "outputs": [
    {
     "name": "stdout",
     "output_type": "stream",
     "text": [
      "True\n",
      "1 10 11\n",
      "0\n"
     ]
    }
   ],
   "source": [
    "def conv(n):\n",
    "    binary=\"\"\n",
    "    while n>0:\n",
    "        remainder=n%2\n",
    "        binary=str(remainder)+binary\n",
    "        n=n//2\n",
    "    return binary#gives back binary value of n in str\n",
    "\n",
    "def or_opp(a,b):\n",
    "    a=int(a,2)#recieving binary a convertin to int\n",
    "    b=int(b,2)#recieving binary b convertin to int\n",
    "    s=bin(a|b)#calculating binary or on int a,b\n",
    "    return s\n",
    "\n",
    "def shift(a,b,c):\n",
    "    flip=0\n",
    "    a=int(conv(a))\n",
    "    b=int(conv(b))\n",
    "    c=int(conv(c))\n",
    "    print(a,b,c)\n",
    "    while (a!=0 or b!=0 or c!=0):\n",
    "        if(c&1==1):\n",
    "            if (a&1==0) and (b&1==0):\n",
    "                flip+=1\n",
    "        else:\n",
    "            if (a&1==1):\n",
    "                flip+=1\n",
    "            if (b&1==1):\n",
    "                flip+=1\n",
    "        a>>=1\n",
    "        b>>=1\n",
    "        c>>=1\n",
    "    return flip\n",
    "\n",
    "if __name__==\"__main__\":\n",
    "    a=conv(1)\n",
    "    b=conv(2)\n",
    "    or_o=or_opp(a,b)\n",
    "    c=3\n",
    "    print(or_o==bin(c))\n",
    "    print(shift(1,2,3))"
   ]
  },
  {
   "cell_type": "code",
   "execution_count": 18,
   "metadata": {},
   "outputs": [
    {
     "name": "stdout",
     "output_type": "stream",
     "text": [
      "{2: 3, 3: 1}\n",
      "3\n",
      "None\n"
     ]
    }
   ],
   "source": [
    "def main():\n",
    "    num=[2,2,3,2]\n",
    "    a={}\n",
    "    for i in range(len(num)):\n",
    "        a[num[i]]=1+a.get(num[i],0)\n",
    "    print(a)\n",
    "    for keys,values in a.items():\n",
    "        if values==1:\n",
    "            print(keys)\n",
    "\n",
    "if __name__==\"__main__\":\n",
    "    print(main())"
   ]
  },
  {
   "cell_type": "code",
   "execution_count": 4,
   "metadata": {},
   "outputs": [
    {
     "name": "stdout",
     "output_type": "stream",
     "text": [
      "3\n"
     ]
    }
   ],
   "source": [
    "#Input: start = 10, goal = 7\n",
    "# Output: 3\n",
    "# Explanation: The binary representation of 10 and 7 are 1010 and 0111 respectively. We can convert 10 to 7 in 3 steps:\n",
    "# - Flip the first bit from the right: 1010 -> 1011.\n",
    "# - Flip the third bit from the right: 1011 -> 1111.\n",
    "# - Flip the fourth bit from the right: 1111 -> 0111.\n",
    "# It can be shown we cannot convert 10 to 7 in less than 3 steps. Hence, we return 3.\n",
    "\n",
    "a=10\n",
    "b=7\n",
    "flip=0\n",
    "while (a!=0 or b!=0):\n",
    "    if(a&1 != b&1):\n",
    "        flip+=1\n",
    "    a>>=1\n",
    "    b>>=1\n",
    "print(flip)\n",
    "    \n"
   ]
  },
  {
   "cell_type": "code",
   "execution_count": 13,
   "metadata": {},
   "outputs": [
    {
     "name": "stdout",
     "output_type": "stream",
     "text": [
      "0b1110 0b1101\n",
      "-1\n"
     ]
    }
   ],
   "source": [
    "# You are given two positive integers n and k.\n",
    "# You can choose any bit in the binary representation of n that is equal to 1 and change it to 0.\n",
    "# Return the number of changes needed to make n equal to k. If it is impossible, return -1.\n",
    "\n",
    "# Example 1:\n",
    "\n",
    "# Input: n = 13, k = 4\n",
    "\n",
    "# Output: 2\n",
    "\n",
    "# Explanation:\n",
    "# Initially, the binary representations of n and k are n = (1101)2 and k = (0100)2.\n",
    "# We can change the first and fourth bits of n. The resulting integer is n = (0100)2 = k.\n",
    "\n",
    "def main():\n",
    "    a=14\n",
    "    b=13\n",
    "    flip_a=0\n",
    "    print(bin(a),bin(b))\n",
    "    while (a!=0 or b!=0):\n",
    "        if(a&1==1 and b&1==0):\n",
    "            flip_a+=1\n",
    "        if(a&1==0 and b&1==1):\n",
    "            return -1\n",
    "        a>>=1\n",
    "        b>>=1\n",
    "    return flip_a\n",
    "\n",
    "if __name__==\"__main__\":\n",
    "    print(main())"
   ]
  },
  {
   "cell_type": "code",
   "execution_count": 29,
   "metadata": {},
   "outputs": [
    {
     "name": "stdout",
     "output_type": "stream",
     "text": [
      "964176192\n"
     ]
    }
   ],
   "source": [
    "# Input: n = 00000010100101000001111010011100\n",
    "# Output:    964176192 (00111001011110000010100101000000)\n",
    "n=\"00000010100101000001111010011100\"\n",
    "# print(n)\n",
    "# for i in range(len(n)-1):\n",
    "#     n=n[1:]+n[0]\n",
    "#     print(n)\n",
    "# print(n)\n",
    "    \n",
    "# return int(n,2)\n",
    "print(int(n[::-1],2))"
   ]
  },
  {
   "cell_type": "code",
   "execution_count": 42,
   "metadata": {},
   "outputs": [
    {
     "name": "stdout",
     "output_type": "stream",
     "text": [
      "[0, 1, 1, 2, 1, 2]\n"
     ]
    }
   ],
   "source": [
    "# Given an integer n, return an array ans of length n + 1 \n",
    "# such that for each i (0 <= i <= n),\n",
    "# ans[i] is the number of 1's in the binary representation of i.\n",
    "\n",
    "# Example 1:\n",
    "# Input: n = 2\n",
    "# Output: [0,1,1]\n",
    "# Explanation:\n",
    "# 0 --> 0\n",
    "# 1 --> 1\n",
    "# 2 --> 10\n",
    "\n",
    "def main():\n",
    "    k=5 \n",
    "    res=[]\n",
    "    for i in range(k+1):\n",
    "        nums=i\n",
    "        count=0\n",
    "        while nums!=0:\n",
    "            remainder=nums%2\n",
    "            if remainder==1:\n",
    "                count+=1\n",
    "            nums=nums//2\n",
    "        res.append(count)\n",
    "    return res\n",
    "    \n",
    "if __name__==\"__main__\":\n",
    "    print(main())\n"
   ]
  },
  {
   "cell_type": "code",
   "execution_count": 48,
   "metadata": {},
   "outputs": [
    {
     "data": {
      "text/plain": [
       "10"
      ]
     },
     "execution_count": 48,
     "metadata": {},
     "output_type": "execute_result"
    }
   ],
   "source": [
    "# Given a positive integer n, write a function that returns the number of set bits in its binary representation (also known as the Hamming weight).\n",
    "\n",
    " \n",
    "\n",
    "# Example 1:\n",
    "\n",
    "# Input: n = 11\n",
    "\n",
    "# Output: 3\n",
    "\n",
    "# Explanation:\n",
    "\n",
    "# The input binary string 1011 has a total of three set bits.\n",
    "\n",
    "\n",
    "# n=str(bin(n)[2:])\n",
    "n=112112\n",
    "n=str(bin(n)[2:])\n",
    "n.count(\"1\")"
   ]
  },
  {
   "cell_type": "code",
   "execution_count": null,
   "metadata": {},
   "outputs": [
    {
     "name": "stdout",
     "output_type": "stream",
     "text": [
      "[0, 1, 1, 2, 1, 2, 2, 3, 1]\n"
     ]
    }
   ],
   "source": [
    "# You are given an integer array arr. Sort the integers in the array in ascending order by the number of 1's in their binary representation and in case of two or more integers have the same number of 1's you have to sort them in ascending order.\n",
    "\n",
    "# Return the array after sorting it.\n",
    "\n",
    " \n",
    "\n",
    "# Example 1:\n",
    "\n",
    "# Input: arr = [0,1,2,3,4,5,6,7,8]\n",
    "# Output: [0,1,2,4,8,3,5,6,7]\n",
    "# Explantion: [0] is the only integer with 0 bits.\n",
    "# [1,2,4,8] all have 1 bit.\n",
    "# [3,5,6] have 2 bits.\n",
    "# [7] has 3 bits.\n",
    "# The sorted array by bits is [0,1,2,4,8,3,5,6,7]\n",
    "num=[0,1,2,3,4,5,6,7,8]\n",
    "new=[]\n",
    "for i in num:\n",
    "    t=bin(i)[2:]\n",
    "    new.append(t.count(\"1\"))\n",
    "print(new)\n",
    "for i in range(len())"
   ]
  },
  {
   "cell_type": "code",
   "execution_count": 5,
   "metadata": {},
   "outputs": [
    {
     "data": {
      "text/plain": [
       "[0, 1, 2, 4, 8, 3, 5, 6, 7]"
      ]
     },
     "execution_count": 5,
     "metadata": {},
     "output_type": "execute_result"
    }
   ],
   "source": [
    "num=[0,1,2,3,4,5,6,7,8]\n",
    "num.sort(key=lambda x:x.bit_count())\n",
    "num"
   ]
  },
  {
   "cell_type": "code",
   "execution_count": 26,
   "metadata": {},
   "outputs": [
    {
     "name": "stdout",
     "output_type": "stream",
     "text": [
      "2\n",
      "3\n",
      "2\n",
      "7\n"
     ]
    },
    {
     "data": {
      "text/plain": [
       "[5, 7, 2, 3, 2]"
      ]
     },
     "execution_count": 26,
     "metadata": {},
     "output_type": "execute_result"
    }
   ],
   "source": [
    "# You are given an integer array pref of size n. Find and return the array arr of size n that satisfies:\n",
    "\n",
    "# pref[i] = arr[0] ^ arr[1] ^ ... ^ arr[i].\n",
    "# Note that ^ denotes the bitwise-xor operation.\n",
    "\n",
    "# It can be proven that the answer is unique.\n",
    "\n",
    " \n",
    "\n",
    "# Example 1:\n",
    "\n",
    "# Input: pref = [5,2,0,3,1]\n",
    "# Output: [5,7,2,3,2]\n",
    "# Explanation: From the array [5,7,2,3,2] we have the following:\n",
    "# - pref[0] = 5.\n",
    "# - pref[1] = 5 ^ 7 = 2.\n",
    "# - pref[2] = 5 ^ 7 ^ 2 = 0.\n",
    "# - pref[3] = 5 ^ 7 ^ 2 ^ 3 = 3.\n",
    "# - pref[4] = 5 ^ 7 ^ 2 ^ 3 ^ 2 = 1.\n",
    "\n",
    "pref=[5,2,0,3,1]\n",
    "arr=[]\n",
    "for i in range(len(pref)-1,0,-1):\n",
    "    print(pref[i]^pref[i-1])        \n",
    "    arr.append(pref[i]^pref[i-1])\n",
    "arr.append(pref[0])\n",
    "arr[::-1]"
   ]
  },
  {
   "cell_type": "code",
   "execution_count": null,
   "metadata": {},
   "outputs": [
    {
     "name": "stdout",
     "output_type": "stream",
     "text": [
      "210 [156, 210, 0, 6, 20]\n"
     ]
    }
   ],
   "source": [
    "# Given three integers a, b, and n, return the maximum value of (a XOR x) * (b XOR x) where 0 <= x < 2n.\n",
    "# Since the answer may be too large, return it modulo 109 + 7.\n",
    "# Note that XOR is the bitwise XOR operation.\n",
    "# Example 1:\n",
    "\n",
    "# Input: a = 12, b = 5, n = 4\n",
    "# Output: 98\n",
    "# Explanation: For x = 2, (a XOR x) = 14 and (b XOR x) = 7. Hence, (a XOR x) * (b XOR x) = 98. \n",
    "# It can be shown that 98 is the maximum value of (a XOR x) * (b XOR x) for all 0 <= x < 2n.\n",
    "# Example 2:\n",
    "\n",
    "# Input: a = 6, b = 7 , n = 5\n",
    "# Output: 930\n",
    "# Explanation: For x = 25, (a XOR x) = 31 and (b XOR x) = 30. Hence, (a XOR x) * (b XOR x) = 930.\n",
    "# It can be shown that 930 is the maximum value of (a XOR x) * (b XOR x) for all 0 <= x < 2n.\n",
    "\n",
    "def main():\n",
    "    mod=10**9 + 7\n",
    "    max_n=0\n",
    "    t=1<<n\n",
    "    for i in range(t):\n",
    "        temp=(a^(i))*(b^(i))\n",
    "        if temp > max_n:\n",
    "            max_n = temp\n",
    "            max_x = i\n",
    "\n",
    "    return max_n % mod\n"
   ]
  },
  {
   "cell_type": "code",
   "execution_count": null,
   "metadata": {},
   "outputs": [
    {
     "name": "stdout",
     "output_type": "stream",
     "text": [
      "1\n"
     ]
    }
   ],
   "source": [
    "# Given an integer n, you must transform it into 0 using the following operations any number of times:\n",
    "# Change the rightmost (0th) bit in the binary representation of n.\n",
    "# Change the ith bit in the binary representation of n if the (i-1)th bit is set to 1 and the (i-2)th through 0th bits are set to 0.\n",
    "# Return the minimum number of operations to transform n into 0.\n",
    "# \n",
    "# Example 1:\n",
    "# Input: n = 3\n",
    "# Output: 2\n",
    "# Explanation: The binary representation of 3 is \"11\".\n",
    "# \"11\" -> \"01\" with the 2nd operation since the 0th bit is 1.\n",
    "# \"01\" -> \"00\" with the 1st operation.\n",
    "# \n",
    "# Example 2:\n",
    "# Input: n = 6\n",
    "# Output: 4\n",
    "# Explanation: The binary representation of 6 is \"110\".\n",
    "# \"110\" -> \"010\" with the 2nd operation since the 1st bit is 1 and 0th through 0th bits are 0.\n",
    "# \"010\" -> \"011\" with the 1st operation.\n",
    "# \"011\" -> \"001\" with the 2nd operation since the 0th bit is 1.\n",
    "# \"001\" -> \"000\" with the 1st operation.\n",
    "\n",
    "f=[0]*30\n",
    "f[0]=1\n",
    "for i in range(1,30):\n",
    "    # print(i)\n",
    "    f[i]=2*(f[i-1])+1\n",
    "# print(f)\n",
    "result=0\n",
    "sign=1\n",
    "for i in range(30,-1,-1):\n",
    "    # print(i)\n",
    "    i_th_bit=((1<<i)&n)\n",
    "    if (i_th_bit==0):\n",
    "        continue\n",
    "    if sign>0:\n",
    "        print(f[i])\n",
    "        result+=f[i]\n",
    "    else:\n",
    "        print(f[i])\n",
    "        result-=f[i]\n",
    "    "
   ]
  },
  {
   "cell_type": "code",
   "execution_count": 13,
   "metadata": {},
   "outputs": [
    {
     "data": {
      "text/plain": [
       "True"
      ]
     },
     "execution_count": 13,
     "metadata": {},
     "output_type": "execute_result"
    }
   ],
   "source": [
    "# We have two special characters:\n",
    "\n",
    "# The first character can be represented by one bit 0.\n",
    "# The second character can be represented by two bits (10 or 11).\n",
    "# Given a binary array bits that ends with 0, return true if the last character must be a one-bit character.\n",
    "\n",
    " \n",
    "\n",
    "# Example 1:\n",
    "\n",
    "# Input: bits = [1,0,0]\n",
    "# Output: true\n",
    "# Explanation: The only way to decode it is two-bit character and one-bit character.\n",
    "# So the last character is one-bit character.\n",
    "\n",
    "def main():\n",
    "    bits=[1,0,0]\n",
    "    i=0\n",
    "    while i<len(bits)-1:\n",
    "        if bits[i]==1:\n",
    "            i+=2\n",
    "        else:\n",
    "            i+1\n",
    "    return i==len(bits)-1\n",
    "\n",
    "main()"
   ]
  },
  {
   "cell_type": "code",
   "execution_count": 3,
   "metadata": {},
   "outputs": [
    {
     "name": "stdout",
     "output_type": "stream",
     "text": [
      "10101\n"
     ]
    }
   ],
   "source": [
    "carr=0\n",
    "c=\"\"\n",
    "a = \"1010\"\n",
    "b = \"1011\"\n",
    "while a or b:\n",
    "    digit_a=int(a[-1]) if a else 0\n",
    "    digit_b=int(b[-1]) if b else 0\n",
    "    \n",
    "    sum_=digit_a+digit_b+carr\n",
    "    carr=sum_//2\n",
    "    c=str(sum_%2)+c\n",
    "    \n",
    "    a=a[:-1] if a else \"\"\n",
    "    b=b[:-1] if b else \"\"\n",
    "\n",
    "if carr:\n",
    "    c=\"1\"+c\n",
    "\n",
    "print(c)\n",
    "    \n",
    "    "
   ]
  },
  {
   "cell_type": "code",
   "execution_count": null,
   "metadata": {},
   "outputs": [],
   "source": []
  }
 ],
 "metadata": {
  "kernelspec": {
   "display_name": "Python 3",
   "language": "python",
   "name": "python3"
  },
  "language_info": {
   "codemirror_mode": {
    "name": "ipython",
    "version": 3
   },
   "file_extension": ".py",
   "mimetype": "text/x-python",
   "name": "python",
   "nbconvert_exporter": "python",
   "pygments_lexer": "ipython3",
   "version": "3.10.18"
  }
 },
 "nbformat": 4,
 "nbformat_minor": 2
}
