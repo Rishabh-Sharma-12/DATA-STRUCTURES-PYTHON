{
 "cells": [
  {
   "cell_type": "code",
   "execution_count": null,
   "id": "19ca623c",
   "metadata": {},
   "outputs": [
    {
     "name": "stdout",
     "output_type": "stream",
     "text": [
      "[1, 1, 1]\n"
     ]
    }
   ],
   "source": [
    "q=[]\n",
    "q.append(1)\n",
    "q.append(3)\n",
    "q.append(5)\n",
    "print(q)\n",
    "\n",
    "def peak(q):\n",
    "    front_element=q[0]\n",
    "    return front_element\n",
    "\n",
    "def dequeue(q):\n",
    "    front_element=q[0]\n",
    "    return q.pop(front_element)\n",
    "\n",
    "def isEmpty(q):\n",
    "    return len(q)==0\n",
    "\n",
    "def insert(q,val):\n",
    "    q.append(val)\n",
    "    \n",
    "def size(q):\n",
    "    return len(q)\n"
   ]
  },
  {
   "cell_type": "code",
   "execution_count": 7,
   "id": "e78694a8",
   "metadata": {},
   "outputs": [
    {
     "name": "stdout",
     "output_type": "stream",
     "text": [
      "Queue:  ['A', 'B', 'C']\n",
      "Peek:  A\n",
      "Dequeue:  A\n",
      "Queue after Dequeue:  ['B', 'C']\n",
      "isEmpty:  False\n",
      "Size:  2\n"
     ]
    }
   ],
   "source": [
    "class Queue:\n",
    "    def __init__(self):\n",
    "        self.q=[]\n",
    "    \n",
    "    def enqueue(self,element):\n",
    "        self.q.append(element)\n",
    "    \n",
    "    def dequeue(self):\n",
    "        if self.isEmpty():\n",
    "            return \"EMPTY\"\n",
    "        return self.q.pop(0)\n",
    "\n",
    "    def isEmpty(self):\n",
    "        return len(self.q)==0\n",
    "    \n",
    "    def peak(self):\n",
    "        if self.isEmpty():\n",
    "            return \"EMPTY\"\n",
    "        front_element=self.q[0]\n",
    "        return front_element\n",
    "    def size(self):\n",
    "        return len(self.q)\n",
    "\n",
    "    def queue_p(self):\n",
    "        if self.isEmpty():\n",
    "            return \"EMPTY\"\n",
    "        for i in self.q:\n",
    "            print(i,end=\"\")\n",
    "        \n",
    "myQueue = Queue()\n",
    "\n",
    "myQueue.enqueue('A')\n",
    "myQueue.enqueue('B')\n",
    "myQueue.enqueue('C')\n",
    "\n",
    "print(\"Queue: \", myQueue.q)\n",
    "print(\"Peek: \", myQueue.peak())\n",
    "print(\"Dequeue: \", myQueue.dequeue())\n",
    "print(\"Queue after Dequeue: \", myQueue.q)\n",
    "print(\"isEmpty: \", myQueue.isEmpty())\n",
    "print(\"Size: \", myQueue.size())"
   ]
  },
  {
   "cell_type": "code",
   "execution_count": 10,
   "id": "929b68ad",
   "metadata": {},
   "outputs": [
    {
     "name": "stdout",
     "output_type": "stream",
     "text": [
      "Queue: A->B->C->\n",
      "Peek:  A\n",
      "Dequeue:  A\n",
      "Queue after Dequeue: A->B->C->\n",
      "isEmpty:  False\n",
      "Size:  2\n"
     ]
    }
   ],
   "source": [
    "#queue using linked list \n",
    "\n",
    "class Node:\n",
    "    def __init__(self,data):\n",
    "        self.data=data\n",
    "        self.next=None\n",
    "\n",
    "class Queue:\n",
    "    def __init__(self):\n",
    "        self.front=None\n",
    "        self.rear=None\n",
    "        self.length=0\n",
    "    \n",
    "    def enqueue(self,element):\n",
    "        #creating a new obj of the class node\n",
    "        new_node=Node(element)\n",
    "        #checking for 1st elemt\n",
    "        if self.rear is None:\n",
    "            #id element is first make all the pointers to 0 and equal\n",
    "            self.front=self.rear=new_node\n",
    "            self.length+=1\n",
    "            return\n",
    "        #if not an case of first elemt make a new node with new space and assign pointer to that value\n",
    "        self.rear.next=new_node\n",
    "        #move pointer\n",
    "        self.rear=new_node\n",
    "        self.length+=1\n",
    "    \n",
    "    def dequeue(self):\n",
    "        #checking for is empty\n",
    "        if self.isEmpty():\n",
    "            return \"EMPTY\"\n",
    "        #creating variable to store data\n",
    "        temp=self.front\n",
    "        #shorting the len\n",
    "        self.length-=1\n",
    "        #checking for the last case\n",
    "        if self.front is None:\n",
    "            self.rear=None\n",
    "        return temp.data\n",
    "\n",
    "    def isEmpty(self):\n",
    "        return self.length==0\n",
    "    \n",
    "    def peak(self):\n",
    "        if self.isEmpty():\n",
    "            return \"EMPTY\"\n",
    "        front_element=self.front.data\n",
    "        return front_element\n",
    "    def size(self):\n",
    "        return self.length\n",
    "    \n",
    "    def printQueue(self):\n",
    "        temp=self.front\n",
    "        while temp:\n",
    "            print(temp.data,end=\"->\")\n",
    "            temp=temp.next\n",
    "        print()\n",
    "\n",
    "myQueue = Queue()\n",
    "\n",
    "myQueue.enqueue('A')\n",
    "myQueue.enqueue('B')\n",
    "myQueue.enqueue('C')\n",
    "\n",
    "print(\"Queue: \", end=\"\")\n",
    "myQueue.printQueue()\n",
    "print(\"Peek: \", myQueue.peak())\n",
    "print(\"Dequeue: \", myQueue.dequeue())\n",
    "print(\"Queue after Dequeue: \", end=\"\")\n",
    "myQueue.printQueue()\n",
    "print(\"isEmpty: \", myQueue.isEmpty())\n",
    "print(\"Size: \", myQueue.size())\n",
    "            \n",
    "    \n"
   ]
  },
  {
   "cell_type": "code",
   "execution_count": null,
   "id": "a0316024",
   "metadata": {},
   "outputs": [],
   "source": [
    "import collections\n",
    "\n",
    "\n"
   ]
  }
 ],
 "metadata": {
  "kernelspec": {
   "display_name": "base",
   "language": "python",
   "name": "python3"
  },
  "language_info": {
   "codemirror_mode": {
    "name": "ipython",
    "version": 3
   },
   "file_extension": ".py",
   "mimetype": "text/x-python",
   "name": "python",
   "nbconvert_exporter": "python",
   "pygments_lexer": "ipython3",
   "version": "3.12.7"
  }
 },
 "nbformat": 4,
 "nbformat_minor": 5
}
