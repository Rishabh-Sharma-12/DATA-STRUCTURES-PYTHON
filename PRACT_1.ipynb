{
 "cells": [
  {
   "cell_type": "code",
   "execution_count": 1,
   "metadata": {},
   "outputs": [],
   "source": [
    "#day 6 "
   ]
  },
  {
   "cell_type": "code",
   "execution_count": 7,
   "metadata": {},
   "outputs": [
    {
     "ename": "NameError",
     "evalue": "name 'sa' is not defined",
     "output_type": "error",
     "traceback": [
      "\u001b[0;31m---------------------------------------------------------------------------\u001b[0m",
      "\u001b[0;31mNameError\u001b[0m                                 Traceback (most recent call last)",
      "Cell \u001b[0;32mIn[7], line 1\u001b[0m\n\u001b[0;32m----> 1\u001b[0m \u001b[43msa\u001b[49m \n",
      "\u001b[0;31mNameError\u001b[0m: name 'sa' is not defined"
     ]
    }
   ],
   "source": [
    "sa "
   ]
  },
  {
   "cell_type": "code",
   "execution_count": 36,
   "metadata": {},
   "outputs": [
    {
     "name": "stdout",
     "output_type": "stream",
     "text": [
      "rakshash\n",
      "wrong\n",
      "wrong\n",
      "wrong\n",
      "wrong\n",
      "wrong\n",
      "wrong\n",
      "wrong\n",
      "wrong\n"
     ]
    }
   ],
   "source": [
    "import random\n",
    "words=[\"Rishabh\",\"konal\",\"kovid\",\"rakshash\"]\n",
    "selected=words[random.randint(0,len(words)-1)]\n",
    "# for i in range(len(selected)):\n",
    "#     guess=str(input(\"enter a word\").lower)\n",
    "#     if selected.find(guess)>=0:\n",
    "#         print(\"right\")\n",
    "#     elif selected.find(guess)==-1:\n",
    "#         print(\"wrong\")\n",
    "print(selected)\n",
    "guess=str(input(\"enter a word\").lower)\n",
    "for i in selected:\n",
    "    if guess == i:\n",
    "        print(\"Right\")\n",
    "    else:\n",
    "        print(\"wrong\")\n",
    "        "
   ]
  },
  {
   "cell_type": "code",
   "execution_count": 22,
   "metadata": {},
   "outputs": [
    {
     "name": "stdout",
     "output_type": "stream",
     "text": [
      "[12, 5, 5, 20, 3, 15, 4, 5]\n",
      "33\n",
      "6\n"
     ]
    },
    {
     "data": {
      "text/plain": [
       "6"
      ]
     },
     "execution_count": 22,
     "metadata": {},
     "output_type": "execute_result"
    }
   ],
   "source": [
    "alpha=\"abcdefghijklmnopqrstuvwxyz\"\n",
    "len(alpha)\n",
    "s=\"leetcode\"\n",
    "k=2\n",
    "sum=0\n",
    "a=[]\n",
    "for i in range(len(s)):\n",
    "    a.append(alpha.find(s[i])+1)\n",
    "print(a)\n",
    "st=\"\"\n",
    "for i in a:\n",
    "    st=st+str(i)\n",
    "sum=int(st)\n",
    "k_sum=0\n",
    "while(k>0):\n",
    "    while(sum>0):\n",
    "        k_sum=k_sum+sum%10\n",
    "        sum=sum//10\n",
    "    print(k_sum)\n",
    "    sum=k_sum\n",
    "    k_sum=0\n",
    "    k-=1\n",
    "sum\n",
    "    "
   ]
  },
  {
   "cell_type": "code",
   "execution_count": 30,
   "metadata": {},
   "outputs": [
    {
     "name": "stdout",
     "output_type": "stream",
     "text": [
      "fly me   to   the moon\n"
     ]
    },
    {
     "data": {
      "text/plain": [
       "4"
      ]
     },
     "execution_count": 30,
     "metadata": {},
     "output_type": "execute_result"
    }
   ],
   "source": [
    "s = \"   fly me   to   the moon  \"\n",
    "s=s.strip()\n",
    "print(s)\n",
    "s=s.split(\" \")\n",
    "len(s[-1])"
   ]
  },
  {
   "cell_type": "code",
   "execution_count": 28,
   "metadata": {},
   "outputs": [
    {
     "name": "stdout",
     "output_type": "stream",
     "text": [
      "1000\n",
      "1200\n",
      "1230\n",
      "1234\n"
     ]
    },
    {
     "data": {
      "text/plain": [
       "[1, 2, 3, 5, 1]"
      ]
     },
     "execution_count": 28,
     "metadata": {},
     "output_type": "execute_result"
    }
   ],
   "source": [
    "s=[1,2,3,4]\n",
    "num=0\n",
    "j=len(s)-1\n",
    "for i in range(len(s)):\n",
    "    num=s[i]*10**j+num\n",
    "    j=j-1\n",
    "    print(num)\n",
    "num=num+1\n",
    "a=[]\n",
    "while(num>0):\n",
    "    a.append(num%10)\n",
    "    num=num//10\n",
    "a[:]=a[::-1]\n",
    "a+[1]"
   ]
  },
  {
   "cell_type": "code",
   "execution_count": 34,
   "metadata": {},
   "outputs": [
    {
     "data": {
      "text/plain": [
       "4.0"
      ]
     },
     "execution_count": 34,
     "metadata": {},
     "output_type": "execute_result"
    }
   ],
   "source": [
    "import math\n",
    "a=23\n",
    "b=math.sqrt(a)\n",
    "b//1\n"
   ]
  },
  {
   "cell_type": "code",
   "execution_count": 15,
   "metadata": {},
   "outputs": [
    {
     "data": {
      "text/plain": [
       "[1, 3, 4, 5]"
      ]
     },
     "execution_count": 15,
     "metadata": {},
     "output_type": "execute_result"
    }
   ],
   "source": [
    "nums=[1,2,3,2,4,5]\n",
    "k=2\n",
    "nums=[x for x in nums if x!=k]\n",
    "nums\n"
   ]
  },
  {
   "cell_type": "code",
   "execution_count": 40,
   "metadata": {},
   "outputs": [
    {
     "name": "stdout",
     "output_type": "stream",
     "text": [
      "op\n"
     ]
    }
   ],
   "source": [
    "s1=\"oP\"\n",
    "s1=s1.strip()\n",
    "s1=s1.lower()\n",
    "w=[]\n",
    "for i in s1:\n",
    "    if i==i.isaplha():\n",
    "        w.apend(i)\n",
    "    elif i==i.isdigit():\n",
    "        return False\n",
    "        \n",
    "s1=\"\"\n",
    "for i in w:\n",
    "    s1=s1+str(i)\n",
    "print(s1)\n",
    "if len(s1) !=len(s1):\n",
    "    print(\"False\")\n",
    "else:\n",
    "    if s1[::-1]==s2[::]:\n",
    "        print(\"True\")\n",
    "        "
   ]
  },
  {
   "cell_type": "code",
   "execution_count": 2,
   "metadata": {},
   "outputs": [
    {
     "name": "stdout",
     "output_type": "stream",
     "text": [
      "35->25->15->5->555->End\n"
     ]
    }
   ],
   "source": [
    "#linked_list\n",
    "class Node:\n",
    "    def __init__(self,data=None,next=None):\n",
    "        data=data\n",
    "        next=next\n",
    "class Linked_list:\n",
    "    \n",
    "    def __init__(self):\n",
    "        \n",
    "        head=None\n",
    "    def insert_at_beg(self,data):\n",
    "        \n",
    "        node=Node(data,head)\n",
    "        head=node\n",
    "    \n",
    "    def insert_at_end(self,data):\n",
    "        \n",
    "        if head is None:\n",
    "            head=Node( data, None)\n",
    "            return\n",
    "        \n",
    "        itr= head\n",
    "        while itr.next:\n",
    "            itr=itr.next\n",
    "        \n",
    "        itr.next=Node(data,None)\n",
    "        \n",
    "    # def reverse_ll(self,data):\n",
    "    #     prev=None\n",
    "    #     curr=head\n",
    "    \n",
    "    #     while curr:\n",
    "    #         next.node=curr.next\n",
    "    #         curr.next=prev\n",
    "    #         prev=curr\n",
    "    #         curr=next.node\n",
    "        \n",
    "    #     head=prev\n",
    "        \n",
    "        \n",
    "    def print(self):\n",
    "        if head is None:\n",
    "            print(\"Linked List is empty\")\n",
    "        itr=head\n",
    "        llstr=\"\"\n",
    "        while itr:\n",
    "            llstr+=str(itr.data)+'->'\n",
    "            itr=itr.next\n",
    "        print(llstr+\"End\")\n",
    "    def add(self,)\n",
    "            \n",
    "\n",
    "if __name__ ==  '__main__':\n",
    "    ll=Linked_list()\n",
    "    ll.insert_at_beg(5)\n",
    "    ll.insert_at_beg(15)\n",
    "    ll.insert_at_beg(25)\n",
    "    ll.insert_at_beg(35)\n",
    "    ll.insert_at_end(555)\n",
    "    ll.print()"
   ]
  },
  {
   "cell_type": "code",
   "execution_count": 1,
   "metadata": {},
   "outputs": [],
   "source": [
    "# Definition for singly-linked list.\n",
    "# class ListNode(object):\n",
    "#     def __init__(self, val=0, next=None):\n",
    "#         val = val\n",
    "#         next = next\n",
    "class Solution(object):\n",
    "    def reverseList(self, head):\n",
    "        \"\"\"\n",
    "        :type head: Optional[ListNode]\n",
    "        :rtype: Optional[ListNode]\n",
    "        \"\"\"\n",
    "        prev = None\n",
    "        curr = head\n",
    "\n",
    "        while curr:\n",
    "            next_node = curr.next  # Save next node\n",
    "            curr.next = prev       # Reverse pointer\n",
    "            prev = curr            # Move prev to current\n",
    "            curr = next_node       # Move to next node\n",
    "\n",
    "        head = prev\n",
    "\n",
    "        return prev"
   ]
  },
  {
   "cell_type": "code",
   "execution_count": 8,
   "metadata": {},
   "outputs": [
    {
     "ename": "SyntaxError",
     "evalue": "invalid syntax (1824436012.py, line 4)",
     "output_type": "error",
     "traceback": [
      "\u001b[0;36m  Cell \u001b[0;32mIn[8], line 4\u001b[0;36m\u001b[0m\n\u001b[0;31m    if arr[i]<arr[(i+:1)]:\u001b[0m\n\u001b[0m                     ^\u001b[0m\n\u001b[0;31mSyntaxError\u001b[0m\u001b[0;31m:\u001b[0m invalid syntax\n"
     ]
    }
   ],
   "source": [
    "arr=[1 ,5 ,3 ,2]\n",
    "def swap(arr):\n",
    "    for i in range(len(arr)):\n",
    "        if arr[i]<arr[(i+:1)]:\n",
    "            continue\n",
    "        if arr[i]>arr[i+=1]:\n",
    "            temp=arr[i]\n",
    "            arr[i]=arr[i+=1]\n",
    "            arr[i+=1]=temps\n",
    "swap(arr)\n",
    "            \n",
    "            \n",
    "            "
   ]
  },
  {
   "cell_type": "code",
   "execution_count": 2,
   "metadata": {},
   "outputs": [
    {
     "data": {
      "text/plain": [
       "0"
      ]
     },
     "execution_count": 2,
     "metadata": {},
     "output_type": "execute_result"
    }
   ],
   "source": [
    "haystack = \"leetcode\"\n",
    "needle = \"leet\"\n",
    "haystack.find(needle)"
   ]
  },
  {
   "cell_type": "code",
   "execution_count": 11,
   "metadata": {},
   "outputs": [
    {
     "ename": "UnboundLocalError",
     "evalue": "cannot access local variable 'i' where it is not associated with a value",
     "output_type": "error",
     "traceback": [
      "\u001b[0;31m---------------------------------------------------------------------------\u001b[0m",
      "\u001b[0;31mUnboundLocalError\u001b[0m                         Traceback (most recent call last)",
      "Cell \u001b[0;32mIn[11], line 11\u001b[0m\n\u001b[1;32m      9\u001b[0m target \u001b[38;5;241m=\u001b[39m \u001b[38;5;241m5\u001b[39m\n\u001b[1;32m     10\u001b[0m i\u001b[38;5;241m=\u001b[39m\u001b[38;5;241m0\u001b[39m\n\u001b[0;32m---> 11\u001b[0m \u001b[43mrun\u001b[49m\u001b[43m(\u001b[49m\u001b[43mnums\u001b[49m\u001b[43m[\u001b[49m\u001b[43mi\u001b[49m\u001b[43m]\u001b[49m\u001b[43m,\u001b[49m\u001b[43mtarget\u001b[49m\u001b[43m)\u001b[49m\n",
      "Cell \u001b[0;32mIn[11], line 4\u001b[0m, in \u001b[0;36mrun\u001b[0;34m(nums, target)\u001b[0m\n\u001b[1;32m      2\u001b[0m \u001b[38;5;28;01mif\u001b[39;00m nums\u001b[38;5;241m==\u001b[39mtarget:\n\u001b[1;32m      3\u001b[0m     \u001b[38;5;28;01mreturn\u001b[39;00m i\n\u001b[0;32m----> 4\u001b[0m run(nums[\u001b[43mi\u001b[49m],target)\n\u001b[1;32m      5\u001b[0m i\u001b[38;5;241m+\u001b[39m\u001b[38;5;241m=\u001b[39m\u001b[38;5;241m1\u001b[39m\n",
      "\u001b[0;31mUnboundLocalError\u001b[0m: cannot access local variable 'i' where it is not associated with a value"
     ]
    }
   ],
   "source": [
    "def run(nums,target):\n",
    "    if nums==target:\n",
    "        return i\n",
    "    run(nums[i],target)\n",
    "    i+=1\n",
    "    \n",
    "    \n",
    "nums = [1,3,5,6]\n",
    "target = 5\n",
    "i=0\n",
    "run(nums[i],target)\n",
    "\n"
   ]
  },
  {
   "cell_type": "code",
   "execution_count": 26,
   "metadata": {},
   "outputs": [
    {
     "name": "stdout",
     "output_type": "stream",
     "text": [
      "0 3 6\n",
      "4 5 6\n"
     ]
    }
   ],
   "source": [
    "nums = [-1,0,3,5,9,12]\n",
    "target = 9\n",
    "left=0 \n",
    "right=len(nums)\n",
    "\n"
   ]
  },
  {
   "cell_type": "code",
   "execution_count": 25,
   "metadata": {},
   "outputs": [
    {
     "ename": "SyntaxError",
     "evalue": "invalid syntax (3836310637.py, line 20)",
     "output_type": "error",
     "traceback": [
      "\u001b[0;36m  Cell \u001b[0;32mIn[25], line 20\u001b[0;36m\u001b[0m\n\u001b[0;31m    letters[return binary(nums,left,right,target)]\u001b[0m\n\u001b[0m            ^\u001b[0m\n\u001b[0;31mSyntaxError\u001b[0m\u001b[0;31m:\u001b[0m invalid syntax\n"
     ]
    }
   ],
   "source": [
    "def binary(arr,left,right,target):\n",
    "    mid=(left+right)//2\n",
    "    \n",
    "    if(left<=right):\n",
    "       \n",
    "        if arr[mid]==target:\n",
    "            print(mid)\n",
    "        elif arr[mid]>target:\n",
    "            binary(arr,left,mid-1,target)\n",
    "        elif arr[mid]<target:\n",
    "            binary(arr,mid+1,right,target)\n",
    "    if(left>right):\n",
    "        print(left=0)\n",
    "\n",
    "letters = [\"c\",\"f\",\"j\"]\n",
    "nums=[ord(l) for l in letters]\n",
    "target = ord(\"c\")\n",
    "left=0 \n",
    "right=(len(nums)-1)\n",
    "binary(nums,left,right,target)\n"
   ]
  },
  {
   "cell_type": "code",
   "execution_count": 17,
   "metadata": {},
   "outputs": [
    {
     "data": {
      "text/plain": [
       "[120, 121, 122]"
      ]
     },
     "execution_count": 17,
     "metadata": {},
     "output_type": "execute_result"
    }
   ],
   "source": [
    "# nums = [-1,0,3,5,9,12]\n",
    "# len(nums)\n",
    "letters = [\"x\",\"y\",\"z\"]\n",
    "nums=[ord(l) for l in letters]\n",
    "nums\n"
   ]
  },
  {
   "cell_type": "code",
   "execution_count": 12,
   "metadata": {},
   "outputs": [
    {
     "data": {
      "text/plain": [
       "'b'"
      ]
     },
     "execution_count": 12,
     "metadata": {},
     "output_type": "execute_result"
    }
   ],
   "source": [
    "def binary(arr,left,right,target):\n",
    "    mid=(left+right)//2\n",
    "    if(left<=right):    \n",
    "        if arr[mid]==target:\n",
    "            return mid+1\n",
    "        elif arr[mid]>target:\n",
    "            return binary(arr,left,mid-1,target)\n",
    "        elif arr[mid]<target:\n",
    "            return binary(arr,mid+1,right,target)\n",
    "    if(left>right):\n",
    "        return left\n",
    "\n",
    "letters=['b','c','c','d','e','f']\n",
    "letters=[set(letters)]\n",
    "nums=[ord(l) for l in letters]\n",
    "left=0\n",
    "right=(len(nums)-1)\n",
    "target=ord(\"a\")\n",
    "letters[binary(nums,left,right,target)]"
   ]
  },
  {
   "cell_type": "code",
   "execution_count": 19,
   "metadata": {},
   "outputs": [
    {
     "data": {
      "text/plain": [
       "['b', 'c', 'c', 'd', 'e', 'f']"
      ]
     },
     "execution_count": 19,
     "metadata": {},
     "output_type": "execute_result"
    }
   ],
   "source": [
    "letters=['b','c','c','d','e','f']\n",
    "letters_n=[i for i in set(letters)]\n",
    "letters"
   ]
  },
  {
   "cell_type": "code",
   "execution_count": 1,
   "metadata": {},
   "outputs": [],
   "source": [
    "class Solution(object):\n",
    "    def binary(self, arr, left, right, target):\n",
    "        mid = (left + right) // 2\n",
    "        if left <= right:\n",
    "            if arr[mid] == target:\n",
    "                return self.binary(arr, mid + 1, right, target)  # Continue searching\n",
    "            elif arr[mid] > target:\n",
    "                return self.binary(arr, left, mid - 1, target)\n",
    "            else:\n",
    "                return self.binary(arr, mid + 1, right, target)\n",
    "        return left  # Return the insertion index\n",
    "    \n",
    "    def nextGreatestLetter(self, letters, target):\n",
    "        \"\"\"\n",
    "        :type letters: List[str]\n",
    "        :type target: str\n",
    "        :rtype: str\n",
    "        \"\"\"\n",
    "        nums = sorted(letters)  # Fix: Preserve the sorted order\n",
    "        target = target  # No need to convert to `ord()`, since we're comparing     characters\n",
    "        left = 0 \n",
    "        right = len(nums) - 1\n",
    "        index = self.binary(nums, left, right, target)\n",
    "\n",
    "        # Wrap around if needed\n",
    "        return nums[index % len(nums)]"
   ]
  },
  {
   "cell_type": "code",
   "execution_count": 19,
   "metadata": {},
   "outputs": [
    {
     "data": {
      "text/plain": [
       "1"
      ]
     },
     "execution_count": 19,
     "metadata": {},
     "output_type": "execute_result"
    }
   ],
   "source": [
    "grid =[[-1]]\n",
    "count=0\n",
    "for i in range(0,len(grid)):\n",
    "    for j in range(0,len(grid[i])):\n",
    "        if grid[i][j]<0:\n",
    "            count+=1\n",
    "count\n",
    "\n"
   ]
  },
  {
   "cell_type": "code",
   "execution_count": 43,
   "metadata": {},
   "outputs": [
    {
     "ename": "IndexError",
     "evalue": "list index out of range",
     "output_type": "error",
     "traceback": [
      "\u001b[0;31m---------------------------------------------------------------------------\u001b[0m",
      "\u001b[0;31mIndexError\u001b[0m                                Traceback (most recent call last)",
      "Cell \u001b[0;32mIn[43], line 5\u001b[0m\n\u001b[1;32m      3\u001b[0m \u001b[38;5;28;01mfor\u001b[39;00m i \u001b[38;5;129;01min\u001b[39;00m \u001b[38;5;28mrange\u001b[39m(\u001b[38;5;28mlen\u001b[39m(grid[\u001b[38;5;241m1\u001b[39m])):\n\u001b[1;32m      4\u001b[0m     \u001b[38;5;28;01mfor\u001b[39;00m j \u001b[38;5;129;01min\u001b[39;00m \u001b[38;5;28mrange\u001b[39m(\u001b[38;5;28mlen\u001b[39m(grid)):\n\u001b[0;32m----> 5\u001b[0m         \u001b[43mmatrix\u001b[49m\u001b[43m[\u001b[49m\u001b[43mi\u001b[49m\u001b[43m]\u001b[49m[j]\u001b[38;5;241m=\u001b[39mgrid[j][i]\n\u001b[1;32m      6\u001b[0m matrix\n",
      "\u001b[0;31mIndexError\u001b[0m: list index out of range"
     ]
    }
   ],
   "source": [
    "grid =[[-1,2,3,4],[1,3,3,3]]\n",
    "matrix=[]\n",
    "for i in range(len(grid[1])):\n",
    "    for j in range(len(grid)):\n",
    "        matrix[i][j]=grid[j][i]\n",
    "matrix"
   ]
  },
  {
   "cell_type": "code",
   "execution_count": 38,
   "metadata": {},
   "outputs": [
    {
     "data": {
      "text/plain": [
       "[3, 99, -1, -100]"
      ]
     },
     "execution_count": 38,
     "metadata": {},
     "output_type": "execute_result"
    }
   ],
   "source": [
    "n=[-1,-100,3,99]\n",
    "target=2\n"
   ]
  },
  {
   "cell_type": "code",
   "execution_count": 53,
   "metadata": {},
   "outputs": [
    {
     "name": "stdout",
     "output_type": "stream",
     "text": [
      "[99, -1, -100, 3]\n",
      "[3, 99, -1, -100]\n",
      "[-100, 3, 99, -1]\n"
     ]
    },
    {
     "data": {
      "text/plain": [
       "[-100, 3, 99, -1]"
      ]
     },
     "execution_count": 53,
     "metadata": {},
     "output_type": "execute_result"
    }
   ],
   "source": [
    "nums=[-1,-100,3,99]\n",
    "k=2\n",
    "while k>=0:\n",
    "        k=nums.pop()\n",
    "        nums[:]=nums[::-1]\n",
    "        nums.append(k)\n",
    "        nums[:]=nums[::-1]\n",
    "        print(nums)\n",
    "        k-=1\n",
    "nums\n",
    "            "
   ]
  },
  {
   "cell_type": "code",
   "execution_count": 57,
   "metadata": {},
   "outputs": [
    {
     "data": {
      "text/plain": [
       "[99, 3, -100, -1]"
      ]
     },
     "execution_count": 57,
     "metadata": {},
     "output_type": "execute_result"
    }
   ],
   "source": [
    "nums=[-1,-100,3,99]\n",
    "nums[:]=reversed(nums)\n",
    "nums"
   ]
  },
  {
   "cell_type": "code",
   "execution_count": 6,
   "metadata": {},
   "outputs": [
    {
     "data": {
      "text/plain": [
       "[-100, 3, 99, -1]"
      ]
     },
     "execution_count": 6,
     "metadata": {},
     "output_type": "execute_result"
    }
   ],
   "source": [
    "nums=[-1,-100,3,99]\n",
    "k=3\n",
    "n = len(nums)\n",
    "k = k % n  # Reduce unnecessary rotations\n",
    "        \n",
    "# Step 1: Reverse the entire list\n",
    "nums.reverse()\n",
    "        \n",
    "        # Step 2: Reverse first k elements\n",
    "nums[:k] = reversed(nums[:k])\n",
    "        \n",
    "        # Step 3: Reverse the remaining elements\n",
    "nums[k:] = reversed(nums[k:])\n",
    "nums"
   ]
  },
  {
   "cell_type": "code",
   "execution_count": 11,
   "metadata": {},
   "outputs": [
    {
     "name": "stdout",
     "output_type": "stream",
     "text": [
      "3\n",
      "[7, 6, 5, 4, 3, 2, 1]\n",
      "[5, 6, 7, 4, 3, 2, 1]\n",
      "[5, 6, 7, 1, 2, 3, 4]\n"
     ]
    }
   ],
   "source": [
    "nums = [1,2,3,4,5,6,7]\n",
    "k=3\n",
    "n = len(nums)\n",
    "k = k % n  # Reduce unnecessary rotations\n",
    "print(k)\n",
    "nums.reverse()\n",
    "print(nums)\n",
    "nums[:k] = reversed(nums[:k])\n",
    "print(nums)\n",
    "nums[k:] = reversed(nums[k:])\n",
    "print(nums)"
   ]
  },
  {
   "cell_type": "code",
   "execution_count": 15,
   "metadata": {},
   "outputs": [
    {
     "name": "stdout",
     "output_type": "stream",
     "text": [
      "eabcd\n",
      "deabc\n",
      "True\n",
      "cdeab\n",
      "bcdea\n",
      "abcde\n"
     ]
    }
   ],
   "source": [
    "nums = \"abcde\"\n",
    "goal = \"cdeab\"\n",
    "if len(nums)!=len(goal):\n",
    "    print(\"false\")\n",
    "else:\n",
    "    for i in range(len(nums)):\n",
    "        nums=nums[-1]+nums[:-1]\n",
    "        if nums==goal:\n",
    "            print(\"True\")\n",
    "        print(nums)  "
   ]
  },
  {
   "cell_type": "code",
   "execution_count": 14,
   "metadata": {},
   "outputs": [
    {
     "data": {
      "text/plain": [
       "[3, 3]"
      ]
     },
     "execution_count": 14,
     "metadata": {},
     "output_type": "execute_result"
    }
   ],
   "source": [
    "nums = [5,7,7,8,8,10]\n",
    "target = str(8)\n",
    "k=[]\n",
    "a=\"\"\n",
    "for i in range(len(nums)):\n",
    "    a=a+str(nums[i])\n",
    "while(a.find(target)>0):\n",
    "    k.append(a.find(target))\n",
    "    a=a[0:a.find(target)]+a[a.find(target)+1:]\n",
    "k"
   ]
  },
  {
   "cell_type": "code",
   "execution_count": 1,
   "metadata": {},
   "outputs": [
    {
     "ename": "SyntaxError",
     "evalue": "incomplete input (2513410442.py, line 3)",
     "output_type": "error",
     "traceback": [
      "\u001b[0;36m  Cell \u001b[0;32mIn[1], line 3\u001b[0;36m\u001b[0m\n\u001b[0;31m    for a in range(len(strs)):\u001b[0m\n\u001b[0m                              ^\u001b[0m\n\u001b[0;31mSyntaxError\u001b[0m\u001b[0;31m:\u001b[0m incomplete input\n"
     ]
    }
   ],
   "source": [
    "strs = [\"flower\",\"flow\",\"flight\"]\n",
    "k=\"\"\n",
    "while len\n"
   ]
  },
  {
   "cell_type": "code",
   "execution_count": 4,
   "metadata": {},
   "outputs": [
    {
     "name": "stdout",
     "output_type": "stream",
     "text": [
      "flower\n",
      "flowe\n",
      "flow\n",
      "flo\n"
     ]
    },
    {
     "data": {
      "text/plain": [
       "'fl'"
      ]
     },
     "execution_count": 4,
     "metadata": {},
     "output_type": "execute_result"
    }
   ],
   "source": [
    "def longestCommonPrefix(strs):\n",
    "    if not strs:\n",
    "        # empty list of the strs\n",
    "        return \"\"\n",
    "    # taking first as default\n",
    "    longest_pre = strs[0]\n",
    "    \n",
    "    # moving in first elemnt till last\n",
    "    for i in range(1,len(strs)):\n",
    "        # moving through the elment of strs and finding in the default first elent\n",
    "        while(strs[i].find(longest_pre)!=0):\n",
    "            print(longest_pre)\n",
    "            # its prefix hence the str starting must be same so it will do the work\n",
    "            longest_pre = longest_pre[:-1]\n",
    "            \n",
    "            if len(longest_pre) == 0: \n",
    "                return \"\"\n",
    "    return longest_pre\n",
    "strs = [\"flower\",\"flow\",\"flight\"]\n",
    "longestCommonPrefix(strs)"
   ]
  },
  {
   "cell_type": "code",
   "execution_count": 8,
   "metadata": {},
   "outputs": [
    {
     "data": {
      "text/plain": [
       "-1"
      ]
     },
     "execution_count": 8,
     "metadata": {},
     "output_type": "execute_result"
    }
   ],
   "source": [
    "\"flow\".find(\"flower\")"
   ]
  },
  {
   "cell_type": "code",
   "execution_count": 28,
   "metadata": {},
   "outputs": [
    {
     "name": "stdout",
     "output_type": "stream",
     "text": [
      "4\n",
      "4\n"
     ]
    }
   ],
   "source": [
    "nums =[1,2,3,2,5,1]\n",
    "sum_se=nums[0]\n",
    "\n",
    "for i in range(1,len(nums)):\n",
    "    if sum_se==nums[i-1]+1:\n",
    "        sum_se+=nums[i]\n",
    "    else:\n",
    "        break\n",
    "print(x)\n",
    "x=sum_se\n",
    "n=set(nums)\n",
    "for i in n:\n",
    "    if x==i:\n",
    "        x+=1\n",
    "print(x)\n",
    "    "
   ]
  },
  {
   "cell_type": "code",
   "execution_count": 22,
   "metadata": {},
   "outputs": [
    {
     "ename": "TypeError",
     "evalue": "isPalindrome() takes 1 positional argument but 2 were given",
     "output_type": "error",
     "traceback": [
      "\u001b[0;31m---------------------------------------------------------------------------\u001b[0m",
      "\u001b[0;31mTypeError\u001b[0m                                 Traceback (most recent call last)",
      "Cell \u001b[0;32mIn[22], line 18\u001b[0m\n\u001b[1;32m     16\u001b[0m         \u001b[38;5;28;01mreturn\u001b[39;00m l\n\u001b[1;32m     17\u001b[0m a\u001b[38;5;241m=\u001b[39mListNode()\n\u001b[0;32m---> 18\u001b[0m \u001b[43misPalindrome\u001b[49m\u001b[43m(\u001b[49m\u001b[43ma\u001b[49m\u001b[43m,\u001b[49m\u001b[43m[\u001b[49m\u001b[38;5;241;43m1\u001b[39;49m\u001b[43m,\u001b[49m\u001b[38;5;241;43m2\u001b[39;49m\u001b[43m,\u001b[49m\u001b[38;5;241;43m2\u001b[39;49m\u001b[43m,\u001b[49m\u001b[38;5;241;43m1\u001b[39;49m\u001b[43m]\u001b[49m\u001b[43m)\u001b[49m\n",
      "\u001b[0;31mTypeError\u001b[0m: isPalindrome() takes 1 positional argument but 2 were given"
     ]
    }
   ],
   "source": [
    "class ListNode(object):\n",
    "    def __init__(self, val=0, next=None):\n",
    "        self.val = val\n",
    "        self.next = next\n",
    "\n",
    "def isPalindrome(head):\n",
    "        \"\"\"\n",
    "        :type head: Optional[ListNode]\n",
    "        :rtype: bool\n",
    "        \"\"\"\n",
    "        l=[]\n",
    "        curr=head\n",
    "        while curr.next!=None:\n",
    "            l.append(curr.val)\n",
    "            curr=curr.next\n",
    "        return l\n",
    "a=ListNode()\n",
    "isPalindrome(a,[1,2,2,1])"
   ]
  },
  {
   "cell_type": "code",
   "execution_count": 4,
   "metadata": {},
   "outputs": [
    {
     "data": {
      "text/plain": [
       "{'1': 2, '2': 2, '3': 2, '4': 1}"
      ]
     },
     "execution_count": 4,
     "metadata": {},
     "output_type": "execute_result"
    }
   ],
   "source": [
    "a={}\n",
    "y=\"1122334\"\n",
    "for i in range(len(y)):\n",
    "    a[y[i]]=1+a.get(y[i],0)\n",
    "a"
   ]
  },
  {
   "cell_type": "code",
   "execution_count": 15,
   "metadata": {},
   "outputs": [
    {
     "data": {
      "text/plain": [
       "{1: 2, 2: 2}"
      ]
     },
     "execution_count": 15,
     "metadata": {},
     "output_type": "execute_result"
    }
   ],
   "source": [
    "from collections import Counter\n",
    "\n",
    "subjects = [1,2,1,2]\n",
    "subject_counts = dict(Counter(subjects))\n",
    "subject_counts"
   ]
  },
  {
   "cell_type": "code",
   "execution_count": 4,
   "metadata": {},
   "outputs": [
    {
     "name": "stdout",
     "output_type": "stream",
     "text": [
      "110\n"
     ]
    }
   ],
   "source": [
    "a=\"11\"\n",
    "b=\"11\"\n",
    "c=\"\"\n",
    "carr=0\n",
    "while a or b:\n",
    "    if a[-1]==\"1\" and b[-1]==\"1\" and carr==0:\n",
    "        carr=1\n",
    "        c=\"0\"+c\n",
    "    elif a[-1]==\"1\" and b[-1]==\"1\" and carr==1:\n",
    "        carr=1\n",
    "        c=\"1\"+c\n",
    "    elif a[-1]==\"1\" and b[-1]==\"0\" and carr==0:\n",
    "        carr=0\n",
    "        c=\"1\"+c\n",
    "    elif a[-1]==\"1\" and b[-1]==\"0\" and carr==1:\n",
    "        carr=1\n",
    "        c=\"0\"+c\n",
    "    elif a[-1]==\"0\" and b[-1]==\"0\" and carr==0:\n",
    "        carr=0\n",
    "        c=\"0\"+c\n",
    "    elif a[-1]==\"0\" and b[-1]==\"0\" and carr==1:\n",
    "        carr=0\n",
    "        c=\"1\"+c\n",
    "    elif a[-1]==\"0\" and b[-1]==\"1\" and carr==0:\n",
    "        carr=0\n",
    "        c=\"1\"+c\n",
    "    elif a[-1]==\"0\" and b[-1]==\"1\" and carr==1:\n",
    "        carr=1\n",
    "        c=\"0\"+c\n",
    "    a=a[:-1] if a else \"\"\n",
    "    b=b[:-1] if b else \"\"\n",
    "if carr:\n",
    "    c=\"1\"+c\n",
    "print(c)"
   ]
  },
  {
   "cell_type": "code",
   "execution_count": 1,
   "metadata": {},
   "outputs": [],
   "source": [
    "class MyStack(object):\n",
    "\n",
    "    def __init__(self):\n",
    "        self.data=[]\n",
    "\n",
    "    def push(self, x):\n",
    "        \"\"\"\n",
    "        :type x: int\n",
    "        :rtype: None\n",
    "        \"\"\"\n",
    "        self.data.append(x)\n",
    "\n",
    "    def pop(self):\n",
    "        \"\"\"\n",
    "        :rtype: int\n",
    "        \"\"\"\n",
    "        t=self.data[-1]\n",
    "        self.data[:]=self.data[:-1]\n",
    "        return t\n",
    "\n",
    "    def top(self):\n",
    "        \"\"\"\n",
    "        :rtype: int\n",
    "        \"\"\"\n",
    "        return self.data[-1]\n",
    "        \n",
    "\n",
    "    def empty(self):\n",
    "        \"\"\"\n",
    "        :rtype: bool\n",
    "        \"\"\"\n",
    "        if len(self.data)==0:\n",
    "            return True\n",
    "        else:\n",
    "            return False\n",
    "        \n",
    "\n",
    "\n",
    "# Your MyStack object will be instantiated and called as such:\n",
    "# obj = MyStack()\n",
    "# obj.push(x)\n",
    "# param_2 = obj.pop()\n",
    "# param_3 = obj.top()\n",
    "# param_4 = obj.empty()"
   ]
  },
  {
   "cell_type": "code",
   "execution_count": 9,
   "metadata": {},
   "outputs": [
    {
     "name": "stdout",
     "output_type": "stream",
     "text": [
      "['heloo   ', 'yupee.   ']\n",
      "heloo   \n"
     ]
    },
    {
     "ename": "TypeError",
     "evalue": "'str' object does not support item assignment",
     "output_type": "error",
     "traceback": [
      "\u001b[0;31m---------------------------------------------------------------------------\u001b[0m",
      "\u001b[0;31mTypeError\u001b[0m                                 Traceback (most recent call last)",
      "Cell \u001b[0;32mIn[9], line 9\u001b[0m\n\u001b[1;32m      7\u001b[0m \u001b[38;5;28;01mfor\u001b[39;00m i \u001b[38;5;129;01min\u001b[39;00m l:\n\u001b[1;32m      8\u001b[0m     \u001b[38;5;28mprint\u001b[39m(i)\n\u001b[0;32m----> 9\u001b[0m     \u001b[43mi\u001b[49m\u001b[43m[\u001b[49m\u001b[43m:\u001b[49m\u001b[43m]\u001b[49m\u001b[38;5;241m=\u001b[39mi\u001b[38;5;241m.\u001b[39mstrip()\n\u001b[1;32m     10\u001b[0m \u001b[38;5;28mprint\u001b[39m(l)\n",
      "\u001b[0;31mTypeError\u001b[0m: 'str' object does not support item assignment"
     ]
    }
   ],
   "source": [
    "len=int(input(\"Enter the length of the list\"))\n",
    "l=[]\n",
    "for i in range(len):\n",
    "    word=str(input(f\"Enter the {i}th word\"))\n",
    "    l.append(word)\n",
    "print(l)\n",
    "for i in l:\n",
    "    i=i.strip()\n",
    "    \n",
    "print(l)"
   ]
  },
  {
   "cell_type": "code",
   "execution_count": 7,
   "metadata": {},
   "outputs": [
    {
     "data": {
      "text/plain": [
       "'Rishabh'"
      ]
     },
     "execution_count": 7,
     "metadata": {},
     "output_type": "execute_result"
    }
   ],
   "source": [
    "i=\"Rishabh  \"\n",
    "i=i.strip()\n",
    "i"
   ]
  },
  {
   "cell_type": "code",
   "execution_count": 1,
   "metadata": {},
   "outputs": [
    {
     "name": "stdout",
     "output_type": "stream",
     "text": [
      "1110\n"
     ]
    }
   ],
   "source": [
    "a=\"11\"\n",
    "b=\"1011\"\n",
    "c=\"\"\n",
    "carr=0\n",
    "\n",
    "while a or b:\n",
    "    dig_a=int(a[-1]) if a else 0\n",
    "    dig_b=int(b[-1]) if b else 0\n",
    "    \n",
    "    sum_=dig_a+dig_b+carr\n",
    "    carr=sum_//2\n",
    "    c=str(sum_%2)+c\n",
    "    \n",
    "    a=a[:-1] if a else \"\"\n",
    "    b=b[:-1] if b else \"\"\n",
    "if carr:\n",
    "    c=\"1\"+c\n",
    "print(c)"
   ]
  },
  {
   "cell_type": "code",
   "execution_count": 12,
   "metadata": {},
   "outputs": [
    {
     "data": {
      "text/plain": [
       "[1, 2, 3, 4]"
      ]
     },
     "execution_count": 12,
     "metadata": {},
     "output_type": "execute_result"
    }
   ],
   "source": [
    "num = [1,2,0,0]\n",
    "k = 34\n",
    "t=\"\"\n",
    "for i in num:\n",
    "    t=t+str(i)\n",
    "sum_=k+int(t)\n",
    "sum_c=[]\n",
    "for k in str(sum_):\n",
    "    sum_c.append(int(k))\n",
    "sum_c\n",
    "    "
   ]
  },
  {
   "cell_type": "code",
   "execution_count": 10,
   "metadata": {},
   "outputs": [
    {
     "name": "stdout",
     "output_type": "stream",
     "text": [
      "1\n",
      "2\n",
      "4\n",
      "8\n",
      "16\n",
      "32\n",
      "64\n",
      "128\n",
      "256\n",
      "512\n",
      "1024\n",
      "2048\n",
      "4096\n",
      "8192\n",
      "16384\n"
     ]
    },
    {
     "data": {
      "text/plain": [
       "18880"
      ]
     },
     "execution_count": 10,
     "metadata": {},
     "output_type": "execute_result"
    }
   ],
   "source": [
    "a=[1,0,0,1,0,0,1,1,1,0,0,0,0,0,0]\n",
    "a=a[::-1]\n",
    "sum=0\n",
    "for i in range(len(a)):\n",
    "    sum=sum+(2**i)*a[i]\n",
    "    print(2**i)\n",
    "\n",
    "sum"
   ]
  },
  {
   "cell_type": "code",
   "execution_count": 14,
   "metadata": {},
   "outputs": [
    {
     "name": "stdout",
     "output_type": "stream",
     "text": [
      "ca\n",
      "caf\n",
      "caf\n"
     ]
    }
   ],
   "source": [
    "word1 = \"cdf\"\n",
    "word2 = \"a\"\n",
    "merge=\"\"\n",
    "lw1=len(word1)\n",
    "lw2=len(word2)\n",
    "if lw1>lw2:\n",
    "    j=0\n",
    "    for i in word2:\n",
    "        merge+=word1[j]+i\n",
    "        j+=1\n",
    "        print(merge)\n",
    "    merge+=word1[lw1-j:]\n",
    "    print(merge)\n",
    "elif lw1<lw2:\n",
    "    j=0\n",
    "    for i in word1:\n",
    "        merge+=i+word2[j]\n",
    "        j+=1\n",
    "    merge+=word2[lw2-j:]\n",
    "else:\n",
    "    j=0\n",
    "    for i in word1:\n",
    "        merge+=i+word2[j]\n",
    "        j+=1\n",
    "print(merge)"
   ]
  },
  {
   "cell_type": "code",
   "execution_count": 19,
   "metadata": {},
   "outputs": [
    {
     "name": "stdout",
     "output_type": "stream",
     "text": [
      "cadf\n"
     ]
    }
   ],
   "source": [
    "word1 = \"cdf\"\n",
    "word2 = \"a\"\n",
    "res=\"\"\n",
    "lw1=len(word1)\n",
    "lw2=len(word2)\n",
    "i=0\n",
    "j=0\n",
    "while i<lw1 and j<lw2:\n",
    "    res+=word1[i]+word2[j]\n",
    "    i+=1\n",
    "    j+=1\n",
    "if i<lw1:\n",
    "    res+=word1[i:]\n",
    "else:\n",
    "    res+=word2[j:]\n",
    "    \n",
    "print(res)"
   ]
  },
  {
   "cell_type": "code",
   "execution_count": 21,
   "metadata": {},
   "outputs": [
    {
     "name": "stdout",
     "output_type": "stream",
     "text": [
      "2\n"
     ]
    }
   ],
   "source": [
    "bn=[1,1,1,0,1,0]\n",
    "bn_ln=len(bn)\n",
    "s=0\n",
    "c=0\n",
    "for i in bn[s:s+3]:\n",
    "    if i==0:\n",
    "        i=1\n",
    "    else:\n",
    "        i=0\n",
    "    \n",
    "    \n",
    "print(bn_ln//3)"
   ]
  },
  {
   "cell_type": "code",
   "execution_count": 1,
   "metadata": {},
   "outputs": [
    {
     "name": "stdout",
     "output_type": "stream",
     "text": [
      "3\n"
     ]
    }
   ],
   "source": [
    "nums = [-2,-1,-1,1,2,3]\n",
    "n_c=0\n",
    "p_c=0\n",
    "\n",
    "for i in nums:\n",
    "    if i>0:\n",
    "        p_c+=1\n",
    "    elif i<0:\n",
    "        n_c+=1\n",
    "    elif i==0:\n",
    "        continue\n",
    "print(max(n_c,p_c))"
   ]
  },
  {
   "cell_type": "code",
   "execution_count": 1,
   "metadata": {},
   "outputs": [],
   "source": [
    "class Node:\n",
    "    def __init__(self,val):\n",
    "        self.val=val\n",
    "        self.leftChild=None\n",
    "        self.rightChild=None\n",
    "    \n",
    "    def get(self):\n",
    "        return self.val\n",
    "    \n",
    "    def set(self,val):\n",
    "        self.val=val\n",
    "    \n",
    "    def getChildren(self):\n",
    "        children=[]\n",
    "        if self.leftChild !=None:\n",
    "            children.append(self.leftChild)\n",
    "        if self.rightChild !=None:\n",
    "            children.append(self.rightChild)\n",
    "        return children\n",
    "\n",
    "class BST:\n",
    "    def __init__(self):\n",
    "        self.root=None\n",
    "        \n",
    "    def setRoot(self,val):\n",
    "        self.root=Node(val)\n",
    "        \n",
    "    def insert(self,val):\n",
    "        if self.root is None:\n",
    "            self.setRoot(val)\n",
    "        else:\n",
    "            self.insertNode(self.root,val)\n",
    "            \n",
    "    def insertNode(self,currentNode,val):\n",
    "        if(val<=currentNode.val):\n",
    "            if(currentNode.leftChild):\n",
    "                self.insertNode(currentNode.leftChild,val)\n",
    "            else:\n",
    "                currentNode.leftChild=Node(val)\n",
    "                \n",
    "        if(val>=currentNode.val):\n",
    "            if(currentNode.rightChild):\n",
    "                self.insertNode(currentNode.rightChild,val)\n",
    "            else:\n",
    "                currentNode.rightChild=Node(val)\n",
    "    def find(self,val):\n",
    "        return findNode(self.root,val)\n",
    "    \n",
    "    def findNode(self,currentNode,val):\n",
    "        if (currentNode is None):\n",
    "            return False\n",
    "        elif(val == currentNode.val):\n",
    "            return True\n",
    "        elif(val< currentNode.val):\n",
    "            return self.findNode(currentNode.leftChild,val),currentNode.val\n",
    "        else:\n",
    "            return self.findNode(currentNode.rightChild,val),currentNode.val"
   ]
  },
  {
   "cell_type": "code",
   "execution_count": 2,
   "metadata": {},
   "outputs": [
    {
     "name": "stdout",
     "output_type": "stream",
     "text": [
      "50\n"
     ]
    }
   ],
   "source": [
    "k=BST()\n",
    "k.setRoot(50)\n",
    "print(k.root.val)"
   ]
  },
  {
   "cell_type": "code",
   "execution_count": 3,
   "metadata": {},
   "outputs": [],
   "source": [
    "k.insert(5)\n",
    "k.insert(15)\n",
    "k.insert(3)\n",
    "k.insert(7)\n",
    "k.insert(30)\n",
    "k.insert(110)\n",
    "k.insert(233)"
   ]
  },
  {
   "cell_type": "code",
   "execution_count": 25,
   "metadata": {},
   "outputs": [
    {
     "name": "stdout",
     "output_type": "stream",
     "text": [
      "5\n",
      "110\n",
      "5\n",
      "233\n"
     ]
    }
   ],
   "source": [
    "print(k.root.leftChild.val)\n",
    "print(k.root.rightChild.val)\n",
    "print(k.root.leftChild.leftChild.val)\n",
    "print(k.root.rightChild.rightChild.val)"
   ]
  },
  {
   "cell_type": "code",
   "execution_count": 10,
   "metadata": {},
   "outputs": [
    {
     "name": "stdout",
     "output_type": "stream",
     "text": [
      "True\n"
     ]
    }
   ],
   "source": [
    "s = \"ab#c\"\n",
    "t = \"ad#c\"\n",
    "for i in range(len(s)-1):\n",
    "    if s[i]==\"#\":\n",
    "        s=s[:i-1]+s[i+1:len(s)]\n",
    "for i in range(len(t)-1):\n",
    "    if t[i]==\"#\":\n",
    "        t=t[:i-1]+t[i+1:len(t)]\n",
    "if t==s:\n",
    "    print(True)\n",
    "         "
   ]
  },
  {
   "cell_type": "code",
   "execution_count": 11,
   "metadata": {},
   "outputs": [
    {
     "name": "stdout",
     "output_type": "stream",
     "text": [
      "True\n"
     ]
    }
   ],
   "source": [
    "def process_stack(s):\n",
    "            stack=[]\n",
    "            for char in s:\n",
    "                if char==\"#\":\n",
    "                    if stack:\n",
    "                        stack.pop()\n",
    "                else:\n",
    "                    stack.append(char)\n",
    "            return \"\".join(stack)\n",
    "s = \"ab#c\"\n",
    "t = \"ad#c\"\n",
    "print(process_stack(s)==process_stack(t))"
   ]
  },
  {
   "cell_type": "code",
   "execution_count": 4,
   "metadata": {},
   "outputs": [
    {
     "name": "stdout",
     "output_type": "stream",
     "text": [
      "Right View Traversal: 1 3 10 \n",
      "Left View Traversal: 1 2 4 5 6 \n"
     ]
    }
   ],
   "source": [
    "                                \n",
    " # Node class for the binary tree\n",
    "class Node:\n",
    "    def __init__(self, val):\n",
    "        self.data = val\n",
    "        self.left = None\n",
    "        self.right = None\n",
    "\n",
    "# Solution class to get the left\n",
    "# and right view of the binary tree\n",
    "class Solution:\n",
    "    def rightsideView(self, root):\n",
    "        # Vector to store the result\n",
    "        res = []\n",
    "        \n",
    "        # Call the recursive function\n",
    "        # to populate the right-side view\n",
    "        self.recursionRight(root, 0, res)\n",
    "        \n",
    "        return res\n",
    "\n",
    "    def leftsideView(self, root):\n",
    "        # Vector to store the result\n",
    "        res = []\n",
    "        \n",
    "        # Call the recursive function\n",
    "        # to populate the left-side view\n",
    "        self.recursionLeft(root, 0, res)\n",
    "        \n",
    "        return res\n",
    "\n",
    "    # Recursive function to traverse the\n",
    "    # binary tree and populate the left-side view\n",
    "    def recursionLeft(self, root, level, res):\n",
    "        # Check if the current node is None\n",
    "        if not root:\n",
    "            return\n",
    "        \n",
    "        # Check if the size of the result list\n",
    "        # is equal to the current level\n",
    "        if len(res) == level:\n",
    "            # If equal, add the value of the\n",
    "            # current node to the result list\n",
    "            res.append(root.data)\n",
    "        \n",
    "        # Recursively call the function for the\n",
    "        # left child with an increased level\n",
    "        self.recursionLeft(root.left, level + 1, res)\n",
    "        \n",
    "        # Recursively call the function for the\n",
    "        # right child with an increased level\n",
    "        self.recursionLeft(root.right, level + 1, res)\n",
    "\n",
    "    # Recursive function to traverse the\n",
    "    # binary tree and populate the right-side view\n",
    "    def recursionRight(self, root, level, res):\n",
    "        # Check if the current node is None\n",
    "        if not root:\n",
    "            return\n",
    "        \n",
    "        # Check if the size of the result list\n",
    "        # is equal to the current level\n",
    "        if len(res) == level:\n",
    "            # If equal, add the value of the\n",
    "            # current node to the result list\n",
    "            res.append(root.data)\n",
    "            \n",
    "            # Recursively call the function for the\n",
    "            # right child with an increased level\n",
    "            self.recursionRight(root.right, level + 1, res)\n",
    "            \n",
    "            # Recursively call the function for the\n",
    "            # left child with an increased level\n",
    "            self.recursionRight(root.left, level + 1, res)\n",
    "\n",
    "# Creating a sample binary tree\n",
    "root = Node(1)\n",
    "root.left = Node(2)\n",
    "root.left.left = Node(4)\n",
    "root.left.right = Node(10)\n",
    "root.left.left.right = Node(5)\n",
    "root.left.left.right.right = Node(6)\n",
    "root.right = Node(3)\n",
    "root.right.right = Node(10)\n",
    "root.right.left = Node(9)\n",
    "\n",
    "solution = Solution()\n",
    "\n",
    "# Get the Right View traversal\n",
    "rightView = solution.rightsideView(root)\n",
    "\n",
    "# Print the result for Right View\n",
    "print(\"Right View Traversal:\", end=\" \")\n",
    "for node in rightView:\n",
    "    print(node, end=\" \")\n",
    "print()\n",
    "\n",
    "# Get the Left View traversal\n",
    "leftView = solution.leftsideView(root)\n",
    "\n",
    "# Print the result for Left View\n",
    "print(\"Left View Traversal:\", end=\" \")\n",
    "for node in leftView:\n",
    "    print(node, end=\" \")\n",
    "print()\n",
    "                                \n",
    "                            "
   ]
  },
  {
   "cell_type": "code",
   "execution_count": null,
   "metadata": {},
   "outputs": [],
   "source": []
  }
 ],
 "metadata": {
  "kernelspec": {
   "display_name": "Python 3",
   "language": "python",
   "name": "python3"
  },
  "language_info": {
   "codemirror_mode": {
    "name": "ipython",
    "version": 3
   },
   "file_extension": ".py",
   "mimetype": "text/x-python",
   "name": "python",
   "nbconvert_exporter": "python",
   "pygments_lexer": "ipython3",
   "version": "3.12.4"
  }
 },
 "nbformat": 4,
 "nbformat_minor": 2
}
