{
 "cells": [
  {
   "cell_type": "code",
   "execution_count": 16,
   "metadata": {},
   "outputs": [
    {
     "name": "stdout",
     "output_type": "stream",
     "text": [
      "{'a': 1, 'A': 2, 'b': 4} {'a': 1, 'A': 1}\n",
      "3\n"
     ]
    }
   ],
   "source": [
    "# You're given strings jewels representing the types of stones that are jewels, and stones representing the stones you have. Each character in stones is a type of stone you have. You want to know how many of the stones you have are also jewels.\n",
    "\n",
    "# Letters are case sensitive, so \"a\" is considered a different type of stone from \"A\".\n",
    "\n",
    " \n",
    "\n",
    "# Example 1:\n",
    "\n",
    "# Input: jewels = \"aA\", stones = \"aAAbbbb\"\n",
    "# Output: 3\n",
    "\n",
    "jewls=\"aA\"\n",
    "stones=\"aAAbbbb\"\n",
    "a={}\n",
    "b={}\n",
    "count=0\n",
    "for i in range(len(stones)):\n",
    "    a[stones[i]]=1+a.get(stones[i],0)\n",
    "for j in range(len(jewls)):\n",
    "    b[jewls[j]]=1+b.get(jewls[j],0)\n",
    "print(a,b)\n",
    "for key in a:\n",
    "    if key in b:\n",
    "        count+=a[key]\n",
    "print(count)\n",
    "\n",
    "    \n",
    "\n",
    "        \n",
    "    "
   ]
  },
  {
   "cell_type": "code",
   "execution_count": 17,
   "metadata": {},
   "outputs": [
    {
     "name": "stdout",
     "output_type": "stream",
     "text": [
      "3\n"
     ]
    }
   ],
   "source": [
    "jewls=\"aA\"\n",
    "stones=\"aAAbbbb\"\n",
    "for stone in stones:\n",
    "    if stone is jewls:\n",
    "        count+=1\n",
    "print(count) "
   ]
  },
  {
   "cell_type": "code",
   "execution_count": 18,
   "metadata": {},
   "outputs": [
    {
     "name": "stdout",
     "output_type": "stream",
     "text": [
      "3\n"
     ]
    }
   ],
   "source": [
    "jewls=\"aA\"\n",
    "stones=\"aAAbbbb\"\n",
    "s=set(jewls)\n",
    "for stone in stones:\n",
    "    if stone is s:\n",
    "        count+=1\n",
    "print(count) "
   ]
  },
  {
   "cell_type": "code",
   "execution_count": null,
   "metadata": {},
   "outputs": [
    {
     "name": "stdout",
     "output_type": "stream",
     "text": [
      "{'b': 1}\n"
     ]
    }
   ],
   "source": [
    "# Given two strings ransomNote and magazine, return true if ransomNote can be constructed by using the letters from magazine and false otherwise.\n",
    "\n",
    "# Each letter in magazine can only be used once in ransomNote.\n",
    "\n",
    " \n",
    "\n",
    "# Example 1:\n",
    "\n",
    "# Input: ransomNote = \"a\", magazine = \"b\"\n",
    "# Output: false\n",
    "# Example 2:\n",
    "\n",
    "# Input: ransomNote = \"aa\", magazine = \"ab\"\n",
    "# Output: false\n",
    "# Example 3:\n",
    "\n",
    "# Input: ransomNote = \"aa\", magazine = \"aab\"\n",
    "# Output: true\n",
    "\n",
    "ransomNote = \"a\"\n",
    "magazine = \"b\"\n",
    "counter={}\n",
    "for i in magazine:\n",
    "    if i in counter:\n",
    "        counter[i]+=1\n",
    "    else:\n",
    "        counter[i]=1\n",
    "print(counter)\n",
    "for j in ransomNote:\n",
    "    if j not in counter:\n",
    "        return False\n",
    "    elif counter[j]==1:\n",
    "        del counter\n",
    "    else:\n",
    "        counter[j]-=1\n",
    "return True\n",
    "        "
   ]
  },
  {
   "cell_type": "code",
   "execution_count": 1,
   "metadata": {},
   "outputs": [
    {
     "name": "stdout",
     "output_type": "stream",
     "text": [
      "1\n",
      "{'n': 1, 'l': 2, 'a': 1, 'b': 1, 'o': 2}\n"
     ]
    }
   ],
   "source": [
    "# Given a string text, you want to use the characters of text to form as many instances of the word \"balloon\" as possible.\n",
    "\n",
    "# You can use each character in text at most once. Return the maximum number of instances that can be formed.\n",
    "# Example 1:\n",
    "# Input: text = \"nlaebolko\"\n",
    "# Output: 1\n",
    "# Example 2:\n",
    "text = \"nlaebolko\"\n",
    "counter={}\n",
    "balloon=\"balloon\"\n",
    "for i in text:\n",
    "    if i in balloon:\n",
    "        if i in counter:\n",
    "            counter[i]+=1\n",
    "        else:\n",
    "            counter[i]=1\n",
    "\n",
    "if any(c not in counter for c in balloon):\n",
    "    print(0)\n",
    "\n",
    "print(min(counter['b'],counter['a'],counter['l']//2,counter['o']//2,counter['n']))\n",
    "print(counter)\n",
    "\n",
    "\n"
   ]
  },
  {
   "cell_type": "code",
   "execution_count": null,
   "metadata": {},
   "outputs": [],
   "source": [
    "# Design a HashSet without using any built-in hash table libraries.\n",
    "\n",
    "# Implement MyHashSet class:\n",
    "\n",
    "# void add(key) Inserts the value key into the HashSet.\n",
    "# bool contains(key) Returns whether the value key exists in the HashSet or not.\n",
    "# void remove(key) Removes the value key in the HashSet. If key does not exist in the HashSet, do nothing.\n",
    " \n",
    "\n",
    "# Example 1:\n",
    "\n",
    "# Input\n",
    "# [\"MyHashSet\", \"add\", \"add\", \"contains\", \"contains\", \"add\", \"contains\", \"remove\", \"contains\"]\n",
    "# [[], [1], [2], [1], [3], [2], [2], [2], [2]]\n",
    "# Output\n",
    "# [null, null, null, true, false, null, true, null, false]\n",
    "\n",
    "# Explanation\n",
    "# MyHashSet myHashSet = new MyHashSet();\n",
    "# myHashSet.add(1);      // set = [1]\n",
    "# myHashSet.add(2);      // set = [1, 2]\n",
    "# myHashSet.contains(1); // return True\n",
    "# myHashSet.contains(3); // return False, (not found)\n",
    "# myHashSet.add(2);      // set = [1, 2]\n",
    "# myHashSet.contains(2); // return True\n",
    "# myHashSet.remove(2);   // set = [1]\n",
    "# myHashSet.contains(2); // return False, (already removed)\n",
    " \n",
    "\n",
    "\n",
    "class MyHashSet(object):\n",
    "\n",
    "    def __init__(self):\n",
    "        self.list=[]\n",
    "\n",
    "    def add(self, key):\n",
    "        \"\"\"\n",
    "        :type key: int\n",
    "        :rtype: None\n",
    "        \"\"\"\n",
    "        if key not in self.list:\n",
    "            self.list.append(key)\n",
    "\n",
    "    def remove(self, key):\n",
    "        \"\"\"\n",
    "        :type key: int\n",
    "        :rtype: None\n",
    "        \"\"\"\n",
    "        if key in self.list:\n",
    "            self.list.remove(key)\n",
    "\n",
    "    def contains(self, key):\n",
    "        \"\"\"\n",
    "        :type key: int\n",
    "        :rtype: bool\n",
    "        \"\"\"\n",
    "        return key in self.list \n",
    "\n",
    "\n",
    "# Your MyHashSet object will be instantiated and called as such:\n",
    "obj = MyHashSet()\n",
    "obj.add(10)\n",
    "obj.remove(1)\n",
    "param_3 = obj.contains(10)"
   ]
  },
  {
   "cell_type": "code",
   "execution_count": 1,
   "metadata": {},
   "outputs": [
    {
     "ename": "SyntaxError",
     "evalue": "invalid syntax (605352100.py, line 7)",
     "output_type": "error",
     "traceback": [
      "\u001b[0;36m  Cell \u001b[0;32mIn[1], line 7\u001b[0;36m\u001b[0m\n\u001b[0;31m    elif item not '.':\u001b[0m\n\u001b[0m                  ^\u001b[0m\n\u001b[0;31mSyntaxError\u001b[0m\u001b[0;31m:\u001b[0m invalid syntax\n"
     ]
    }
   ],
   "source": [
    "for i in range(9):\n",
    "    s=set()\n",
    "    for j in range(9):\n",
    "        item=board[i][j]\n",
    "        if item in s:\n",
    "            return False\n",
    "        elif item not '.':\n",
    "            s.add(item)\n",
    "\n",
    "for i in range(9):\n",
    "    s=set()\n",
    "    for j in range(9):\n",
    "        item=board[j][i]\n",
    "        if item in s:\n",
    "            return False\n",
    "        elif item not '.':\n",
    "            s.add(item) \n",
    "\n",
    "\n",
    "start=[(0,0),(0,3),(0,6),\n",
    "       (3,0),(3,3),(3,6),\n",
    "       (6,0),(6,3),(6,6)\n",
    "       ]\n",
    "\n",
    "for i,j in start:\n",
    "    s=set()\n",
    "    for row in range(i,i+3):\n",
    "        for col in range(j,j+3):\n",
    "            item =board[row][col]\n",
    "            if item in s:\n",
    "                return False\n",
    "            elif item not '.':\n",
    "                s.add(item)"
   ]
  },
  {
   "cell_type": "code",
   "execution_count": null,
   "metadata": {},
   "outputs": [
    {
     "name": "stdout",
     "output_type": "stream",
     "text": [
      "[-2, -1, 0, 0, 1, 2]\n"
     ]
    }
   ],
   "source": [
    "# Given an array nums of n integers, return an array of all the unique quadruplets [nums[a], nums[b], nums[c], nums[d]] such that:\n",
    "\n",
    "# 0 <= a, b, c, d < n\n",
    "# a, b, c, and d are distinct.\n",
    "# nums[a] + nums[b] + nums[c] + nums[d] == target\n",
    "# You may return the answer in any order.\n",
    "\n",
    " \n",
    "\n",
    "# Example 1:\n",
    "\n",
    "# Input: nums = [1,0,-1,0,-2,2], target = 0\n",
    "# Output: [[-2,-1,1,2],[-2,0,0,2],[-1,0,0,1]]\n",
    "\n",
    "\n",
    "nums = [1,0,-1,0,-2,2]\n",
    "nums=sorted(nums)\n",
    "print(nums)\n",
    "start=end=0\n",
    "new=[]\n",
    "for i in range(len(nums)):\n",
    "    if nums[start]\n",
    "    "
   ]
  },
  {
   "cell_type": "code",
   "execution_count": 18,
   "metadata": {},
   "outputs": [
    {
     "name": "stdout",
     "output_type": "stream",
     "text": [
      "[-1, 0, 1, 3, 4, 5, 6, 7, 8, 9]\n",
      "7\n"
     ]
    }
   ],
   "source": [
    "# Input: nums = [100,4,200,1,3,2]\n",
    "# Output: 4\n",
    "# Explanation: The longest consecutive elements sequence is [1, 2, 3, 4]. Therefore its length is 4.\n",
    "nums = [9,1,4,7,3,-1,0,5,8,-1,6]\n",
    "nums=list(sorted(set(nums)))\n",
    "print(nums)\n",
    "list_count=[]\n",
    "start=0\n",
    "count=1\n",
    "end=1\n",
    "while(end<(len(nums))):\n",
    "    if nums[start]+1==nums[end]:\n",
    "        count+=1\n",
    "        start+=1\n",
    "        end+=1\n",
    "    else:\n",
    "        list_count.append(count)\n",
    "        count=1\n",
    "        start+=1\n",
    "        end+=1\n",
    "list_count.append(count)\n",
    "print(max(list_count))\n",
    "\n",
    "\n",
    "# nums=list(sorted(set(nums)))\n",
    "#         start=0\n",
    "#         count=1\n",
    "#         end=1\n",
    "#         list_count=[]\n",
    "#         while(end<(len(nums))):\n",
    "#             if nums[start]+1==nums[end]:\n",
    "#                 count+=1\n",
    "#             else:\n",
    "#                 list_count.append(count)\n",
    "#                 count=1\n",
    "#             start+=1\n",
    "#             end+=1\n",
    "#         list_count.append(count)\n",
    "#         return max(list_count) if len(nums)!=0 else 0\n",
    "        \n",
    "    \n"
   ]
  },
  {
   "cell_type": "code",
   "execution_count": 17,
   "metadata": {},
   "outputs": [
    {
     "name": "stdout",
     "output_type": "stream",
     "text": [
      "0->2\n",
      "-4->5\n"
     ]
    },
    {
     "data": {
      "text/plain": [
       "['0->2', '4->5', '7']"
      ]
     },
     "execution_count": 17,
     "metadata": {},
     "output_type": "execute_result"
    }
   ],
   "source": [
    "nums = [0,1,2,4,5,7]\n",
    "# [\"0->2\",\"4->5\",\"7\"]\n",
    "result=[]\n",
    "count=0\n",
    "start=0\n",
    "end=1\n",
    "while (start<len(nums)-1):\n",
    "    if nums[start]+1 == nums[end]:\n",
    "        count+=1\n",
    "    else:\n",
    "        print(f\"{count-nums[start]}->{nums[start]}\")\n",
    "        result.append(f\"{nums[start]-count}->{nums[start]}\")\n",
    "        count=0\n",
    "    start+=1\n",
    "    end+=1\n",
    "if start !=end:result.append(f\"{nums[start]}\")\n",
    "\n",
    "result"
   ]
  },
  {
   "cell_type": "code",
   "execution_count": 21,
   "metadata": {},
   "outputs": [
    {
     "ename": "IndexError",
     "evalue": "list index out of range",
     "output_type": "error",
     "traceback": [
      "\u001b[0;31m---------------------------------------------------------------------------\u001b[0m",
      "\u001b[0;31mIndexError\u001b[0m                                Traceback (most recent call last)",
      "Cell \u001b[0;32mIn[21], line 8\u001b[0m\n\u001b[1;32m      6\u001b[0m \u001b[38;5;28;01mfor\u001b[39;00m j \u001b[38;5;129;01min\u001b[39;00m \u001b[38;5;28mrange\u001b[39m(\u001b[38;5;28mlen\u001b[39m(intervals[\u001b[38;5;241m1\u001b[39m])):\n\u001b[1;32m      7\u001b[0m     \u001b[38;5;28;01mif\u001b[39;00m \u001b[38;5;28mabs\u001b[39m(intervals[i][\u001b[38;5;241m1\u001b[39m]\u001b[38;5;241m-\u001b[39mintervals[i\u001b[38;5;241m+\u001b[39m\u001b[38;5;241m1\u001b[39m][\u001b[38;5;241m0\u001b[39m])\u001b[38;5;241m>\u001b[39m\u001b[38;5;241m=\u001b[39m\u001b[38;5;241m0\u001b[39m:\n\u001b[0;32m----> 8\u001b[0m         intervals\u001b[38;5;241m.\u001b[39mappend([intervals[i][j\u001b[38;5;241m-\u001b[39m\u001b[38;5;241m1\u001b[39m],\u001b[43mintervals\u001b[49m\u001b[43m[\u001b[49m\u001b[43mi\u001b[49m\u001b[38;5;241;43m+\u001b[39;49m\u001b[38;5;241;43m1\u001b[39;49m\u001b[43m]\u001b[49m\u001b[43m[\u001b[49m\u001b[43mj\u001b[49m\u001b[38;5;241;43m+\u001b[39;49m\u001b[38;5;241;43m1\u001b[39;49m\u001b[43m]\u001b[49m])\n\u001b[1;32m      9\u001b[0m         intervals\u001b[38;5;241m.\u001b[39mpop([i][j])\n\u001b[1;32m     10\u001b[0m         intervals\u001b[38;5;241m.\u001b[39mpop([i\u001b[38;5;241m+\u001b[39m\u001b[38;5;241m1\u001b[39m][j\u001b[38;5;241m-\u001b[39m\u001b[38;5;241m1\u001b[39m])\n",
      "\u001b[0;31mIndexError\u001b[0m: list index out of range"
     ]
    }
   ],
   "source": [
    "# Input: intervals = [[1,3],[2,6],[8,10],[15,18]]\n",
    "# Output: [[1,6],[8,10],[15,18]]\n",
    "intervals=[[1,3],[2,6],[8,10],[15,18]]\n",
    "new_l=[]\n",
    "for i in range(len(intervals)-1):\n",
    "    for j in range(len(intervals[1])):\n",
    "        if abs(intervals[i][1]-intervals[i+1][0])>=0:\n",
    "            intervals.append([intervals[i][j-1],intervals[i+1][j+1]])\n",
    "            intervals.pop([i][j])\n",
    "            intervals.pop([i+1][j-1])\n",
    "\n",
    "intervals\n",
    "\n",
    "    \n",
    "    "
   ]
  },
  {
   "cell_type": "code",
   "execution_count": 28,
   "metadata": {},
   "outputs": [
    {
     "data": {
      "text/plain": [
       "[[1, 3], [2, 6], [8, 10], [15, 18]]"
      ]
     },
     "execution_count": 28,
     "metadata": {},
     "output_type": "execute_result"
    }
   ],
   "source": [
    "intervals=[[1,3],[2,6],[8,10],[15,18]]\n",
    "intervals.sort(key=lambda x: x[1])\n",
    "\n",
    "intervals"
   ]
  },
  {
   "cell_type": "code",
   "execution_count": 1,
   "metadata": {},
   "outputs": [
    {
     "data": {
      "text/plain": [
       "0"
      ]
     },
     "execution_count": 1,
     "metadata": {},
     "output_type": "execute_result"
    }
   ],
   "source": [
    "a=\"dfasdaf\"\n",
    "a.find(\"d\")"
   ]
  },
  {
   "cell_type": "code",
   "execution_count": 16,
   "metadata": {},
   "outputs": [
    {
     "data": {
      "text/plain": [
       "[-1, 2, 3]"
      ]
     },
     "execution_count": 16,
     "metadata": {},
     "output_type": "execute_result"
    }
   ],
   "source": [
    "a=[-1,2,3]\n",
    "a=set(a)\n",
    "a=list(sorted(a))\n",
    "a\n"
   ]
  },
  {
   "cell_type": "code",
   "execution_count": 6,
   "metadata": {},
   "outputs": [
    {
     "name": "stdout",
     "output_type": "stream",
     "text": [
      "0 4\n",
      " \n",
      "1 4\n",
      "2 3\n",
      "3 2\n"
     ]
    }
   ],
   "source": [
    "s= \"abca\"\n",
    "start=0\n",
    "end=len(s)-start\n",
    "for start in range(len(s)):\n",
    "    print(start,end)\n",
    "    if s[:start]==s[end:]:\n",
    "        print(s[:start],s[end:])\n",
    "    end=len(s)-start\n",
    "    start+=1\n"
   ]
  },
  {
   "cell_type": "code",
   "execution_count": 10,
   "metadata": {},
   "outputs": [
    {
     "data": {
      "text/plain": [
       "2"
      ]
     },
     "execution_count": 10,
     "metadata": {},
     "output_type": "execute_result"
    }
   ],
   "source": [
    "accounts = [[1,2,3],[3,2,1]]\n",
    "len(accounts)"
   ]
  },
  {
   "cell_type": "code",
   "execution_count": null,
   "metadata": {},
   "outputs": [
    {
     "name": "stdout",
     "output_type": "stream",
     "text": [
      "1 3\n",
      "5 5\n",
      "9 7\n"
     ]
    }
   ],
   "source": [
    "mat = [[1,2,3],[4,5,6],[7,8,9]]\n",
    "m_r=len(mat[:][:])\n",
    "n_c=len(mat[:][0])\n",
    "p_dia=[]\n",
    "s_dia=[]\n",
    "sum=0\n",
    "for row in range(m_r):\n",
    "    for col in range(n_c):\n",
    "        if row==col:\n",
    "            print(mat[row][col],mat[row][-(row+1)]) \n"
   ]
  },
  {
   "cell_type": "code",
   "execution_count": 69,
   "metadata": {},
   "outputs": [
    {
     "name": "stdout",
     "output_type": "stream",
     "text": [
      "25\n"
     ]
    }
   ],
   "source": [
    "mat = [[1,2,3],[4,5,6],[7,8,9]]\n",
    "m_r=len(mat[:][:])\n",
    "n_c=len(mat[:][0])\n",
    "\n",
    "p_dia = []\n",
    "s_dia = []\n",
    "\n",
    "for row in range(m_r):\n",
    "    p_dia.append(mat[row][row])\n",
    "    s_dia.append(mat[row][n_c - row - 1])\n",
    "\n",
    "# Remove the center if matrix is odd-sized\n",
    "k = len(p_dia)\n",
    "if k % 2 != 0:\n",
    "    p_dia.pop(k // 2)\n",
    "\n",
    "# Combine both diagonals (without double-counting the center)\n",
    "for i in range(len(s_dia)):\n",
    "    p_dia.append(s_dia[i])\n",
    "del sum\n",
    "print(sum(p_dia)) "
   ]
  },
  {
   "cell_type": "code",
   "execution_count": null,
   "metadata": {},
   "outputs": [
    {
     "name": "stdout",
     "output_type": "stream",
     "text": [
      "2\n",
      "2\n",
      "4\n"
     ]
    }
   ],
   "source": [
    "arr = [13,12,-12,9,9,16,7,-10,-20,0,18,-1,-20,-10,-8,15,15,16,2,15]\n",
    "ans=[]\n",
    "for i in range(len(arr)):\n",
    "    for j in range(i+1,len(arr)):\n",
    "        ans.append(abs(arr[i]-arr[j]))\n",
    "        print\n",
    "    \n",
    "res=len(ans)\n",
    "comp=len(set(ans))\n",
    "if res==comp:\n",
    "    return False\n",
    "else:\n",
    "    return True\n"
   ]
  },
  {
   "cell_type": "code",
   "execution_count": 12,
   "metadata": {},
   "outputs": [
    {
     "ename": "TypeError",
     "evalue": "'NoneType' object is not iterable",
     "output_type": "error",
     "traceback": [
      "\u001b[0;31m---------------------------------------------------------------------------\u001b[0m",
      "\u001b[0;31mTypeError\u001b[0m                                 Traceback (most recent call last)",
      "Cell \u001b[0;32mIn[12], line 5\u001b[0m\n\u001b[1;32m      2\u001b[0m sets\u001b[38;5;241m=\u001b[39m\u001b[38;5;28mlist\u001b[39m(\u001b[38;5;28mset\u001b[39m(nums))\n\u001b[1;32m      3\u001b[0m sets\n\u001b[0;32m----> 5\u001b[0m sets_2\u001b[38;5;241m=\u001b[39m\u001b[38;5;28mlist\u001b[39m(\u001b[38;5;28;43mset\u001b[39;49m\u001b[43m(\u001b[49m\u001b[43mnums\u001b[49m\u001b[38;5;241;43m.\u001b[39;49m\u001b[43msort\u001b[49m\u001b[43m(\u001b[49m\u001b[43mreverse\u001b[49m\u001b[38;5;241;43m=\u001b[39;49m\u001b[38;5;28;43;01mTrue\u001b[39;49;00m\u001b[43m)\u001b[49m\u001b[43m)\u001b[49m)\n\u001b[1;32m      6\u001b[0m sets_2\n",
      "\u001b[0;31mTypeError\u001b[0m: 'NoneType' object is not iterable"
     ]
    }
   ],
   "source": [
    "nums=[1,2,88,4,5]\n",
    "sets=list(set(nums))\n",
    "sets\n",
    "\n",
    "sets_2=list(set(nums.sort(reverse=True)))\n",
    "sets_2"
   ]
  },
  {
   "cell_type": "code",
   "execution_count": null,
   "metadata": {},
   "outputs": [
    {
     "data": {
      "text/plain": [
       "'sdfsdf'"
      ]
     },
     "execution_count": 17,
     "metadata": {},
     "output_type": "execute_result"
    }
   ],
   "source": [
    "a=\"sdFsdf\"\n",
    "r=\"\"\n",
    "for i in a:\n",
    "    if 65<=ord(i)<=90:\n",
    "        r+=chr(ord(i)+32)\n",
    "    else:\n",
    "        r+=i"
   ]
  },
  {
   "cell_type": "code",
   "execution_count": null,
   "metadata": {},
   "outputs": [
    {
     "data": {
      "text/plain": [
       "[1, 1]"
      ]
     },
     "execution_count": 21,
     "metadata": {},
     "output_type": "execute_result"
    }
   ],
   "source": [
    "moves=\"LDRRLRUULR\"\n",
    "res=[]\n",
    "for i in moves:\n",
    "    if i==\"U\":\n",
    "        res.append([0,1])\n",
    "    elif i==\"D\":\n",
    "        res.append([0,-1])\n",
    "    elif i==\"L\":\n",
    "        res.append([-1,0])\n",
    "    else:\n",
    "        res.append([1,0])\n",
    "x_sum=sum(res[0] for step in res)\n",
    "y_sum=sum(res[1] for step in res)\n",
    "return x_sum==0 and y_sum==0\n",
    "    "
   ]
  },
  {
   "cell_type": "code",
   "execution_count": null,
   "metadata": {},
   "outputs": [
    {
     "name": "stdout",
     "output_type": "stream",
     "text": [
      "('SADF', 'ASDFA')\n"
     ]
    }
   ],
   "source": [
    "import os\n",
    "def renameFile(newName, oldName):\n",
    "    \n",
    "    newName\n",
    "    \n",
    "\n",
    "    return newName,oldName\n",
    "    # Write your code here\n",
    "    \n",
    "\n",
    "if __name__ == '__main__':\n",
    "    newName = input()\n",
    "\n",
    "    oldName = input()\n",
    "\n",
    "    result = renameFile(newName, oldName)\n",
    "    print(result)\n",
    "\n"
   ]
  },
  {
   "cell_type": "code",
   "execution_count": 1,
   "metadata": {},
   "outputs": [
    {
     "ename": "NameError",
     "evalue": "name 'newName' is not defined",
     "output_type": "error",
     "traceback": [
      "\u001b[0;31m---------------------------------------------------------------------------\u001b[0m",
      "\u001b[0;31mNameError\u001b[0m                                 Traceback (most recent call last)",
      "Cell \u001b[0;32mIn[1], line 1\u001b[0m\n\u001b[0;32m----> 1\u001b[0m m,n\u001b[38;5;241m=\u001b[39m\u001b[38;5;28mlen\u001b[39m(\u001b[43mnewName\u001b[49m),\u001b[38;5;28mlen\u001b[39m(oldName)\n\u001b[1;32m      2\u001b[0m \u001b[38;5;28;01mdef\u001b[39;00m\u001b[38;5;250m \u001b[39m\u001b[38;5;21mrec\u001b[39m(i,j):\n\u001b[1;32m      3\u001b[0m     \u001b[38;5;28;01mif\u001b[39;00m j\u001b[38;5;241m>\u001b[39m\u001b[38;5;241m=\u001b[39mn:\n",
      "\u001b[0;31mNameError\u001b[0m: name 'newName' is not defined"
     ]
    }
   ],
   "source": [
    "m,n=len(newName),len(oldName)\n",
    "def rec(i,j):\n",
    "    if j>=n:\n",
    "        return 1\n",
    "    if i>=m:\n",
    "        return 0\n",
    "    count=rec(i+1,j)\n",
    "    if s[i]==t[j]:\n",
    "        count+=rec"
   ]
  },
  {
   "cell_type": "code",
   "execution_count": 18,
   "metadata": {},
   "outputs": [
    {
     "data": {
      "text/plain": [
       "0"
      ]
     },
     "execution_count": 18,
     "metadata": {},
     "output_type": "execute_result"
    }
   ],
   "source": [
    "class Solution(object):\n",
    "    def islandPerimeter(self, grid):\n",
    "        \"\"\"\n",
    "        :type grid: List[List[int]]\n",
    "        :rtype: int\n",
    "        \"\"\"\n",
    "        res=[]\n",
    "        if len(grid)==1:\n",
    "            if grid[0][0]==1:\n",
    "                return 4\n",
    "            else:\n",
    "                return 0\n",
    "        else:\n",
    "            for row in range(len(grid)):\n",
    "                for col in range(len(grid[:][0])):\n",
    "                    if grid[row][col]==1 and grid[row][col-1]!=1:\n",
    "                        res.append(1)\n",
    "                    if grid[row][col]==1 and grid[row][col+1]!=1:\n",
    "                        res.append(1)\n",
    "                    if grid[row][col]==1 and grid[row][col-1]!=1:\n",
    "                        res.append(1)\n",
    "                    if grid[row][col]==1 and grid[row][col-1]!=1:\n",
    "                        res.append(1)\n",
    "                    print(grid[row][col])\n",
    "                print(\"\\n\")\n",
    "            return sum(res)\n",
    "new_o=Solution()\n",
    "new_o.islandPerimeter([[0,1]])"
   ]
  },
  {
   "cell_type": "code",
   "execution_count": 28,
   "metadata": {},
   "outputs": [
    {
     "name": "stdout",
     "output_type": "stream",
     "text": [
      "a: [[0, 0], [1, 1], [2, 2]]\n",
      "b: [[2, 0], [2, 1]]\n"
     ]
    },
    {
     "ename": "IndexError",
     "evalue": "list index out of range",
     "output_type": "error",
     "traceback": [
      "\u001b[0;31m---------------------------------------------------------------------------\u001b[0m",
      "\u001b[0;31mIndexError\u001b[0m                                Traceback (most recent call last)",
      "Cell \u001b[0;32mIn[28], line 15\u001b[0m\n\u001b[1;32m     13\u001b[0m \u001b[38;5;28;01mfor\u001b[39;00m i \u001b[38;5;129;01min\u001b[39;00m \u001b[38;5;28mrange\u001b[39m(\u001b[38;5;28mlen\u001b[39m(grid)):\n\u001b[1;32m     14\u001b[0m     \u001b[38;5;28;01mfor\u001b[39;00m j \u001b[38;5;129;01min\u001b[39;00m \u001b[38;5;28mrange\u001b[39m(\u001b[38;5;28mlen\u001b[39m(grid[\u001b[38;5;241m0\u001b[39m])):\n\u001b[0;32m---> 15\u001b[0m         grid[a[i][j]][a[i][j]]\u001b[38;5;241m=\u001b[39m\u001b[38;5;124m\"\u001b[39m\u001b[38;5;124mx\u001b[39m\u001b[38;5;124m\"\u001b[39m\n\u001b[1;32m     16\u001b[0m         grid[b[i][j]][b[i][j]]\u001b[38;5;241m=\u001b[39m\u001b[38;5;124m\"\u001b[39m\u001b[38;5;124m--\u001b[39m\u001b[38;5;124m\"\u001b[39m\n\u001b[1;32m     18\u001b[0m \u001b[38;5;28mprint\u001b[39m(grid)\n",
      "\u001b[0;31mIndexError\u001b[0m: list index out of range"
     ]
    }
   ],
   "source": [
    "grid=[[0,0,0],[0,0,0],[0,0,0]]\n",
    "moves=[[0,0],[2,0],[1,1],[2,1],[2,2]]\n",
    "count=0\n",
    "a,b=[],[]\n",
    "for i in moves:\n",
    "    if count%2==0:\n",
    "        a.append(i)\n",
    "    else:\n",
    "        b.append(i)\n",
    "    count+=1\n",
    "print(\"a:\",a)\n",
    "print(\"b:\",b)\n",
    "for i in range(len(grid)):\n",
    "    for j in range(len(grid[0])):\n",
    "        grid[a[i][j]][a[i][j]]=\"x\"\n",
    "        grid[b[i][j]][b[i][j]]=\"--\"\n",
    "\n",
    "print(grid)"
   ]
  },
  {
   "cell_type": "code",
   "execution_count": null,
   "metadata": {},
   "outputs": [
    {
     "name": "stdout",
     "output_type": "stream",
     "text": [
      "A\n",
      "0\n",
      "0\n",
      "\n",
      "\n",
      "0\n",
      "A\n",
      "0\n",
      "\n",
      "\n",
      "B\n",
      "B\n",
      "A\n",
      "\n",
      "\n"
     ]
    }
   ],
   "source": [
    "grid=[[0,0,0],[0,0,0],[0,0,0]]\n",
    "moves=[[0,0],[2,0],[1,1],[2,1],[2,2]]\n",
    "count=0\n",
    "for i, j in moves:\n",
    "    if count%2==0:\n",
    "        grid[i][j]=\"A\"\n",
    "    else:\n",
    "         grid[i][j]=\"B\"\n",
    "    count+=1\n",
    "    \n",
    "for i in range(len(grid)):\n",
    "    for j in range(len(grid[0])):\n",
    "            print(grid[i][j])\n",
    "    print(\"\\n\")"
   ]
  },
  {
   "cell_type": "code",
   "execution_count": null,
   "metadata": {},
   "outputs": [],
   "source": []
  }
 ],
 "metadata": {
  "kernelspec": {
   "display_name": "base",
   "language": "python",
   "name": "python3"
  },
  "language_info": {
   "codemirror_mode": {
    "name": "ipython",
    "version": 3
   },
   "file_extension": ".py",
   "mimetype": "text/x-python",
   "name": "python",
   "nbconvert_exporter": "python",
   "pygments_lexer": "ipython3",
   "version": "3.12.7"
  }
 },
 "nbformat": 4,
 "nbformat_minor": 2
}
