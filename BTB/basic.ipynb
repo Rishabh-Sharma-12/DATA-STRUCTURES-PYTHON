{
 "cells": [
  {
   "cell_type": "code",
   "execution_count": null,
   "id": "0c6521bb",
   "metadata": {},
   "outputs": [
    {
     "name": "stdout",
     "output_type": "stream",
     "text": [
      "['t', 'o', 't', 'o', 'y']\n",
      "['t', 'o', 't', 'o', 'y']\n"
     ]
    }
   ],
   "source": [
    "# ----------------------------------------------------------\n",
    "# 1. Using range() and manual loop\n",
    "# ----------------------------------------------------------\n",
    "\n",
    "#dont use string concatination-(o(n^2))\n",
    "\n",
    "#1-range() function\n",
    "string=list(\"hello\")\n",
    "reversed=[]\n",
    "for i in range(len(string)-1,-1,-1):\n",
    "    reversed.append(string[i])\n",
    "new=\"\".join(reversed)\n",
    "new\n",
    "#range will only guide value of i so it will start from \n",
    "\n",
    "# range(4,-1,-1)->string[4],string[3],string[2],string[1],string[0],will stop -1 is not inclusive\n",
    "\n",
    "# Time Complexity: O(n) -> loop runs once per character\n",
    "# Space Complexity: O(n) -> new list + joined string\n",
    "# Best Case: Always O(n), because we must check every character\n",
    "# Edge Cases:\n",
    "#   - Empty string \"\" -> returns \"\"\n",
    "#   - Single character \"a\" -> returns \"a\"\n",
    "#   - String with spaces \"ab cd\" -> still works fine (\"dc ba\")\n",
    "#   - Palindrome \"madam\" -> still reversed correctly (\"madam\")\n",
    "#   - Unicode characters \"héllo\" -> works fine, because Python handles Unicode\n",
    "\n",
    "\n",
    "# ----------------------------------------------------------\n",
    "# 2. Using slicing (Pythonic way)\n",
    "# ----------------------------------------------------------\n",
    "string_2=list(\"yotot\")\n",
    "print(string_2[::-1])\n",
    "\n",
    "# Time Complexity: O(n) -> slicing creates a reversed copy\n",
    "# Space Complexity: O(n) -> new list/string is created\n",
    "# Best Case: Always O(n)\n",
    "# Edge Cases:\n",
    "#   - Empty string -> []\n",
    "#   - Single character -> ['y']\n",
    "#   - Works seamlessly with any data type inside list, including Unicode\n",
    "#   - Very clean and readable, but less \"algorithmic\"\n",
    "\n",
    "# ----------------------------------------------------------\n",
    "# 3. Two-pointer approach (in-place reversal)\n",
    "# ----------------------------------------------------------\n",
    "left=0\n",
    "right=len(string_2)-1\n",
    "while(left<right):\n",
    "    string_2[left],string_2[right]=string_2[right],string_2[left]\n",
    "    left+=1\n",
    "    right-=1\n",
    "print(string_2)\n",
    "# Time Complexity: O(n) -> each element swapped at most once\n",
    "# Space Complexity: O(1) -> done in-place, no extra storage except a few variables\n",
    "# Best Case: O(1) if string length <= 1 (no swaps needed)\n",
    "# Worst Case: O(n) for longer strings\n",
    "# Edge Cases:\n",
    "#   - Empty string -> nothing happens\n",
    "#   - Single character -> no swaps, string stays the same\n",
    "#   - Odd-length strings (like \"yotot\") -> middle element stays in place\n",
    "#   - Even-length strings (like \"abcd\") -> pairs are swapped correctly\n",
    "#   - Works best for arrays/lists; for Python strings you must first convert to list\n"
   ]
  },
  {
   "cell_type": "code",
   "execution_count": null,
   "id": "815bef42",
   "metadata": {},
   "outputs": [
    {
     "name": "stdout",
     "output_type": "stream",
     "text": [
      "False\n",
      "False\n"
     ]
    }
   ],
   "source": [
    "#Check for Palindrome\n",
    "# o(n)\n",
    "s = \"adba\"\n",
    "if s==s[::-1]:\n",
    "    print(True)\n",
    "else:\n",
    "    print(False)\n",
    "    \n",
    "#two pointer approach\n",
    "#best as the space complexity is 0(1)\n",
    "left=0\n",
    "right=len(s)-1\n",
    "pall=True\n",
    "while left<right:\n",
    "    if s[right]!=s[left]:\n",
    "        pall=False\n",
    "        break\n",
    "    else:\n",
    "        pass\n",
    "    left+=1\n",
    "    right-=1\n",
    "print(pall)\n"
   ]
  },
  {
   "cell_type": "code",
   "execution_count": 23,
   "id": "0727696a",
   "metadata": {},
   "outputs": [
    {
     "name": "stdout",
     "output_type": "stream",
     "text": [
      "91999\n"
     ]
    }
   ],
   "source": [
    "# Find the Maximum Element in an Array\n",
    "list_numb=[1,91999,3,4,5]\n",
    "max_elemnt=list_numb[0]\n",
    "for i in list_numb:\n",
    "    if i>max_elemnt:\n",
    "        max_elemnt=i\n",
    "print(max_elemnt)"
   ]
  },
  {
   "cell_type": "code",
   "execution_count": null,
   "id": "9ce38f13",
   "metadata": {},
   "outputs": [],
   "source": []
  }
 ],
 "metadata": {
  "kernelspec": {
   "display_name": "base",
   "language": "python",
   "name": "python3"
  },
  "language_info": {
   "codemirror_mode": {
    "name": "ipython",
    "version": 3
   },
   "file_extension": ".py",
   "mimetype": "text/x-python",
   "name": "python",
   "nbconvert_exporter": "python",
   "pygments_lexer": "ipython3",
   "version": "3.12.7"
  }
 },
 "nbformat": 4,
 "nbformat_minor": 5
}
