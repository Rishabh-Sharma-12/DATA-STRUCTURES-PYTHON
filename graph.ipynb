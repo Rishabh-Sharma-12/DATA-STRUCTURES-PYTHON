{
 "cells": [
  {
   "cell_type": "code",
   "execution_count": null,
   "id": "f3d7bb9e",
   "metadata": {},
   "outputs": [
    {
     "name": "stdout",
     "output_type": "stream",
     "text": [
      "(1, [2, 3, 0])\n",
      "(2, [1, 3])\n",
      "(3, [2, 1])\n",
      "(0, [1])\n"
     ]
    }
   ],
   "source": [
    "class UND_Graph:\n",
    "    def __init__(self):\n",
    "        self.graph={}\n",
    "        \n",
    "    def add_elemnts(self,u,v):\n",
    "        if u not in self.graph:\n",
    "            self.graph[u]=[]\n",
    "        if v not in self.graph:\n",
    "            self.graph[v]=[]\n",
    "        self.graph[u].append(v)\n",
    "        self.graph[v].append(u)\n",
    "        \n",
    "    def display(self):\n",
    "        for i in self.graph.items():\n",
    "            print(i)\n",
    "\n",
    "obj=UND_Graph()\n",
    "obj.add_elemnts(1,2)\n",
    "obj.add_elemnts(2,3)\n",
    "obj.add_elemnts(1,3)\n",
    "obj.add_elemnts(0,1)\n",
    "obj.display()"
   ]
  },
  {
   "cell_type": "code",
   "execution_count": 13,
   "id": "92dff4c8",
   "metadata": {},
   "outputs": [
    {
     "name": "stdout",
     "output_type": "stream",
     "text": [
      "(1, [(2, 1), (3, 2), (0, 1)])\n",
      "(2, [(1, 1), (3, 3)])\n",
      "(3, [(2, 3), (1, 2)])\n",
      "(0, [(1, 1)])\n"
     ]
    }
   ],
   "source": [
    "class WTED_Graph:\n",
    "    def __init__(self,directed=False):\n",
    "        self.graph={}\n",
    "        self.directed=directed\n",
    "        \n",
    "    def add_elemnts(self,u,v,w):\n",
    "        if u not in self.graph:\n",
    "            self.graph[u]=[]\n",
    "        if v not in self.graph:\n",
    "            self.graph[v]=[]\n",
    "        \n",
    "        self.graph[u].append((v,w))\n",
    "        \n",
    "        if not self.directed:\n",
    "            self.graph[v].append((u,w))\n",
    "            \n",
    "        \n",
    "    def display(self):\n",
    "        for i in self.graph.items():\n",
    "            print(i)\n",
    "\n",
    "obj=WTED_Graph()\n",
    "obj.add_elemnts(1,2,1)\n",
    "obj.add_elemnts(2,3,3)\n",
    "obj.add_elemnts(1,3,2)\n",
    "obj.add_elemnts(0,1,1)\n",
    "obj.display()"
   ]
  },
  {
   "cell_type": "code",
   "execution_count": 14,
   "id": "062a42c0",
   "metadata": {},
   "outputs": [
    {
     "name": "stdout",
     "output_type": "stream",
     "text": [
      "(1, [2, 3])\n",
      "(2, [3])\n",
      "(3, [])\n",
      "(0, [1])\n"
     ]
    }
   ],
   "source": [
    "class D_Graph:\n",
    "    def __init__(self):\n",
    "        self.graph={}\n",
    "        \n",
    "    def add_elemnts(self,u,v):\n",
    "        if u not in self.graph:\n",
    "            self.graph[u]=[]\n",
    "        if v not in self.graph:\n",
    "            self.graph[v]=[]\n",
    "        self.graph[u].append(v)\n",
    "        \n",
    "    def display(self):\n",
    "        for i in self.graph.items():\n",
    "            print(i)\n",
    "\n",
    "obj=D_Graph()\n",
    "obj.add_elemnts(1,2)\n",
    "obj.add_elemnts(2,3)\n",
    "obj.add_elemnts(1,3)\n",
    "obj.add_elemnts(0,1)\n",
    "obj.display()"
   ]
  },
  {
   "cell_type": "code",
   "execution_count": 15,
   "id": "93461d96",
   "metadata": {},
   "outputs": [
    {
     "name": "stdout",
     "output_type": "stream",
     "text": [
      "[0, 1, 1, 1, 1, 0]\n",
      "[1, 0, 0, 1, 0, 0]\n",
      "[1, 0, 0, 1, 1, 1]\n",
      "[1, 1, 1, 0, 0, 1]\n",
      "[1, 0, 1, 0, 0, 0]\n",
      "[0, 0, 1, 1, 0, 0]\n"
     ]
    }
   ],
   "source": [
    "ipt=[[0,1],[0,2],[0,3],[0,4],[1,3],[2,3],[2,4],[2,5],[3,5]]\n",
    "n=6\n",
    "mg=[]\n",
    "for i in range(n):\n",
    "    temp=[]\n",
    "    for j in range(n):\n",
    "        temp.append(0)\n",
    "    mg.append(temp)\n",
    "for (u,v) in ipt:\n",
    "    mg[u][v]=1\n",
    "    mg[v][u]=1\n",
    "for item in mg:\n",
    "    print(item)\n"
   ]
  },
  {
   "cell_type": "code",
   "execution_count": 16,
   "id": "b0e826d2",
   "metadata": {},
   "outputs": [
    {
     "name": "stdout",
     "output_type": "stream",
     "text": [
      "(0, [1, 2, 3, 4])\n",
      "(1, [0, 3])\n",
      "(2, [0, 3, 4, 5])\n",
      "(3, [0, 1, 2, 5])\n",
      "(4, [0, 2])\n",
      "(5, [2, 3])\n"
     ]
    }
   ],
   "source": [
    "ipt=[[0,1],[0,2],[0,3],[0,4],[1,3],[2,3],[2,4],[2,5],[3,5]]\n",
    "graph={}\n",
    "for i in range(6):\n",
    "    graph[i]=[]\n",
    "for (u,v) in ipt:\n",
    "    if u in graph:\n",
    "        graph[u].append(v)\n",
    "        graph[v].append(u)\n",
    "\n",
    "for i in graph.items():\n",
    "    print(i)"
   ]
  },
  {
   "cell_type": "code",
   "execution_count": 21,
   "id": "7d0c28f1",
   "metadata": {},
   "outputs": [
    {
     "name": "stdout",
     "output_type": "stream",
     "text": [
      "(0, [1, 2, 3, 4])\n",
      "(1, [0, 3])\n",
      "(2, [0, 3, 4, 5])\n",
      "(3, [0, 1, 2, 5])\n",
      "(4, [0, 2])\n",
      "(5, [2, 3])\n",
      "0\n",
      "1\n",
      "3\n",
      "2\n",
      "4\n",
      "5\n",
      "[0, 1, 3, 2, 4, 5]\n"
     ]
    }
   ],
   "source": [
    "ipt=[[0,1],[0,2],[0,3],[0,4],[1,3],[2,3],[2,4],[2,5],[3,5]]\n",
    "graph={}\n",
    "for u,v in (ipt):\n",
    "    if u not in graph:\n",
    "        graph[u]=[]\n",
    "    if v not in graph:\n",
    "        graph[v]=[]\n",
    "    graph[u].append(v)\n",
    "    graph[v].append(u)\n",
    "    \n",
    "for i in graph.items():\n",
    "    print(i)\n",
    "    \n",
    "def dfs(graph,visited,node,ans):\n",
    "    if node in visited:\n",
    "        return\n",
    "    print(node)\n",
    "    visited.add(node)\n",
    "    ans.append(node)\n",
    "    for neighbour in graph[node]:\n",
    "        dfs(graph,visited,neighbour,ans)\n",
    "\n",
    "visited=set()\n",
    "ans=[]\n",
    "dfs(graph,visited,0,ans)\n",
    "print(ans)\n"
   ]
  },
  {
   "cell_type": "code",
   "execution_count": null,
   "id": "9b9aeed8",
   "metadata": {},
   "outputs": [],
   "source": []
  }
 ],
 "metadata": {
  "kernelspec": {
   "display_name": "base",
   "language": "python",
   "name": "python3"
  },
  "language_info": {
   "codemirror_mode": {
    "name": "ipython",
    "version": 3
   },
   "file_extension": ".py",
   "mimetype": "text/x-python",
   "name": "python",
   "nbconvert_exporter": "python",
   "pygments_lexer": "ipython3",
   "version": "3.12.7"
  }
 },
 "nbformat": 4,
 "nbformat_minor": 5
}
